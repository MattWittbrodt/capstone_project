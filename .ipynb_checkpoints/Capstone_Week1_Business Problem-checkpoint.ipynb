{
 "cells": [
  {
   "cell_type": "markdown",
   "metadata": {},
   "source": [
    "# Capstone Business Problem - Week 2\n",
    "\n",
    "### Applied Data Science Capstone by IBM/Coursera"
   ]
  },
  {
   "cell_type": "markdown",
   "metadata": {},
   "source": [
    "## Introduction/Business Problem"
   ]
  },
  {
   "cell_type": "markdown",
   "metadata": {},
   "source": [
    "I am a huge connoisseur of coffee, and have always harbored a pipe dream of opening a coffee shop focused on simple, but elevated coffee. The suggested prompt for the assignment got me thinking about where could I open a coffee shop in the city of Atlanta, where I live. Atlanta has some decent coffee, especially within the city limits. However, there are some areas which are devoid of good coffee and therefore could be a good location to open a shop.  "
   ]
  },
  {
   "cell_type": "markdown",
   "metadata": {},
   "source": [
    "For those who have never visited, Atlanta is a vast city with three major counties: Fulton, Cobb, and Dekalb. Because I cannot find any database regarding the actual suburbs of Atlanta, I'm going to focus on the different Zip codes within the city."
   ]
  },
  {
   "cell_type": "markdown",
   "metadata": {},
   "source": [
    "Therefore, **my business problem is**: Where is the best place to open a coffee shop in metro Atlanta?"
   ]
  },
  {
   "cell_type": "markdown",
   "metadata": {},
   "source": [
    "## Atlanta actually provides really nice documentation about all of the 244 official neighborhoods, so I am simply going to use that."
   ]
  },
  {
   "cell_type": "code",
   "execution_count": 1,
   "metadata": {},
   "outputs": [],
   "source": [
    "import requests\n",
    "import pandas as pd\n",
    "import numpy as np\n",
    "import geocoder"
   ]
  },
  {
   "cell_type": "code",
   "execution_count": 208,
   "metadata": {},
   "outputs": [],
   "source": [
    "import math\n",
    "\n",
    "# Read in CSV\n",
    "d = pd.read_csv('atl_neighborhoods.csv')[['NAME','SQMILES']]\n",
    "\n",
    "### Need to add 'GA' for location search\n",
    "d['NAME'] = d['NAME'] + ', Atlanta, GA'"
   ]
  },
  {
   "cell_type": "markdown",
   "metadata": {},
   "source": [
    "### Secondly, I want to constrain the Foursquare search to only the neighborhood, so I am computing a customized radius based on the square miles for each neighborhood."
   ]
  },
  {
   "cell_type": "code",
   "execution_count": 210,
   "metadata": {},
   "outputs": [
    {
     "name": "stdout",
     "output_type": "stream",
     "text": [
      "The custom radius calculation had a minimum distance of 128.4121797108404m and maximum of 1575.3406071902102m\n"
     ]
    },
    {
     "data": {
      "text/html": [
       "<div>\n",
       "<style scoped>\n",
       "    .dataframe tbody tr th:only-of-type {\n",
       "        vertical-align: middle;\n",
       "    }\n",
       "\n",
       "    .dataframe tbody tr th {\n",
       "        vertical-align: top;\n",
       "    }\n",
       "\n",
       "    .dataframe thead th {\n",
       "        text-align: right;\n",
       "    }\n",
       "</style>\n",
       "<table border=\"1\" class=\"dataframe\">\n",
       "  <thead>\n",
       "    <tr style=\"text-align: right;\">\n",
       "      <th></th>\n",
       "      <th>NAME</th>\n",
       "      <th>SQMILES</th>\n",
       "      <th>RADIUS</th>\n",
       "    </tr>\n",
       "  </thead>\n",
       "  <tbody>\n",
       "    <tr>\n",
       "      <th>0</th>\n",
       "      <td>Atlanta University Center, Atlanta, GA</td>\n",
       "      <td>0.52</td>\n",
       "      <td>654.776210</td>\n",
       "    </tr>\n",
       "    <tr>\n",
       "      <th>1</th>\n",
       "      <td>Hunter Hills, Atlanta, GA</td>\n",
       "      <td>0.50</td>\n",
       "      <td>642.060899</td>\n",
       "    </tr>\n",
       "    <tr>\n",
       "      <th>2</th>\n",
       "      <td>Bankhead, Atlanta, GA</td>\n",
       "      <td>0.65</td>\n",
       "      <td>732.062058</td>\n",
       "    </tr>\n",
       "    <tr>\n",
       "      <th>3</th>\n",
       "      <td>English Avenue, Atlanta, GA</td>\n",
       "      <td>0.81</td>\n",
       "      <td>817.210108</td>\n",
       "    </tr>\n",
       "    <tr>\n",
       "      <th>4</th>\n",
       "      <td>Adair Park, Atlanta, GA</td>\n",
       "      <td>0.45</td>\n",
       "      <td>609.112451</td>\n",
       "    </tr>\n",
       "  </tbody>\n",
       "</table>\n",
       "</div>"
      ],
      "text/plain": [
       "                                     NAME  SQMILES      RADIUS\n",
       "0  Atlanta University Center, Atlanta, GA     0.52  654.776210\n",
       "1               Hunter Hills, Atlanta, GA     0.50  642.060899\n",
       "2                   Bankhead, Atlanta, GA     0.65  732.062058\n",
       "3             English Avenue, Atlanta, GA     0.81  817.210108\n",
       "4                 Adair Park, Atlanta, GA     0.45  609.112451"
      ]
     },
     "execution_count": 210,
     "metadata": {},
     "output_type": "execute_result"
    }
   ],
   "source": [
    "custom_radius = []\n",
    "for ii in range(len(d)):\n",
    "    #print(d.loc[ii,'SQMILES'])\n",
    "    custom_radius.append(math.sqrt(d.loc[ii,'SQMILES']/3.14)*1609) #conversion from miles to meters\n",
    "\n",
    "d['RADIUS'] = custom_radius\n",
    "\n",
    "print('The custom radius calculation had a minimum distance of {}m and maximum of {}m'.format(min(d['RADIUS']), max(d['RADIUS'])))\n",
    "\n",
    "d.head()"
   ]
  },
  {
   "cell_type": "markdown",
   "metadata": {},
   "source": [
    "### This function takes a neighborhood and, using geocoder, finds the associated latitutde and longitude of the centroid"
   ]
  },
  {
   "cell_type": "code",
   "execution_count": 3,
   "metadata": {},
   "outputs": [],
   "source": [
    "def get_lat_long(name):\n",
    "    \n",
    "    # Returning search for zipcode\n",
    "    g = geocoder.arcgis(name)\n",
    "    \n",
    "    # Latitude\n",
    "    lati = g.lat\n",
    "    \n",
    "    # Longitude\n",
    "    longi = g.lng\n",
    "    \n",
    "    return(lati,longi)"
   ]
  },
  {
   "cell_type": "markdown",
   "metadata": {},
   "source": [
    "### Add longitude and latitutde to dataframe"
   ]
  },
  {
   "cell_type": "code",
   "execution_count": 212,
   "metadata": {},
   "outputs": [
    {
     "ename": "KeyboardInterrupt",
     "evalue": "",
     "output_type": "error",
     "traceback": [
      "\u001b[1;31m---------------------------------------------------------------------------\u001b[0m",
      "\u001b[1;31mKeyboardInterrupt\u001b[0m                         Traceback (most recent call last)",
      "\u001b[1;32m<ipython-input-212-aa7b4e5ae13d>\u001b[0m in \u001b[0;36m<module>\u001b[1;34m\u001b[0m\n\u001b[0;32m      3\u001b[0m \u001b[1;33m\u001b[0m\u001b[0m\n\u001b[0;32m      4\u001b[0m \u001b[1;32mfor\u001b[0m \u001b[0mn\u001b[0m \u001b[1;32min\u001b[0m \u001b[0md\u001b[0m\u001b[1;33m[\u001b[0m\u001b[1;34m'NAME'\u001b[0m\u001b[1;33m]\u001b[0m\u001b[1;33m:\u001b[0m\u001b[1;33m\u001b[0m\u001b[1;33m\u001b[0m\u001b[0m\n\u001b[1;32m----> 5\u001b[1;33m     \u001b[0mlati\u001b[0m\u001b[1;33m,\u001b[0m\u001b[0mlongi\u001b[0m \u001b[1;33m=\u001b[0m \u001b[0mget_lat_long\u001b[0m\u001b[1;33m(\u001b[0m\u001b[0mn\u001b[0m\u001b[1;33m)\u001b[0m\u001b[1;33m\u001b[0m\u001b[1;33m\u001b[0m\u001b[0m\n\u001b[0m\u001b[0;32m      6\u001b[0m \u001b[1;33m\u001b[0m\u001b[0m\n\u001b[0;32m      7\u001b[0m     \u001b[0mlat_lookup\u001b[0m\u001b[1;33m.\u001b[0m\u001b[0mappend\u001b[0m\u001b[1;33m(\u001b[0m\u001b[0mlati\u001b[0m\u001b[1;33m)\u001b[0m\u001b[1;33m\u001b[0m\u001b[1;33m\u001b[0m\u001b[0m\n",
      "\u001b[1;32m<ipython-input-3-27c188338626>\u001b[0m in \u001b[0;36mget_lat_long\u001b[1;34m(name)\u001b[0m\n\u001b[0;32m      2\u001b[0m \u001b[1;33m\u001b[0m\u001b[0m\n\u001b[0;32m      3\u001b[0m     \u001b[1;31m# Returning search for zipcode\u001b[0m\u001b[1;33m\u001b[0m\u001b[1;33m\u001b[0m\u001b[1;33m\u001b[0m\u001b[0m\n\u001b[1;32m----> 4\u001b[1;33m     \u001b[0mg\u001b[0m \u001b[1;33m=\u001b[0m \u001b[0mgeocoder\u001b[0m\u001b[1;33m.\u001b[0m\u001b[0marcgis\u001b[0m\u001b[1;33m(\u001b[0m\u001b[0mname\u001b[0m\u001b[1;33m)\u001b[0m\u001b[1;33m\u001b[0m\u001b[1;33m\u001b[0m\u001b[0m\n\u001b[0m\u001b[0;32m      5\u001b[0m \u001b[1;33m\u001b[0m\u001b[0m\n\u001b[0;32m      6\u001b[0m     \u001b[1;31m# Latitude\u001b[0m\u001b[1;33m\u001b[0m\u001b[1;33m\u001b[0m\u001b[1;33m\u001b[0m\u001b[0m\n",
      "\u001b[1;32mC:\\ProgramData\\Anaconda3\\lib\\site-packages\\geocoder\\api.py\u001b[0m in \u001b[0;36marcgis\u001b[1;34m(location, **kwargs)\u001b[0m\n\u001b[0;32m    396\u001b[0m     \u001b[1;33m:\u001b[0m\u001b[0mparam\u001b[0m\u001b[0;31m \u001b[0m\u001b[0;31m`\u001b[0m\u001b[0;31m`\u001b[0m\u001b[0mlocation\u001b[0m\u001b[0;31m`\u001b[0m\u001b[0;31m`\u001b[0m\u001b[1;33m:\u001b[0m \u001b[0mYour\u001b[0m \u001b[0msearch\u001b[0m \u001b[0mlocation\u001b[0m \u001b[0myou\u001b[0m \u001b[0mwant\u001b[0m \u001b[0mgeocoded\u001b[0m\u001b[1;33m.\u001b[0m\u001b[1;33m\u001b[0m\u001b[1;33m\u001b[0m\u001b[0m\n\u001b[0;32m    397\u001b[0m     \"\"\"\n\u001b[1;32m--> 398\u001b[1;33m     \u001b[1;32mreturn\u001b[0m \u001b[0mget\u001b[0m\u001b[1;33m(\u001b[0m\u001b[0mlocation\u001b[0m\u001b[1;33m,\u001b[0m \u001b[0mprovider\u001b[0m\u001b[1;33m=\u001b[0m\u001b[1;34m'arcgis'\u001b[0m\u001b[1;33m,\u001b[0m \u001b[1;33m**\u001b[0m\u001b[0mkwargs\u001b[0m\u001b[1;33m)\u001b[0m\u001b[1;33m\u001b[0m\u001b[1;33m\u001b[0m\u001b[0m\n\u001b[0m\u001b[0;32m    399\u001b[0m \u001b[1;33m\u001b[0m\u001b[0m\n\u001b[0;32m    400\u001b[0m \u001b[1;33m\u001b[0m\u001b[0m\n",
      "\u001b[1;32mC:\\ProgramData\\Anaconda3\\lib\\site-packages\\geocoder\\api.py\u001b[0m in \u001b[0;36mget\u001b[1;34m(location, **kwargs)\u001b[0m\n\u001b[0;32m    196\u001b[0m         \u001b[1;32mif\u001b[0m \u001b[0mmethod\u001b[0m \u001b[1;32mnot\u001b[0m \u001b[1;32min\u001b[0m \u001b[0moptions\u001b[0m\u001b[1;33m[\u001b[0m\u001b[0mprovider\u001b[0m\u001b[1;33m]\u001b[0m\u001b[1;33m:\u001b[0m\u001b[1;33m\u001b[0m\u001b[1;33m\u001b[0m\u001b[0m\n\u001b[0;32m    197\u001b[0m             \u001b[1;32mraise\u001b[0m \u001b[0mValueError\u001b[0m\u001b[1;33m(\u001b[0m\u001b[1;34m\"Invalid method\"\u001b[0m\u001b[1;33m)\u001b[0m\u001b[1;33m\u001b[0m\u001b[1;33m\u001b[0m\u001b[0m\n\u001b[1;32m--> 198\u001b[1;33m     \u001b[1;32mreturn\u001b[0m \u001b[0moptions\u001b[0m\u001b[1;33m[\u001b[0m\u001b[0mprovider\u001b[0m\u001b[1;33m]\u001b[0m\u001b[1;33m[\u001b[0m\u001b[0mmethod\u001b[0m\u001b[1;33m]\u001b[0m\u001b[1;33m(\u001b[0m\u001b[0mlocation\u001b[0m\u001b[1;33m,\u001b[0m \u001b[1;33m**\u001b[0m\u001b[0mkwargs\u001b[0m\u001b[1;33m)\u001b[0m\u001b[1;33m\u001b[0m\u001b[1;33m\u001b[0m\u001b[0m\n\u001b[0m\u001b[0;32m    199\u001b[0m \u001b[1;33m\u001b[0m\u001b[0m\n\u001b[0;32m    200\u001b[0m \u001b[1;33m\u001b[0m\u001b[0m\n",
      "\u001b[1;32mC:\\ProgramData\\Anaconda3\\lib\\site-packages\\geocoder\\base.py\u001b[0m in \u001b[0;36m__init__\u001b[1;34m(self, location, **kwargs)\u001b[0m\n\u001b[0;32m    408\u001b[0m \u001b[1;33m\u001b[0m\u001b[0m\n\u001b[0;32m    409\u001b[0m         \u001b[1;31m# query and parse results\u001b[0m\u001b[1;33m\u001b[0m\u001b[1;33m\u001b[0m\u001b[1;33m\u001b[0m\u001b[0m\n\u001b[1;32m--> 410\u001b[1;33m         \u001b[0mself\u001b[0m\u001b[1;33m.\u001b[0m\u001b[0m_initialize\u001b[0m\u001b[1;33m(\u001b[0m\u001b[1;33m)\u001b[0m\u001b[1;33m\u001b[0m\u001b[1;33m\u001b[0m\u001b[0m\n\u001b[0m\u001b[0;32m    411\u001b[0m \u001b[1;33m\u001b[0m\u001b[0m\n\u001b[0;32m    412\u001b[0m     \u001b[1;32mdef\u001b[0m \u001b[0m__getitem__\u001b[0m\u001b[1;33m(\u001b[0m\u001b[0mself\u001b[0m\u001b[1;33m,\u001b[0m \u001b[0mkey\u001b[0m\u001b[1;33m)\u001b[0m\u001b[1;33m:\u001b[0m\u001b[1;33m\u001b[0m\u001b[1;33m\u001b[0m\u001b[0m\n",
      "\u001b[1;32mC:\\ProgramData\\Anaconda3\\lib\\site-packages\\geocoder\\base.py\u001b[0m in \u001b[0;36m_initialize\u001b[1;34m(self)\u001b[0m\n\u001b[0;32m    455\u001b[0m     \u001b[1;32mdef\u001b[0m \u001b[0m_initialize\u001b[0m\u001b[1;33m(\u001b[0m\u001b[0mself\u001b[0m\u001b[1;33m)\u001b[0m\u001b[1;33m:\u001b[0m\u001b[1;33m\u001b[0m\u001b[1;33m\u001b[0m\u001b[0m\n\u001b[0;32m    456\u001b[0m         \u001b[1;31m# query URL and get valid JSON (also stored in self.json)\u001b[0m\u001b[1;33m\u001b[0m\u001b[1;33m\u001b[0m\u001b[1;33m\u001b[0m\u001b[0m\n\u001b[1;32m--> 457\u001b[1;33m         \u001b[0mjson_response\u001b[0m \u001b[1;33m=\u001b[0m \u001b[0mself\u001b[0m\u001b[1;33m.\u001b[0m\u001b[0m_connect\u001b[0m\u001b[1;33m(\u001b[0m\u001b[1;33m)\u001b[0m\u001b[1;33m\u001b[0m\u001b[1;33m\u001b[0m\u001b[0m\n\u001b[0m\u001b[0;32m    458\u001b[0m \u001b[1;33m\u001b[0m\u001b[0m\n\u001b[0;32m    459\u001b[0m         \u001b[1;31m# catch errors\u001b[0m\u001b[1;33m\u001b[0m\u001b[1;33m\u001b[0m\u001b[1;33m\u001b[0m\u001b[0m\n",
      "\u001b[1;32mC:\\ProgramData\\Anaconda3\\lib\\site-packages\\geocoder\\base.py\u001b[0m in \u001b[0;36m_connect\u001b[1;34m(self)\u001b[0m\n\u001b[0;32m    482\u001b[0m                 \u001b[0mheaders\u001b[0m\u001b[1;33m=\u001b[0m\u001b[0mself\u001b[0m\u001b[1;33m.\u001b[0m\u001b[0mheaders\u001b[0m\u001b[1;33m,\u001b[0m\u001b[1;33m\u001b[0m\u001b[1;33m\u001b[0m\u001b[0m\n\u001b[0;32m    483\u001b[0m                 \u001b[0mtimeout\u001b[0m\u001b[1;33m=\u001b[0m\u001b[0mself\u001b[0m\u001b[1;33m.\u001b[0m\u001b[0mtimeout\u001b[0m\u001b[1;33m,\u001b[0m\u001b[1;33m\u001b[0m\u001b[1;33m\u001b[0m\u001b[0m\n\u001b[1;32m--> 484\u001b[1;33m                 \u001b[0mproxies\u001b[0m\u001b[1;33m=\u001b[0m\u001b[0mself\u001b[0m\u001b[1;33m.\u001b[0m\u001b[0mproxies\u001b[0m\u001b[1;33m\u001b[0m\u001b[1;33m\u001b[0m\u001b[0m\n\u001b[0m\u001b[0;32m    485\u001b[0m             )\n\u001b[0;32m    486\u001b[0m \u001b[1;33m\u001b[0m\u001b[0m\n",
      "\u001b[1;32mC:\\ProgramData\\Anaconda3\\lib\\site-packages\\geocoder\\base.py\u001b[0m in \u001b[0;36mrate_limited_get\u001b[1;34m(self, url, **kwargs)\u001b[0m\n\u001b[0;32m    508\u001b[0m     \u001b[1;32mdef\u001b[0m \u001b[0mrate_limited_get\u001b[0m\u001b[1;33m(\u001b[0m\u001b[0mself\u001b[0m\u001b[1;33m,\u001b[0m \u001b[0murl\u001b[0m\u001b[1;33m,\u001b[0m \u001b[1;33m**\u001b[0m\u001b[0mkwargs\u001b[0m\u001b[1;33m)\u001b[0m\u001b[1;33m:\u001b[0m\u001b[1;33m\u001b[0m\u001b[1;33m\u001b[0m\u001b[0m\n\u001b[0;32m    509\u001b[0m         \u001b[1;34m\"\"\" By default, simply wraps a session.get request\"\"\"\u001b[0m\u001b[1;33m\u001b[0m\u001b[1;33m\u001b[0m\u001b[0m\n\u001b[1;32m--> 510\u001b[1;33m         \u001b[1;32mreturn\u001b[0m \u001b[0mself\u001b[0m\u001b[1;33m.\u001b[0m\u001b[0msession\u001b[0m\u001b[1;33m.\u001b[0m\u001b[0mget\u001b[0m\u001b[1;33m(\u001b[0m\u001b[0murl\u001b[0m\u001b[1;33m,\u001b[0m \u001b[1;33m**\u001b[0m\u001b[0mkwargs\u001b[0m\u001b[1;33m)\u001b[0m\u001b[1;33m\u001b[0m\u001b[1;33m\u001b[0m\u001b[0m\n\u001b[0m\u001b[0;32m    511\u001b[0m \u001b[1;33m\u001b[0m\u001b[0m\n\u001b[0;32m    512\u001b[0m     \u001b[1;32mdef\u001b[0m \u001b[0m_adapt_results\u001b[0m\u001b[1;33m(\u001b[0m\u001b[0mself\u001b[0m\u001b[1;33m,\u001b[0m \u001b[0mjson_response\u001b[0m\u001b[1;33m)\u001b[0m\u001b[1;33m:\u001b[0m\u001b[1;33m\u001b[0m\u001b[1;33m\u001b[0m\u001b[0m\n",
      "\u001b[1;32mC:\\ProgramData\\Anaconda3\\lib\\site-packages\\requests\\sessions.py\u001b[0m in \u001b[0;36mget\u001b[1;34m(self, url, **kwargs)\u001b[0m\n\u001b[0;32m    544\u001b[0m \u001b[1;33m\u001b[0m\u001b[0m\n\u001b[0;32m    545\u001b[0m         \u001b[0mkwargs\u001b[0m\u001b[1;33m.\u001b[0m\u001b[0msetdefault\u001b[0m\u001b[1;33m(\u001b[0m\u001b[1;34m'allow_redirects'\u001b[0m\u001b[1;33m,\u001b[0m \u001b[1;32mTrue\u001b[0m\u001b[1;33m)\u001b[0m\u001b[1;33m\u001b[0m\u001b[1;33m\u001b[0m\u001b[0m\n\u001b[1;32m--> 546\u001b[1;33m         \u001b[1;32mreturn\u001b[0m \u001b[0mself\u001b[0m\u001b[1;33m.\u001b[0m\u001b[0mrequest\u001b[0m\u001b[1;33m(\u001b[0m\u001b[1;34m'GET'\u001b[0m\u001b[1;33m,\u001b[0m \u001b[0murl\u001b[0m\u001b[1;33m,\u001b[0m \u001b[1;33m**\u001b[0m\u001b[0mkwargs\u001b[0m\u001b[1;33m)\u001b[0m\u001b[1;33m\u001b[0m\u001b[1;33m\u001b[0m\u001b[0m\n\u001b[0m\u001b[0;32m    547\u001b[0m \u001b[1;33m\u001b[0m\u001b[0m\n\u001b[0;32m    548\u001b[0m     \u001b[1;32mdef\u001b[0m \u001b[0moptions\u001b[0m\u001b[1;33m(\u001b[0m\u001b[0mself\u001b[0m\u001b[1;33m,\u001b[0m \u001b[0murl\u001b[0m\u001b[1;33m,\u001b[0m \u001b[1;33m**\u001b[0m\u001b[0mkwargs\u001b[0m\u001b[1;33m)\u001b[0m\u001b[1;33m:\u001b[0m\u001b[1;33m\u001b[0m\u001b[1;33m\u001b[0m\u001b[0m\n",
      "\u001b[1;32mC:\\ProgramData\\Anaconda3\\lib\\site-packages\\requests\\sessions.py\u001b[0m in \u001b[0;36mrequest\u001b[1;34m(self, method, url, params, data, headers, cookies, files, auth, timeout, allow_redirects, proxies, hooks, stream, verify, cert, json)\u001b[0m\n\u001b[0;32m    531\u001b[0m         }\n\u001b[0;32m    532\u001b[0m         \u001b[0msend_kwargs\u001b[0m\u001b[1;33m.\u001b[0m\u001b[0mupdate\u001b[0m\u001b[1;33m(\u001b[0m\u001b[0msettings\u001b[0m\u001b[1;33m)\u001b[0m\u001b[1;33m\u001b[0m\u001b[1;33m\u001b[0m\u001b[0m\n\u001b[1;32m--> 533\u001b[1;33m         \u001b[0mresp\u001b[0m \u001b[1;33m=\u001b[0m \u001b[0mself\u001b[0m\u001b[1;33m.\u001b[0m\u001b[0msend\u001b[0m\u001b[1;33m(\u001b[0m\u001b[0mprep\u001b[0m\u001b[1;33m,\u001b[0m \u001b[1;33m**\u001b[0m\u001b[0msend_kwargs\u001b[0m\u001b[1;33m)\u001b[0m\u001b[1;33m\u001b[0m\u001b[1;33m\u001b[0m\u001b[0m\n\u001b[0m\u001b[0;32m    534\u001b[0m \u001b[1;33m\u001b[0m\u001b[0m\n\u001b[0;32m    535\u001b[0m         \u001b[1;32mreturn\u001b[0m \u001b[0mresp\u001b[0m\u001b[1;33m\u001b[0m\u001b[1;33m\u001b[0m\u001b[0m\n",
      "\u001b[1;32mC:\\ProgramData\\Anaconda3\\lib\\site-packages\\requests\\sessions.py\u001b[0m in \u001b[0;36msend\u001b[1;34m(self, request, **kwargs)\u001b[0m\n\u001b[0;32m    644\u001b[0m \u001b[1;33m\u001b[0m\u001b[0m\n\u001b[0;32m    645\u001b[0m         \u001b[1;31m# Send the request\u001b[0m\u001b[1;33m\u001b[0m\u001b[1;33m\u001b[0m\u001b[1;33m\u001b[0m\u001b[0m\n\u001b[1;32m--> 646\u001b[1;33m         \u001b[0mr\u001b[0m \u001b[1;33m=\u001b[0m \u001b[0madapter\u001b[0m\u001b[1;33m.\u001b[0m\u001b[0msend\u001b[0m\u001b[1;33m(\u001b[0m\u001b[0mrequest\u001b[0m\u001b[1;33m,\u001b[0m \u001b[1;33m**\u001b[0m\u001b[0mkwargs\u001b[0m\u001b[1;33m)\u001b[0m\u001b[1;33m\u001b[0m\u001b[1;33m\u001b[0m\u001b[0m\n\u001b[0m\u001b[0;32m    647\u001b[0m \u001b[1;33m\u001b[0m\u001b[0m\n\u001b[0;32m    648\u001b[0m         \u001b[1;31m# Total elapsed time of the request (approximately)\u001b[0m\u001b[1;33m\u001b[0m\u001b[1;33m\u001b[0m\u001b[1;33m\u001b[0m\u001b[0m\n",
      "\u001b[1;32mC:\\ProgramData\\Anaconda3\\lib\\site-packages\\requests\\adapters.py\u001b[0m in \u001b[0;36msend\u001b[1;34m(self, request, stream, timeout, verify, cert, proxies)\u001b[0m\n\u001b[0;32m    447\u001b[0m                     \u001b[0mdecode_content\u001b[0m\u001b[1;33m=\u001b[0m\u001b[1;32mFalse\u001b[0m\u001b[1;33m,\u001b[0m\u001b[1;33m\u001b[0m\u001b[1;33m\u001b[0m\u001b[0m\n\u001b[0;32m    448\u001b[0m                     \u001b[0mretries\u001b[0m\u001b[1;33m=\u001b[0m\u001b[0mself\u001b[0m\u001b[1;33m.\u001b[0m\u001b[0mmax_retries\u001b[0m\u001b[1;33m,\u001b[0m\u001b[1;33m\u001b[0m\u001b[1;33m\u001b[0m\u001b[0m\n\u001b[1;32m--> 449\u001b[1;33m                     \u001b[0mtimeout\u001b[0m\u001b[1;33m=\u001b[0m\u001b[0mtimeout\u001b[0m\u001b[1;33m\u001b[0m\u001b[1;33m\u001b[0m\u001b[0m\n\u001b[0m\u001b[0;32m    450\u001b[0m                 )\n\u001b[0;32m    451\u001b[0m \u001b[1;33m\u001b[0m\u001b[0m\n",
      "\u001b[1;32mC:\\ProgramData\\Anaconda3\\lib\\site-packages\\urllib3\\connectionpool.py\u001b[0m in \u001b[0;36murlopen\u001b[1;34m(self, method, url, body, headers, retries, redirect, assert_same_host, timeout, pool_timeout, release_conn, chunked, body_pos, **response_kw)\u001b[0m\n\u001b[0;32m    670\u001b[0m                 \u001b[0mbody\u001b[0m\u001b[1;33m=\u001b[0m\u001b[0mbody\u001b[0m\u001b[1;33m,\u001b[0m\u001b[1;33m\u001b[0m\u001b[1;33m\u001b[0m\u001b[0m\n\u001b[0;32m    671\u001b[0m                 \u001b[0mheaders\u001b[0m\u001b[1;33m=\u001b[0m\u001b[0mheaders\u001b[0m\u001b[1;33m,\u001b[0m\u001b[1;33m\u001b[0m\u001b[1;33m\u001b[0m\u001b[0m\n\u001b[1;32m--> 672\u001b[1;33m                 \u001b[0mchunked\u001b[0m\u001b[1;33m=\u001b[0m\u001b[0mchunked\u001b[0m\u001b[1;33m,\u001b[0m\u001b[1;33m\u001b[0m\u001b[1;33m\u001b[0m\u001b[0m\n\u001b[0m\u001b[0;32m    673\u001b[0m             )\n\u001b[0;32m    674\u001b[0m \u001b[1;33m\u001b[0m\u001b[0m\n",
      "\u001b[1;32mC:\\ProgramData\\Anaconda3\\lib\\site-packages\\urllib3\\connectionpool.py\u001b[0m in \u001b[0;36m_make_request\u001b[1;34m(self, conn, method, url, timeout, chunked, **httplib_request_kw)\u001b[0m\n\u001b[0;32m    419\u001b[0m                     \u001b[1;31m# Python 3 (including for exceptions like SystemExit).\u001b[0m\u001b[1;33m\u001b[0m\u001b[1;33m\u001b[0m\u001b[1;33m\u001b[0m\u001b[0m\n\u001b[0;32m    420\u001b[0m                     \u001b[1;31m# Otherwise it looks like a bug in the code.\u001b[0m\u001b[1;33m\u001b[0m\u001b[1;33m\u001b[0m\u001b[1;33m\u001b[0m\u001b[0m\n\u001b[1;32m--> 421\u001b[1;33m                     \u001b[0msix\u001b[0m\u001b[1;33m.\u001b[0m\u001b[0mraise_from\u001b[0m\u001b[1;33m(\u001b[0m\u001b[0me\u001b[0m\u001b[1;33m,\u001b[0m \u001b[1;32mNone\u001b[0m\u001b[1;33m)\u001b[0m\u001b[1;33m\u001b[0m\u001b[1;33m\u001b[0m\u001b[0m\n\u001b[0m\u001b[0;32m    422\u001b[0m         \u001b[1;32mexcept\u001b[0m \u001b[1;33m(\u001b[0m\u001b[0mSocketTimeout\u001b[0m\u001b[1;33m,\u001b[0m \u001b[0mBaseSSLError\u001b[0m\u001b[1;33m,\u001b[0m \u001b[0mSocketError\u001b[0m\u001b[1;33m)\u001b[0m \u001b[1;32mas\u001b[0m \u001b[0me\u001b[0m\u001b[1;33m:\u001b[0m\u001b[1;33m\u001b[0m\u001b[1;33m\u001b[0m\u001b[0m\n\u001b[0;32m    423\u001b[0m             \u001b[0mself\u001b[0m\u001b[1;33m.\u001b[0m\u001b[0m_raise_timeout\u001b[0m\u001b[1;33m(\u001b[0m\u001b[0merr\u001b[0m\u001b[1;33m=\u001b[0m\u001b[0me\u001b[0m\u001b[1;33m,\u001b[0m \u001b[0murl\u001b[0m\u001b[1;33m=\u001b[0m\u001b[0murl\u001b[0m\u001b[1;33m,\u001b[0m \u001b[0mtimeout_value\u001b[0m\u001b[1;33m=\u001b[0m\u001b[0mread_timeout\u001b[0m\u001b[1;33m)\u001b[0m\u001b[1;33m\u001b[0m\u001b[1;33m\u001b[0m\u001b[0m\n",
      "\u001b[1;32mC:\\ProgramData\\Anaconda3\\lib\\site-packages\\urllib3\\packages\\six.py\u001b[0m in \u001b[0;36mraise_from\u001b[1;34m(value, from_value)\u001b[0m\n",
      "\u001b[1;32mC:\\ProgramData\\Anaconda3\\lib\\site-packages\\urllib3\\connectionpool.py\u001b[0m in \u001b[0;36m_make_request\u001b[1;34m(self, conn, method, url, timeout, chunked, **httplib_request_kw)\u001b[0m\n\u001b[0;32m    414\u001b[0m                 \u001b[1;31m# Python 3\u001b[0m\u001b[1;33m\u001b[0m\u001b[1;33m\u001b[0m\u001b[1;33m\u001b[0m\u001b[0m\n\u001b[0;32m    415\u001b[0m                 \u001b[1;32mtry\u001b[0m\u001b[1;33m:\u001b[0m\u001b[1;33m\u001b[0m\u001b[1;33m\u001b[0m\u001b[0m\n\u001b[1;32m--> 416\u001b[1;33m                     \u001b[0mhttplib_response\u001b[0m \u001b[1;33m=\u001b[0m \u001b[0mconn\u001b[0m\u001b[1;33m.\u001b[0m\u001b[0mgetresponse\u001b[0m\u001b[1;33m(\u001b[0m\u001b[1;33m)\u001b[0m\u001b[1;33m\u001b[0m\u001b[1;33m\u001b[0m\u001b[0m\n\u001b[0m\u001b[0;32m    417\u001b[0m                 \u001b[1;32mexcept\u001b[0m \u001b[0mBaseException\u001b[0m \u001b[1;32mas\u001b[0m \u001b[0me\u001b[0m\u001b[1;33m:\u001b[0m\u001b[1;33m\u001b[0m\u001b[1;33m\u001b[0m\u001b[0m\n\u001b[0;32m    418\u001b[0m                     \u001b[1;31m# Remove the TypeError from the exception chain in\u001b[0m\u001b[1;33m\u001b[0m\u001b[1;33m\u001b[0m\u001b[1;33m\u001b[0m\u001b[0m\n",
      "\u001b[1;32mC:\\ProgramData\\Anaconda3\\lib\\http\\client.py\u001b[0m in \u001b[0;36mgetresponse\u001b[1;34m(self)\u001b[0m\n\u001b[0;32m   1334\u001b[0m         \u001b[1;32mtry\u001b[0m\u001b[1;33m:\u001b[0m\u001b[1;33m\u001b[0m\u001b[1;33m\u001b[0m\u001b[0m\n\u001b[0;32m   1335\u001b[0m             \u001b[1;32mtry\u001b[0m\u001b[1;33m:\u001b[0m\u001b[1;33m\u001b[0m\u001b[1;33m\u001b[0m\u001b[0m\n\u001b[1;32m-> 1336\u001b[1;33m                 \u001b[0mresponse\u001b[0m\u001b[1;33m.\u001b[0m\u001b[0mbegin\u001b[0m\u001b[1;33m(\u001b[0m\u001b[1;33m)\u001b[0m\u001b[1;33m\u001b[0m\u001b[1;33m\u001b[0m\u001b[0m\n\u001b[0m\u001b[0;32m   1337\u001b[0m             \u001b[1;32mexcept\u001b[0m \u001b[0mConnectionError\u001b[0m\u001b[1;33m:\u001b[0m\u001b[1;33m\u001b[0m\u001b[1;33m\u001b[0m\u001b[0m\n\u001b[0;32m   1338\u001b[0m                 \u001b[0mself\u001b[0m\u001b[1;33m.\u001b[0m\u001b[0mclose\u001b[0m\u001b[1;33m(\u001b[0m\u001b[1;33m)\u001b[0m\u001b[1;33m\u001b[0m\u001b[1;33m\u001b[0m\u001b[0m\n",
      "\u001b[1;32mC:\\ProgramData\\Anaconda3\\lib\\http\\client.py\u001b[0m in \u001b[0;36mbegin\u001b[1;34m(self)\u001b[0m\n\u001b[0;32m    304\u001b[0m         \u001b[1;31m# read until we get a non-100 response\u001b[0m\u001b[1;33m\u001b[0m\u001b[1;33m\u001b[0m\u001b[1;33m\u001b[0m\u001b[0m\n\u001b[0;32m    305\u001b[0m         \u001b[1;32mwhile\u001b[0m \u001b[1;32mTrue\u001b[0m\u001b[1;33m:\u001b[0m\u001b[1;33m\u001b[0m\u001b[1;33m\u001b[0m\u001b[0m\n\u001b[1;32m--> 306\u001b[1;33m             \u001b[0mversion\u001b[0m\u001b[1;33m,\u001b[0m \u001b[0mstatus\u001b[0m\u001b[1;33m,\u001b[0m \u001b[0mreason\u001b[0m \u001b[1;33m=\u001b[0m \u001b[0mself\u001b[0m\u001b[1;33m.\u001b[0m\u001b[0m_read_status\u001b[0m\u001b[1;33m(\u001b[0m\u001b[1;33m)\u001b[0m\u001b[1;33m\u001b[0m\u001b[1;33m\u001b[0m\u001b[0m\n\u001b[0m\u001b[0;32m    307\u001b[0m             \u001b[1;32mif\u001b[0m \u001b[0mstatus\u001b[0m \u001b[1;33m!=\u001b[0m \u001b[0mCONTINUE\u001b[0m\u001b[1;33m:\u001b[0m\u001b[1;33m\u001b[0m\u001b[1;33m\u001b[0m\u001b[0m\n\u001b[0;32m    308\u001b[0m                 \u001b[1;32mbreak\u001b[0m\u001b[1;33m\u001b[0m\u001b[1;33m\u001b[0m\u001b[0m\n",
      "\u001b[1;32mC:\\ProgramData\\Anaconda3\\lib\\http\\client.py\u001b[0m in \u001b[0;36m_read_status\u001b[1;34m(self)\u001b[0m\n\u001b[0;32m    265\u001b[0m \u001b[1;33m\u001b[0m\u001b[0m\n\u001b[0;32m    266\u001b[0m     \u001b[1;32mdef\u001b[0m \u001b[0m_read_status\u001b[0m\u001b[1;33m(\u001b[0m\u001b[0mself\u001b[0m\u001b[1;33m)\u001b[0m\u001b[1;33m:\u001b[0m\u001b[1;33m\u001b[0m\u001b[1;33m\u001b[0m\u001b[0m\n\u001b[1;32m--> 267\u001b[1;33m         \u001b[0mline\u001b[0m \u001b[1;33m=\u001b[0m \u001b[0mstr\u001b[0m\u001b[1;33m(\u001b[0m\u001b[0mself\u001b[0m\u001b[1;33m.\u001b[0m\u001b[0mfp\u001b[0m\u001b[1;33m.\u001b[0m\u001b[0mreadline\u001b[0m\u001b[1;33m(\u001b[0m\u001b[0m_MAXLINE\u001b[0m \u001b[1;33m+\u001b[0m \u001b[1;36m1\u001b[0m\u001b[1;33m)\u001b[0m\u001b[1;33m,\u001b[0m \u001b[1;34m\"iso-8859-1\"\u001b[0m\u001b[1;33m)\u001b[0m\u001b[1;33m\u001b[0m\u001b[1;33m\u001b[0m\u001b[0m\n\u001b[0m\u001b[0;32m    268\u001b[0m         \u001b[1;32mif\u001b[0m \u001b[0mlen\u001b[0m\u001b[1;33m(\u001b[0m\u001b[0mline\u001b[0m\u001b[1;33m)\u001b[0m \u001b[1;33m>\u001b[0m \u001b[0m_MAXLINE\u001b[0m\u001b[1;33m:\u001b[0m\u001b[1;33m\u001b[0m\u001b[1;33m\u001b[0m\u001b[0m\n\u001b[0;32m    269\u001b[0m             \u001b[1;32mraise\u001b[0m \u001b[0mLineTooLong\u001b[0m\u001b[1;33m(\u001b[0m\u001b[1;34m\"status line\"\u001b[0m\u001b[1;33m)\u001b[0m\u001b[1;33m\u001b[0m\u001b[1;33m\u001b[0m\u001b[0m\n",
      "\u001b[1;32mC:\\ProgramData\\Anaconda3\\lib\\socket.py\u001b[0m in \u001b[0;36mreadinto\u001b[1;34m(self, b)\u001b[0m\n\u001b[0;32m    587\u001b[0m         \u001b[1;32mwhile\u001b[0m \u001b[1;32mTrue\u001b[0m\u001b[1;33m:\u001b[0m\u001b[1;33m\u001b[0m\u001b[1;33m\u001b[0m\u001b[0m\n\u001b[0;32m    588\u001b[0m             \u001b[1;32mtry\u001b[0m\u001b[1;33m:\u001b[0m\u001b[1;33m\u001b[0m\u001b[1;33m\u001b[0m\u001b[0m\n\u001b[1;32m--> 589\u001b[1;33m                 \u001b[1;32mreturn\u001b[0m \u001b[0mself\u001b[0m\u001b[1;33m.\u001b[0m\u001b[0m_sock\u001b[0m\u001b[1;33m.\u001b[0m\u001b[0mrecv_into\u001b[0m\u001b[1;33m(\u001b[0m\u001b[0mb\u001b[0m\u001b[1;33m)\u001b[0m\u001b[1;33m\u001b[0m\u001b[1;33m\u001b[0m\u001b[0m\n\u001b[0m\u001b[0;32m    590\u001b[0m             \u001b[1;32mexcept\u001b[0m \u001b[0mtimeout\u001b[0m\u001b[1;33m:\u001b[0m\u001b[1;33m\u001b[0m\u001b[1;33m\u001b[0m\u001b[0m\n\u001b[0;32m    591\u001b[0m                 \u001b[0mself\u001b[0m\u001b[1;33m.\u001b[0m\u001b[0m_timeout_occurred\u001b[0m \u001b[1;33m=\u001b[0m \u001b[1;32mTrue\u001b[0m\u001b[1;33m\u001b[0m\u001b[1;33m\u001b[0m\u001b[0m\n",
      "\u001b[1;32mC:\\ProgramData\\Anaconda3\\lib\\site-packages\\urllib3\\contrib\\pyopenssl.py\u001b[0m in \u001b[0;36mrecv_into\u001b[1;34m(self, *args, **kwargs)\u001b[0m\n\u001b[0;32m    323\u001b[0m                 \u001b[1;32mraise\u001b[0m\u001b[1;33m\u001b[0m\u001b[1;33m\u001b[0m\u001b[0m\n\u001b[0;32m    324\u001b[0m         \u001b[1;32mexcept\u001b[0m \u001b[0mOpenSSL\u001b[0m\u001b[1;33m.\u001b[0m\u001b[0mSSL\u001b[0m\u001b[1;33m.\u001b[0m\u001b[0mWantReadError\u001b[0m\u001b[1;33m:\u001b[0m\u001b[1;33m\u001b[0m\u001b[1;33m\u001b[0m\u001b[0m\n\u001b[1;32m--> 325\u001b[1;33m             \u001b[1;32mif\u001b[0m \u001b[1;32mnot\u001b[0m \u001b[0mutil\u001b[0m\u001b[1;33m.\u001b[0m\u001b[0mwait_for_read\u001b[0m\u001b[1;33m(\u001b[0m\u001b[0mself\u001b[0m\u001b[1;33m.\u001b[0m\u001b[0msocket\u001b[0m\u001b[1;33m,\u001b[0m \u001b[0mself\u001b[0m\u001b[1;33m.\u001b[0m\u001b[0msocket\u001b[0m\u001b[1;33m.\u001b[0m\u001b[0mgettimeout\u001b[0m\u001b[1;33m(\u001b[0m\u001b[1;33m)\u001b[0m\u001b[1;33m)\u001b[0m\u001b[1;33m:\u001b[0m\u001b[1;33m\u001b[0m\u001b[1;33m\u001b[0m\u001b[0m\n\u001b[0m\u001b[0;32m    326\u001b[0m                 \u001b[1;32mraise\u001b[0m \u001b[0mtimeout\u001b[0m\u001b[1;33m(\u001b[0m\u001b[1;34m\"The read operation timed out\"\u001b[0m\u001b[1;33m)\u001b[0m\u001b[1;33m\u001b[0m\u001b[1;33m\u001b[0m\u001b[0m\n\u001b[0;32m    327\u001b[0m             \u001b[1;32melse\u001b[0m\u001b[1;33m:\u001b[0m\u001b[1;33m\u001b[0m\u001b[1;33m\u001b[0m\u001b[0m\n",
      "\u001b[1;32mC:\\ProgramData\\Anaconda3\\lib\\site-packages\\urllib3\\util\\wait.py\u001b[0m in \u001b[0;36mwait_for_read\u001b[1;34m(sock, timeout)\u001b[0m\n\u001b[0;32m    144\u001b[0m     \u001b[0mReturns\u001b[0m \u001b[1;32mTrue\u001b[0m \u001b[1;32mif\u001b[0m \u001b[0mthe\u001b[0m \u001b[0msocket\u001b[0m \u001b[1;32mis\u001b[0m \u001b[0mreadable\u001b[0m\u001b[1;33m,\u001b[0m \u001b[1;32mor\u001b[0m \u001b[1;32mFalse\u001b[0m \u001b[1;32mif\u001b[0m \u001b[0mthe\u001b[0m \u001b[0mtimeout\u001b[0m \u001b[0mexpired\u001b[0m\u001b[1;33m.\u001b[0m\u001b[1;33m\u001b[0m\u001b[1;33m\u001b[0m\u001b[0m\n\u001b[0;32m    145\u001b[0m     \"\"\"\n\u001b[1;32m--> 146\u001b[1;33m     \u001b[1;32mreturn\u001b[0m \u001b[0mwait_for_socket\u001b[0m\u001b[1;33m(\u001b[0m\u001b[0msock\u001b[0m\u001b[1;33m,\u001b[0m \u001b[0mread\u001b[0m\u001b[1;33m=\u001b[0m\u001b[1;32mTrue\u001b[0m\u001b[1;33m,\u001b[0m \u001b[0mtimeout\u001b[0m\u001b[1;33m=\u001b[0m\u001b[0mtimeout\u001b[0m\u001b[1;33m)\u001b[0m\u001b[1;33m\u001b[0m\u001b[1;33m\u001b[0m\u001b[0m\n\u001b[0m\u001b[0;32m    147\u001b[0m \u001b[1;33m\u001b[0m\u001b[0m\n\u001b[0;32m    148\u001b[0m \u001b[1;33m\u001b[0m\u001b[0m\n",
      "\u001b[1;32mC:\\ProgramData\\Anaconda3\\lib\\site-packages\\urllib3\\util\\wait.py\u001b[0m in \u001b[0;36mselect_wait_for_socket\u001b[1;34m(sock, read, write, timeout)\u001b[0m\n\u001b[0;32m     84\u001b[0m     \u001b[1;31m# thing.)\u001b[0m\u001b[1;33m\u001b[0m\u001b[1;33m\u001b[0m\u001b[1;33m\u001b[0m\u001b[0m\n\u001b[0;32m     85\u001b[0m     \u001b[0mfn\u001b[0m \u001b[1;33m=\u001b[0m \u001b[0mpartial\u001b[0m\u001b[1;33m(\u001b[0m\u001b[0mselect\u001b[0m\u001b[1;33m.\u001b[0m\u001b[0mselect\u001b[0m\u001b[1;33m,\u001b[0m \u001b[0mrcheck\u001b[0m\u001b[1;33m,\u001b[0m \u001b[0mwcheck\u001b[0m\u001b[1;33m,\u001b[0m \u001b[0mwcheck\u001b[0m\u001b[1;33m)\u001b[0m\u001b[1;33m\u001b[0m\u001b[1;33m\u001b[0m\u001b[0m\n\u001b[1;32m---> 86\u001b[1;33m     \u001b[0mrready\u001b[0m\u001b[1;33m,\u001b[0m \u001b[0mwready\u001b[0m\u001b[1;33m,\u001b[0m \u001b[0mxready\u001b[0m \u001b[1;33m=\u001b[0m \u001b[0m_retry_on_intr\u001b[0m\u001b[1;33m(\u001b[0m\u001b[0mfn\u001b[0m\u001b[1;33m,\u001b[0m \u001b[0mtimeout\u001b[0m\u001b[1;33m)\u001b[0m\u001b[1;33m\u001b[0m\u001b[1;33m\u001b[0m\u001b[0m\n\u001b[0m\u001b[0;32m     87\u001b[0m     \u001b[1;32mreturn\u001b[0m \u001b[0mbool\u001b[0m\u001b[1;33m(\u001b[0m\u001b[0mrready\u001b[0m \u001b[1;32mor\u001b[0m \u001b[0mwready\u001b[0m \u001b[1;32mor\u001b[0m \u001b[0mxready\u001b[0m\u001b[1;33m)\u001b[0m\u001b[1;33m\u001b[0m\u001b[1;33m\u001b[0m\u001b[0m\n\u001b[0;32m     88\u001b[0m \u001b[1;33m\u001b[0m\u001b[0m\n",
      "\u001b[1;32mC:\\ProgramData\\Anaconda3\\lib\\site-packages\\urllib3\\util\\wait.py\u001b[0m in \u001b[0;36m_retry_on_intr\u001b[1;34m(fn, timeout)\u001b[0m\n\u001b[0;32m     41\u001b[0m     \u001b[1;31m# Modern Python, that retries syscalls by default\u001b[0m\u001b[1;33m\u001b[0m\u001b[1;33m\u001b[0m\u001b[1;33m\u001b[0m\u001b[0m\n\u001b[0;32m     42\u001b[0m     \u001b[1;32mdef\u001b[0m \u001b[0m_retry_on_intr\u001b[0m\u001b[1;33m(\u001b[0m\u001b[0mfn\u001b[0m\u001b[1;33m,\u001b[0m \u001b[0mtimeout\u001b[0m\u001b[1;33m)\u001b[0m\u001b[1;33m:\u001b[0m\u001b[1;33m\u001b[0m\u001b[1;33m\u001b[0m\u001b[0m\n\u001b[1;32m---> 43\u001b[1;33m         \u001b[1;32mreturn\u001b[0m \u001b[0mfn\u001b[0m\u001b[1;33m(\u001b[0m\u001b[0mtimeout\u001b[0m\u001b[1;33m)\u001b[0m\u001b[1;33m\u001b[0m\u001b[1;33m\u001b[0m\u001b[0m\n\u001b[0m\u001b[0;32m     44\u001b[0m \u001b[1;33m\u001b[0m\u001b[0m\n\u001b[0;32m     45\u001b[0m \u001b[1;33m\u001b[0m\u001b[0m\n",
      "\u001b[1;31mKeyboardInterrupt\u001b[0m: "
     ]
    }
   ],
   "source": [
    "lat_lookup = []\n",
    "lng_lookup = []\n",
    "\n",
    "for n in d['NAME']:\n",
    "    lati,longi = get_lat_long(n)\n",
    "    \n",
    "    lat_lookup.append(lati)\n",
    "    lng_lookup.append(longi)\n",
    "    \n",
    "d['LATITUDE'] = lat_lookup\n",
    "d['LONGITUDE'] = lng_lookup\n",
    "d.head() "
   ]
  },
  {
   "cell_type": "markdown",
   "metadata": {},
   "source": [
    "### Plotting the locations of the neighborhoods"
   ]
  },
  {
   "cell_type": "code",
   "execution_count": null,
   "metadata": {},
   "outputs": [],
   "source": [
    "## Looking at where the locations are\n",
    "import folium\n",
    "\n",
    "# create map of New York using latitude and longitude values\n",
    "map_atl = folium.Map(location=[33.7676338, -84.5606894], zoom_start=13)\n",
    "\n",
    "# add markers to map\n",
    "for lat, lng, borough in zip(d['LATITUDE'], d['LONGITUDE'], d['NAME']):\n",
    "    #label = str(borough)\n",
    "    #label = folium.Popup(label, parse_html=True)\n",
    "    folium.CircleMarker(\n",
    "        [lat, lng],\n",
    "        radius=5,\n",
    "        popup=borough,\n",
    "        color='blue',\n",
    "        fill=True,\n",
    "        fill_color='#3186cc',\n",
    "        fill_opacity=0.7,\n",
    "        parse_html=False).add_to(map_atl)  \n",
    "    \n",
    "map_atl"
   ]
  },
  {
   "cell_type": "markdown",
   "metadata": {},
   "source": [
    "# Part 2: Data"
   ]
  },
  {
   "cell_type": "markdown",
   "metadata": {},
   "source": [
    "In doing some research for how others go about finding the best coffee shop location, I came across [this page](https://squareup.com/us/en/townsquare/how-to-find-a-coffee-shop-location). With regards to the the Foursquare API, this point seems most salient:\n",
    "\n",
    "**2. Neighboring businesses**\n",
    "\"When you’re determining the best location for a coffee shop, neighboring businesses can also affect your profitability — both negatively and positively.\n",
    "\n",
    "It might be obvious to research other local coffee shops to find out where they are established, but your competitors aren’t limited to other coffee shops. If your coffee shop targets customers looking for a quick breakfast, you should keep your eye on quick breakfast alternatives including smoothie joints, juice bars, bagel places, and even fast food chains. While these businesses are all in different categories, they could all be competing with the products you serve.\n",
    "\n",
    "Neighboring businesses can also help your coffee shop by complementing your offerings. If your coffee shop has a large study space, it might be smart to open near other businesses or a university. This provides an ideal area for employees or students to come in and get work done before or after hours. If you’re targeting customers who seek a midday caffeine buzz, you may want to look at shopping centers where customers need a pick-me-up while walking around and shopping.\"\n",
    "\n",
    "Therefore, I am going to look at data analysis which focuses on the locations, in a way that is similar to the lab praticals already completed. Therefore, for this project I will utilize data from the **100 most relevant venues within mu custom radius** (we only have zipcodes, which cover a larger area of space. In testing, this seemed to return better results.\n",
    "\n"
   ]
  },
  {
   "cell_type": "markdown",
   "metadata": {},
   "source": [
    "## Part 1: Web Scraping"
   ]
  },
  {
   "cell_type": "code",
   "execution_count": 6,
   "metadata": {},
   "outputs": [],
   "source": [
    "# Using this function from earlier in the course\n",
    "def getNearbyVenues(names, latitudes, longitudes, radius):\n",
    "\n",
    "    venues_list=[]\n",
    "    for name, lat, lng, rad in zip(names, latitudes, longitudes, radius):\n",
    "        \n",
    "            \n",
    "        # create the API request URL\n",
    "        url = 'https://api.foursquare.com/v2/venues/explore?&client_id={}&client_secret={}&v={}&ll={},{}&radius={}&limit={}'.format(\n",
    "            CLIENT_ID, \n",
    "            CLIENT_SECRET, \n",
    "            VERSION, \n",
    "            lat, \n",
    "            lng, \n",
    "            rad, \n",
    "            400)\n",
    "              \n",
    "        # make the GET request\n",
    "        results = requests.get(url).json()['response']['groups'][0]['items']\n",
    "        \n",
    "        # return only relevant information for each nearby venue\n",
    "        venues_list.append([(\n",
    "            name, \n",
    "            lat, \n",
    "            lng, \n",
    "            v['venue']['name'], \n",
    "            v['venue']['location']['lat'], \n",
    "            v['venue']['location']['lng'],  \n",
    "            v['venue']['categories'][0]['name']) for v in results])\n",
    "    \n",
    "    nearby_venues = pd.DataFrame([item for venue_list in venues_list for item in venue_list])\n",
    "    nearby_venues.columns = ['Neighborhood', \n",
    "                  'Neighborhood Latitude', \n",
    "                  'Neighborhood Longitude', \n",
    "                  'Venue', \n",
    "                  'Venue Latitude', \n",
    "                  'Venue Longitude', \n",
    "                  'Venue Category']\n",
    "    \n",
    "    return(nearby_venues)"
   ]
  },
  {
   "cell_type": "markdown",
   "metadata": {
    "collapsed": true
   },
   "source": [
    "### Getting all the top venues from Atlanta"
   ]
  },
  {
   "cell_type": "code",
   "execution_count": 7,
   "metadata": {
    "tags": [
     "hide_input"
    ]
   },
   "outputs": [],
   "source": [
    "CLIENT_ID = 'XHZAVLMJZPZ1YERWSOQP0RZSG1JTQV24LLJOC3CHJZBFUCWM' # your Foursquare ID\n",
    "CLIENT_SECRET = 'FKWRVOLJYEBTMABNFPMRYRJ3JOQLKTDE2JPSZKUGJYHQSAMS' # your Foursquare Secret\n",
    "VERSION = '20180604'"
   ]
  },
  {
   "cell_type": "code",
   "execution_count": 8,
   "metadata": {},
   "outputs": [
    {
     "data": {
      "text/plain": [
       "1575.3406071902102"
      ]
     },
     "execution_count": 8,
     "metadata": {},
     "output_type": "execute_result"
    }
   ],
   "source": [
    "max(d['RADIUS'])"
   ]
  },
  {
   "cell_type": "code",
   "execution_count": 9,
   "metadata": {},
   "outputs": [],
   "source": [
    "LIMIT = 100\n",
    "atl_venues2 = getNearbyVenues(names = d['NAME'],\n",
    "                             latitudes = d['LATITUDE'],\n",
    "                             longitudes = d['LONGITUDE'],\n",
    "                             radius = d['RADIUS'])"
   ]
  },
  {
   "cell_type": "code",
   "execution_count": 10,
   "metadata": {},
   "outputs": [
    {
     "data": {
      "text/plain": [
       "(3144, 7)"
      ]
     },
     "execution_count": 10,
     "metadata": {},
     "output_type": "execute_result"
    }
   ],
   "source": [
    "atl_venues2.shape"
   ]
  },
  {
   "cell_type": "code",
   "execution_count": 11,
   "metadata": {},
   "outputs": [
    {
     "data": {
      "text/html": [
       "<div>\n",
       "<style scoped>\n",
       "    .dataframe tbody tr th:only-of-type {\n",
       "        vertical-align: middle;\n",
       "    }\n",
       "\n",
       "    .dataframe tbody tr th {\n",
       "        vertical-align: top;\n",
       "    }\n",
       "\n",
       "    .dataframe thead th {\n",
       "        text-align: right;\n",
       "    }\n",
       "</style>\n",
       "<table border=\"1\" class=\"dataframe\">\n",
       "  <thead>\n",
       "    <tr style=\"text-align: right;\">\n",
       "      <th></th>\n",
       "      <th>Neighborhood</th>\n",
       "      <th>Neighborhood Latitude</th>\n",
       "      <th>Neighborhood Longitude</th>\n",
       "      <th>Venue</th>\n",
       "      <th>Venue Latitude</th>\n",
       "      <th>Venue Longitude</th>\n",
       "      <th>Venue Category</th>\n",
       "    </tr>\n",
       "  </thead>\n",
       "  <tbody>\n",
       "    <tr>\n",
       "      <th>0</th>\n",
       "      <td>Atlanta University Center, Atlanta, GA</td>\n",
       "      <td>33.75092</td>\n",
       "      <td>-84.41234</td>\n",
       "      <td>Busy Bee Cafe</td>\n",
       "      <td>33.754577</td>\n",
       "      <td>-84.414024</td>\n",
       "      <td>Southern / Soul Food Restaurant</td>\n",
       "    </tr>\n",
       "    <tr>\n",
       "      <th>1</th>\n",
       "      <td>Atlanta University Center, Atlanta, GA</td>\n",
       "      <td>33.75092</td>\n",
       "      <td>-84.41234</td>\n",
       "      <td>Murrell's Cafe</td>\n",
       "      <td>33.754005</td>\n",
       "      <td>-84.409473</td>\n",
       "      <td>Buffet</td>\n",
       "    </tr>\n",
       "    <tr>\n",
       "      <th>2</th>\n",
       "      <td>Atlanta University Center, Atlanta, GA</td>\n",
       "      <td>33.75092</td>\n",
       "      <td>-84.41234</td>\n",
       "      <td>Mr. Everything</td>\n",
       "      <td>33.754739</td>\n",
       "      <td>-84.416131</td>\n",
       "      <td>Sandwich Place</td>\n",
       "    </tr>\n",
       "    <tr>\n",
       "      <th>3</th>\n",
       "      <td>Atlanta University Center, Atlanta, GA</td>\n",
       "      <td>33.75092</td>\n",
       "      <td>-84.41234</td>\n",
       "      <td>Johnny M's Pizza Bistro</td>\n",
       "      <td>33.754599</td>\n",
       "      <td>-84.417157</td>\n",
       "      <td>Pizza Place</td>\n",
       "    </tr>\n",
       "    <tr>\n",
       "      <th>4</th>\n",
       "      <td>Atlanta University Center, Atlanta, GA</td>\n",
       "      <td>33.75092</td>\n",
       "      <td>-84.41234</td>\n",
       "      <td>Spelman College Museum of Fine Art</td>\n",
       "      <td>33.746060</td>\n",
       "      <td>-84.412137</td>\n",
       "      <td>Art Museum</td>\n",
       "    </tr>\n",
       "  </tbody>\n",
       "</table>\n",
       "</div>"
      ],
      "text/plain": [
       "                             Neighborhood  Neighborhood Latitude  \\\n",
       "0  Atlanta University Center, Atlanta, GA               33.75092   \n",
       "1  Atlanta University Center, Atlanta, GA               33.75092   \n",
       "2  Atlanta University Center, Atlanta, GA               33.75092   \n",
       "3  Atlanta University Center, Atlanta, GA               33.75092   \n",
       "4  Atlanta University Center, Atlanta, GA               33.75092   \n",
       "\n",
       "   Neighborhood Longitude                               Venue  Venue Latitude  \\\n",
       "0               -84.41234                       Busy Bee Cafe       33.754577   \n",
       "1               -84.41234                      Murrell's Cafe       33.754005   \n",
       "2               -84.41234                      Mr. Everything       33.754739   \n",
       "3               -84.41234             Johnny M's Pizza Bistro       33.754599   \n",
       "4               -84.41234  Spelman College Museum of Fine Art       33.746060   \n",
       "\n",
       "   Venue Longitude                   Venue Category  \n",
       "0       -84.414024  Southern / Soul Food Restaurant  \n",
       "1       -84.409473                           Buffet  \n",
       "2       -84.416131                   Sandwich Place  \n",
       "3       -84.417157                      Pizza Place  \n",
       "4       -84.412137                       Art Museum  "
      ]
     },
     "execution_count": 11,
     "metadata": {},
     "output_type": "execute_result"
    }
   ],
   "source": [
    "atl_venues2.head()"
   ]
  },
  {
   "cell_type": "markdown",
   "metadata": {},
   "source": [
    "### Next, looking at some exploratry analysis"
   ]
  },
  {
   "cell_type": "code",
   "execution_count": 12,
   "metadata": {},
   "outputs": [],
   "source": [
    "# getting Counts\n",
    "counts = atl_venues2.groupby('Neighborhood').count().sort_values('Venue', ascending = False).reset_index()[['Neighborhood','Venue']]\n",
    "counts.columns = ['Neighborhood','Count']\n"
   ]
  },
  {
   "cell_type": "code",
   "execution_count": 13,
   "metadata": {},
   "outputs": [
    {
     "data": {
      "text/plain": [
       "array([[<matplotlib.axes._subplots.AxesSubplot object at 0x000001BA340A9EC8>]],\n",
       "      dtype=object)"
      ]
     },
     "execution_count": 13,
     "metadata": {},
     "output_type": "execute_result"
    },
    {
     "data": {
      "image/png": "[encoded data removed]",
      "text/plain": [
       "<Figure size 432x288 with 1 Axes>"
      ]
     },
     "metadata": {
      "needs_background": "light"
     },
     "output_type": "display_data"
    }
   ],
   "source": [
    "counts.hist(bins=20)"
   ]
  },
  {
   "cell_type": "markdown",
   "metadata": {},
   "source": [
    "We see a handful of neighborhoods returning less than 10 venues. Those are likely more residential neighborhoods, which are likely not going to be good locations for our coffee shop. Secondly, the *type* of coffee shop is important. My theoreticall coffee shop is not a 'grab-n-go' type place. Therefore, **we will likely require some type of foot traffic** which occurs in areas with more venues. **Therefore, if there are less than 10 locations returned in call, we are not going to include this**."
   ]
  },
  {
   "cell_type": "code",
   "execution_count": 14,
   "metadata": {},
   "outputs": [
    {
     "data": {
      "text/html": [
       "<div>\n",
       "<style scoped>\n",
       "    .dataframe tbody tr th:only-of-type {\n",
       "        vertical-align: middle;\n",
       "    }\n",
       "\n",
       "    .dataframe tbody tr th {\n",
       "        vertical-align: top;\n",
       "    }\n",
       "\n",
       "    .dataframe thead th {\n",
       "        text-align: right;\n",
       "    }\n",
       "</style>\n",
       "<table border=\"1\" class=\"dataframe\">\n",
       "  <thead>\n",
       "    <tr style=\"text-align: right;\">\n",
       "      <th></th>\n",
       "      <th>Neighborhood</th>\n",
       "      <th>Neighborhood Latitude</th>\n",
       "      <th>Neighborhood Longitude</th>\n",
       "      <th>Venue</th>\n",
       "      <th>Venue Latitude</th>\n",
       "      <th>Venue Longitude</th>\n",
       "      <th>Venue Category</th>\n",
       "      <th>Count</th>\n",
       "    </tr>\n",
       "  </thead>\n",
       "  <tbody>\n",
       "    <tr>\n",
       "      <th>0</th>\n",
       "      <td>Atlanta University Center, Atlanta, GA</td>\n",
       "      <td>33.75092</td>\n",
       "      <td>-84.41234</td>\n",
       "      <td>Busy Bee Cafe</td>\n",
       "      <td>33.754577</td>\n",
       "      <td>-84.414024</td>\n",
       "      <td>Southern / Soul Food Restaurant</td>\n",
       "      <td>18</td>\n",
       "    </tr>\n",
       "    <tr>\n",
       "      <th>1</th>\n",
       "      <td>Atlanta University Center, Atlanta, GA</td>\n",
       "      <td>33.75092</td>\n",
       "      <td>-84.41234</td>\n",
       "      <td>Murrell's Cafe</td>\n",
       "      <td>33.754005</td>\n",
       "      <td>-84.409473</td>\n",
       "      <td>Buffet</td>\n",
       "      <td>18</td>\n",
       "    </tr>\n",
       "    <tr>\n",
       "      <th>2</th>\n",
       "      <td>Atlanta University Center, Atlanta, GA</td>\n",
       "      <td>33.75092</td>\n",
       "      <td>-84.41234</td>\n",
       "      <td>Mr. Everything</td>\n",
       "      <td>33.754739</td>\n",
       "      <td>-84.416131</td>\n",
       "      <td>Sandwich Place</td>\n",
       "      <td>18</td>\n",
       "    </tr>\n",
       "    <tr>\n",
       "      <th>3</th>\n",
       "      <td>Atlanta University Center, Atlanta, GA</td>\n",
       "      <td>33.75092</td>\n",
       "      <td>-84.41234</td>\n",
       "      <td>Johnny M's Pizza Bistro</td>\n",
       "      <td>33.754599</td>\n",
       "      <td>-84.417157</td>\n",
       "      <td>Pizza Place</td>\n",
       "      <td>18</td>\n",
       "    </tr>\n",
       "    <tr>\n",
       "      <th>4</th>\n",
       "      <td>Atlanta University Center, Atlanta, GA</td>\n",
       "      <td>33.75092</td>\n",
       "      <td>-84.41234</td>\n",
       "      <td>Spelman College Museum of Fine Art</td>\n",
       "      <td>33.746060</td>\n",
       "      <td>-84.412137</td>\n",
       "      <td>Art Museum</td>\n",
       "      <td>18</td>\n",
       "    </tr>\n",
       "  </tbody>\n",
       "</table>\n",
       "</div>"
      ],
      "text/plain": [
       "                             Neighborhood  Neighborhood Latitude  \\\n",
       "0  Atlanta University Center, Atlanta, GA               33.75092   \n",
       "1  Atlanta University Center, Atlanta, GA               33.75092   \n",
       "2  Atlanta University Center, Atlanta, GA               33.75092   \n",
       "3  Atlanta University Center, Atlanta, GA               33.75092   \n",
       "4  Atlanta University Center, Atlanta, GA               33.75092   \n",
       "\n",
       "   Neighborhood Longitude                               Venue  Venue Latitude  \\\n",
       "0               -84.41234                       Busy Bee Cafe       33.754577   \n",
       "1               -84.41234                      Murrell's Cafe       33.754005   \n",
       "2               -84.41234                      Mr. Everything       33.754739   \n",
       "3               -84.41234             Johnny M's Pizza Bistro       33.754599   \n",
       "4               -84.41234  Spelman College Museum of Fine Art       33.746060   \n",
       "\n",
       "   Venue Longitude                   Venue Category  Count  \n",
       "0       -84.414024  Southern / Soul Food Restaurant     18  \n",
       "1       -84.409473                           Buffet     18  \n",
       "2       -84.416131                   Sandwich Place     18  \n",
       "3       -84.417157                      Pizza Place     18  \n",
       "4       -84.412137                       Art Museum     18  "
      ]
     },
     "execution_count": 14,
     "metadata": {},
     "output_type": "execute_result"
    }
   ],
   "source": [
    "atl_venues3 = atl_venues2.merge(counts, how = 'left', on = 'Neighborhood')\n",
    "atl_venues3 = atl_venues3[atl_venues3['Count'] > 10]\n",
    "atl_venues3.head()"
   ]
  },
  {
   "cell_type": "markdown",
   "metadata": {},
   "source": [
    "#### This at least looks a little better"
   ]
  },
  {
   "cell_type": "code",
   "execution_count": 15,
   "metadata": {},
   "outputs": [
    {
     "data": {
      "text/plain": [
       "array([[<matplotlib.axes._subplots.AxesSubplot object at 0x000001BA363BFF88>]],\n",
       "      dtype=object)"
      ]
     },
     "execution_count": 15,
     "metadata": {},
     "output_type": "execute_result"
    },
    {
     "data": {
      "image/png": "[encoded data removed]",
      "text/plain": [
       "<Figure size 432x288 with 1 Axes>"
      ]
     },
     "metadata": {
      "needs_background": "light"
     },
     "output_type": "display_data"
    }
   ],
   "source": [
    "atl_venues3[['Count']].hist()"
   ]
  },
  {
   "cell_type": "code",
   "execution_count": 16,
   "metadata": {},
   "outputs": [
    {
     "name": "stdout",
     "output_type": "stream",
     "text": [
      "We have reduced our potential neighboorhoods to 73 compared to the initial 245\n"
     ]
    }
   ],
   "source": [
    "print('We have reduced our potential neighboorhoods to {} compared to the initial 245'.format(len(atl_venues3['Neighborhood'].unique())))"
   ]
  },
  {
   "cell_type": "code",
   "execution_count": 17,
   "metadata": {},
   "outputs": [
    {
     "data": {
      "text/plain": [
       "(2754, 8)"
      ]
     },
     "execution_count": 17,
     "metadata": {},
     "output_type": "execute_result"
    }
   ],
   "source": [
    "atl_venues3.shape"
   ]
  },
  {
   "cell_type": "markdown",
   "metadata": {},
   "source": [
    "#### I'm curious as to where these neighborhoods actually are, so plotting the subset."
   ]
  },
  {
   "cell_type": "code",
   "execution_count": 18,
   "metadata": {},
   "outputs": [],
   "source": [
    "new_map = atl_venues3[['Neighborhood', 'Neighborhood Latitude', 'Neighborhood Longitude']].groupby('Neighborhood').mean()\n",
    "new_map = new_map.reset_index()"
   ]
  },
  {
   "cell_type": "code",
   "execution_count": 19,
   "metadata": {
    "scrolled": true
   },
   "outputs": [
    {
     "data": {
      "text/html": [
       "<div style=\"width:100%;\"><div style=\"position:relative;width:100%;height:0;padding-bottom:60%;\"><iframe src=\"data:text/html;charset=utf-8;base64,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\" style=\"position:absolute;width:100%;height:100%;left:0;top:0;border:none !important;\" allowfullscreen webkitallowfullscreen mozallowfullscreen></iframe></div></div>"
      ],
      "text/plain": [
       "<folium.folium.Map at 0x1ba364c4fc8>"
      ]
     },
     "execution_count": 19,
     "metadata": {},
     "output_type": "execute_result"
    }
   ],
   "source": [
    "## Looking at where the locations are\n",
    "\n",
    "# create map of New York using latitude and longitude values\n",
    "new_map_atl = folium.Map(location=[33.7868002,-84.3970265], zoom_start=13)\n",
    "\n",
    "# add markers to map\n",
    "for lat, lng, borough in zip(new_map['Neighborhood Latitude'], new_map['Neighborhood Longitude'], new_map['Neighborhood']):\n",
    "    #label = str(borough)\n",
    "    #label = folium.Popup(label, parse_html=True)\n",
    "    folium.CircleMarker(\n",
    "        [lat, lng],\n",
    "        radius=5,\n",
    "        popup=borough,\n",
    "        color='blue',\n",
    "        fill=True,\n",
    "        fill_color='#3186cc',\n",
    "        fill_opacity=0.7,\n",
    "        parse_html=False).add_to(new_map_atl)  \n",
    "    \n",
    "new_map_atl"
   ]
  },
  {
   "cell_type": "markdown",
   "metadata": {},
   "source": [
    "### For this analysis, I am chosing to do agglmerative clustering"
   ]
  },
  {
   "cell_type": "code",
   "execution_count": 20,
   "metadata": {},
   "outputs": [],
   "source": [
    "from sklearn.preprocessing import OneHotEncoder"
   ]
  },
  {
   "cell_type": "markdown",
   "metadata": {},
   "source": [
    "#### Doing one hot encoding for the different types of venue types"
   ]
  },
  {
   "cell_type": "code",
   "execution_count": 21,
   "metadata": {},
   "outputs": [],
   "source": [
    "atl_onehot = pd.get_dummies(atl_venues3['Venue Category'], prefix=\"\", prefix_sep=\"\").drop('Neighborhood', axis = 1)\n",
    "atl_onehot['Neighborhood'] = atl_venues3['Neighborhood']\n",
    "\n",
    "fixed_columns = [atl_onehot.columns[-1]] + list(atl_onehot.columns[:-1])\n",
    "atl_onehot = atl_onehot[fixed_columns]\n",
    "\n",
    "#atl_onehot.head()"
   ]
  },
  {
   "cell_type": "code",
   "execution_count": 45,
   "metadata": {},
   "outputs": [
    {
     "data": {
      "text/html": [
       "<div>\n",
       "<style scoped>\n",
       "    .dataframe tbody tr th:only-of-type {\n",
       "        vertical-align: middle;\n",
       "    }\n",
       "\n",
       "    .dataframe tbody tr th {\n",
       "        vertical-align: top;\n",
       "    }\n",
       "\n",
       "    .dataframe thead th {\n",
       "        text-align: right;\n",
       "    }\n",
       "</style>\n",
       "<table border=\"1\" class=\"dataframe\">\n",
       "  <thead>\n",
       "    <tr style=\"text-align: right;\">\n",
       "      <th></th>\n",
       "      <th>Neighborhood</th>\n",
       "      <th>Accessories Store</th>\n",
       "      <th>Adult Boutique</th>\n",
       "      <th>African Restaurant</th>\n",
       "      <th>American Restaurant</th>\n",
       "      <th>Amphitheater</th>\n",
       "      <th>Antique Shop</th>\n",
       "      <th>Aquarium</th>\n",
       "      <th>Arepa Restaurant</th>\n",
       "      <th>Art Gallery</th>\n",
       "      <th>...</th>\n",
       "      <th>Volleyball Court</th>\n",
       "      <th>Weight Loss Center</th>\n",
       "      <th>Whisky Bar</th>\n",
       "      <th>Wine Bar</th>\n",
       "      <th>Wine Shop</th>\n",
       "      <th>Wings Joint</th>\n",
       "      <th>Women's Store</th>\n",
       "      <th>Yoga Studio</th>\n",
       "      <th>Zoo</th>\n",
       "      <th>Zoo Exhibit</th>\n",
       "    </tr>\n",
       "  </thead>\n",
       "  <tbody>\n",
       "    <tr>\n",
       "      <th>0</th>\n",
       "      <td>Adamsville, Atlanta, GA</td>\n",
       "      <td>0.000000</td>\n",
       "      <td>0.0</td>\n",
       "      <td>0.0</td>\n",
       "      <td>0.000000</td>\n",
       "      <td>0.0</td>\n",
       "      <td>0.0</td>\n",
       "      <td>0.0</td>\n",
       "      <td>0.0</td>\n",
       "      <td>0.0</td>\n",
       "      <td>...</td>\n",
       "      <td>0.0</td>\n",
       "      <td>0.0</td>\n",
       "      <td>0.0</td>\n",
       "      <td>0.0</td>\n",
       "      <td>0.0</td>\n",
       "      <td>0.000000</td>\n",
       "      <td>0.000000</td>\n",
       "      <td>0.0</td>\n",
       "      <td>0.0</td>\n",
       "      <td>0.0</td>\n",
       "    </tr>\n",
       "    <tr>\n",
       "      <th>1</th>\n",
       "      <td>Ansley Park, Atlanta, GA</td>\n",
       "      <td>0.000000</td>\n",
       "      <td>0.0</td>\n",
       "      <td>0.0</td>\n",
       "      <td>0.044444</td>\n",
       "      <td>0.0</td>\n",
       "      <td>0.0</td>\n",
       "      <td>0.0</td>\n",
       "      <td>0.0</td>\n",
       "      <td>0.0</td>\n",
       "      <td>...</td>\n",
       "      <td>0.0</td>\n",
       "      <td>0.0</td>\n",
       "      <td>0.0</td>\n",
       "      <td>0.0</td>\n",
       "      <td>0.0</td>\n",
       "      <td>0.000000</td>\n",
       "      <td>0.000000</td>\n",
       "      <td>0.0</td>\n",
       "      <td>0.0</td>\n",
       "      <td>0.0</td>\n",
       "    </tr>\n",
       "    <tr>\n",
       "      <th>2</th>\n",
       "      <td>Arden/Habersham, Atlanta, GA</td>\n",
       "      <td>0.000000</td>\n",
       "      <td>0.0</td>\n",
       "      <td>0.0</td>\n",
       "      <td>0.000000</td>\n",
       "      <td>0.0</td>\n",
       "      <td>0.0</td>\n",
       "      <td>0.0</td>\n",
       "      <td>0.0</td>\n",
       "      <td>0.0</td>\n",
       "      <td>...</td>\n",
       "      <td>0.0</td>\n",
       "      <td>0.0</td>\n",
       "      <td>0.0</td>\n",
       "      <td>0.0</td>\n",
       "      <td>0.0</td>\n",
       "      <td>0.000000</td>\n",
       "      <td>0.000000</td>\n",
       "      <td>0.0</td>\n",
       "      <td>0.0</td>\n",
       "      <td>0.0</td>\n",
       "    </tr>\n",
       "    <tr>\n",
       "      <th>3</th>\n",
       "      <td>Atlanta University Center, Atlanta, GA</td>\n",
       "      <td>0.000000</td>\n",
       "      <td>0.0</td>\n",
       "      <td>0.0</td>\n",
       "      <td>0.000000</td>\n",
       "      <td>0.0</td>\n",
       "      <td>0.0</td>\n",
       "      <td>0.0</td>\n",
       "      <td>0.0</td>\n",
       "      <td>0.0</td>\n",
       "      <td>...</td>\n",
       "      <td>0.0</td>\n",
       "      <td>0.0</td>\n",
       "      <td>0.0</td>\n",
       "      <td>0.0</td>\n",
       "      <td>0.0</td>\n",
       "      <td>0.111111</td>\n",
       "      <td>0.000000</td>\n",
       "      <td>0.0</td>\n",
       "      <td>0.0</td>\n",
       "      <td>0.0</td>\n",
       "    </tr>\n",
       "    <tr>\n",
       "      <th>4</th>\n",
       "      <td>Atlantic Station, Atlanta, GA</td>\n",
       "      <td>0.015385</td>\n",
       "      <td>0.0</td>\n",
       "      <td>0.0</td>\n",
       "      <td>0.046154</td>\n",
       "      <td>0.0</td>\n",
       "      <td>0.0</td>\n",
       "      <td>0.0</td>\n",
       "      <td>0.0</td>\n",
       "      <td>0.0</td>\n",
       "      <td>...</td>\n",
       "      <td>0.0</td>\n",
       "      <td>0.0</td>\n",
       "      <td>0.0</td>\n",
       "      <td>0.0</td>\n",
       "      <td>0.0</td>\n",
       "      <td>0.000000</td>\n",
       "      <td>0.046154</td>\n",
       "      <td>0.0</td>\n",
       "      <td>0.0</td>\n",
       "      <td>0.0</td>\n",
       "    </tr>\n",
       "  </tbody>\n",
       "</table>\n",
       "<p>5 rows × 286 columns</p>\n",
       "</div>"
      ],
      "text/plain": [
       "                             Neighborhood  Accessories Store  Adult Boutique  \\\n",
       "0                 Adamsville, Atlanta, GA           0.000000             0.0   \n",
       "1                Ansley Park, Atlanta, GA           0.000000             0.0   \n",
       "2            Arden/Habersham, Atlanta, GA           0.000000             0.0   \n",
       "3  Atlanta University Center, Atlanta, GA           0.000000             0.0   \n",
       "4           Atlantic Station, Atlanta, GA           0.015385             0.0   \n",
       "\n",
       "   African Restaurant  American Restaurant  Amphitheater  Antique Shop  \\\n",
       "0                 0.0             0.000000           0.0           0.0   \n",
       "1                 0.0             0.044444           0.0           0.0   \n",
       "2                 0.0             0.000000           0.0           0.0   \n",
       "3                 0.0             0.000000           0.0           0.0   \n",
       "4                 0.0             0.046154           0.0           0.0   \n",
       "\n",
       "   Aquarium  Arepa Restaurant  Art Gallery  ...  Volleyball Court  \\\n",
       "0       0.0               0.0          0.0  ...               0.0   \n",
       "1       0.0               0.0          0.0  ...               0.0   \n",
       "2       0.0               0.0          0.0  ...               0.0   \n",
       "3       0.0               0.0          0.0  ...               0.0   \n",
       "4       0.0               0.0          0.0  ...               0.0   \n",
       "\n",
       "   Weight Loss Center  Whisky Bar  Wine Bar  Wine Shop  Wings Joint  \\\n",
       "0                 0.0         0.0       0.0        0.0     0.000000   \n",
       "1                 0.0         0.0       0.0        0.0     0.000000   \n",
       "2                 0.0         0.0       0.0        0.0     0.000000   \n",
       "3                 0.0         0.0       0.0        0.0     0.111111   \n",
       "4                 0.0         0.0       0.0        0.0     0.000000   \n",
       "\n",
       "   Women's Store  Yoga Studio  Zoo  Zoo Exhibit  \n",
       "0       0.000000          0.0  0.0          0.0  \n",
       "1       0.000000          0.0  0.0          0.0  \n",
       "2       0.000000          0.0  0.0          0.0  \n",
       "3       0.000000          0.0  0.0          0.0  \n",
       "4       0.046154          0.0  0.0          0.0  \n",
       "\n",
       "[5 rows x 286 columns]"
      ]
     },
     "execution_count": 45,
     "metadata": {},
     "output_type": "execute_result"
    }
   ],
   "source": [
    "# Getting means for each type\n",
    "atl_grouped = atl_onehot.groupby('Neighborhood').mean().reset_index()\n",
    "atl_grouped.head()"
   ]
  },
  {
   "cell_type": "markdown",
   "metadata": {},
   "source": [
    "### Want to get a little look at where some of the coffee 'hotspots' are in Atlanta"
   ]
  },
  {
   "cell_type": "code",
   "execution_count": 31,
   "metadata": {},
   "outputs": [],
   "source": [
    "import matplotlib.pyplot as plt"
   ]
  },
  {
   "cell_type": "code",
   "execution_count": 43,
   "metadata": {},
   "outputs": [],
   "source": [
    "coffee_map = atl_grouped[['Neighborhood', 'Coffee Shop']]\n",
    "coffee_map = coffee_map[coffee_map['Coffee Shop'] > 0].sort_values(by = 'Coffee Shop', ascending = False) "
   ]
  },
  {
   "cell_type": "code",
   "execution_count": 42,
   "metadata": {},
   "outputs": [
    {
     "data": {
      "image/png": "[encoded data removed]",
      "text/plain": [
       "<Figure size 576x432 with 1 Axes>"
      ]
     },
     "metadata": {
      "needs_background": "light"
     },
     "output_type": "display_data"
    }
   ],
   "source": [
    "plt.figure(figsize=(8,6))\n",
    "plt.bar(coffee_map['Neighborhood'],coffee_map['Coffee Shop'])\n",
    "plt.xticks(rotation=90)\n",
    "plt.ylabel('Mean Prevalence of Coffee Shops')\n",
    "plt.show()"
   ]
  },
  {
   "cell_type": "markdown",
   "metadata": {},
   "source": [
    "### Running Clustering Model"
   ]
  },
  {
   "cell_type": "markdown",
   "metadata": {},
   "source": [
    "I initially wanted to use Agglomerative Clustering. However, the grouping did not appear to be ideal and left a few very large groups. K Means clustering appeared to result in a much better distribution of groups."
   ]
  },
  {
   "cell_type": "code",
   "execution_count": 75,
   "metadata": {},
   "outputs": [],
   "source": [
    "atl_grouped_km = atl_grouped.drop('Neighborhood', axis = 1)"
   ]
  },
  {
   "cell_type": "code",
   "execution_count": null,
   "metadata": {},
   "outputs": [],
   "source": [
    "from sklearn.cluster import KMeans"
   ]
  },
  {
   "cell_type": "markdown",
   "metadata": {},
   "source": [
    "#### Determining appropriate K using elbow method."
   ]
  },
  {
   "cell_type": "markdown",
   "metadata": {},
   "source": [
    "This graph is a little odd, but I am calling the K of 6 as the first elbow."
   ]
  },
  {
   "cell_type": "code",
   "execution_count": 86,
   "metadata": {},
   "outputs": [
    {
     "data": {
      "image/png": "[encoded data removed]",
      "text/plain": [
       "<Figure size 432x288 with 1 Axes>"
      ]
     },
     "metadata": {
      "needs_background": "light"
     },
     "output_type": "display_data"
    }
   ],
   "source": [
    "from scipy.spatial.distance import cdist\n",
    "\n",
    "# k means determine k\n",
    "distortions = []\n",
    "K_options = range(1,10)\n",
    "for k in K_options:\n",
    "    kmeanModel = KMeans(n_clusters=k).fit(atl_grouped_km)\n",
    "    kmeanModel.fit(atl_grouped_km)\n",
    "    distortions.append(sum(np.min(cdist(atl_grouped_km, kmeanModel.cluster_centers_, 'euclidean'), axis=1)) / atl_grouped_km.shape[0])\n",
    "\n",
    "# Plot the elbow\n",
    "plt.plot(K_options, distortions, 'bx-')\n",
    "plt.xlabel('k')\n",
    "plt.ylabel('Distortion')\n",
    "plt.title('The Elbow Method showing the optimal k')\n",
    "plt.show()"
   ]
  },
  {
   "cell_type": "code",
   "execution_count": 87,
   "metadata": {},
   "outputs": [],
   "source": [
    "kmeans = KMeans(n_clusters=6, random_state=0).fit(atl_grouped_km)"
   ]
  },
  {
   "cell_type": "code",
   "execution_count": 90,
   "metadata": {},
   "outputs": [
    {
     "data": {
      "text/plain": [
       "73"
      ]
     },
     "execution_count": 90,
     "metadata": {},
     "output_type": "execute_result"
    }
   ],
   "source": [
    "len(kmeans.labels_)"
   ]
  },
  {
   "cell_type": "code",
   "execution_count": 93,
   "metadata": {},
   "outputs": [],
   "source": [
    "# Adding cluster to data set\n",
    "atl_grouped['Cluster'] = kmeans.labels_"
   ]
  },
  {
   "cell_type": "markdown",
   "metadata": {},
   "source": [
    "### Lets see where the groups are within the city of Atlanta."
   ]
  },
  {
   "cell_type": "code",
   "execution_count": 133,
   "metadata": {},
   "outputs": [
    {
     "data": {
      "text/html": [
       "<div>\n",
       "<style scoped>\n",
       "    .dataframe tbody tr th:only-of-type {\n",
       "        vertical-align: middle;\n",
       "    }\n",
       "\n",
       "    .dataframe tbody tr th {\n",
       "        vertical-align: top;\n",
       "    }\n",
       "\n",
       "    .dataframe thead th {\n",
       "        text-align: right;\n",
       "    }\n",
       "</style>\n",
       "<table border=\"1\" class=\"dataframe\">\n",
       "  <thead>\n",
       "    <tr style=\"text-align: right;\">\n",
       "      <th></th>\n",
       "      <th>Neighborhood</th>\n",
       "      <th>Neighborhood Latitude</th>\n",
       "      <th>Neighborhood Longitude</th>\n",
       "      <th>Cluster</th>\n",
       "      <th>Cluster Count</th>\n",
       "    </tr>\n",
       "  </thead>\n",
       "  <tbody>\n",
       "    <tr>\n",
       "      <th>0</th>\n",
       "      <td>Adamsville, Atlanta, GA</td>\n",
       "      <td>33.75947</td>\n",
       "      <td>-84.505320</td>\n",
       "      <td>purple</td>\n",
       "      <td>4</td>\n",
       "    </tr>\n",
       "    <tr>\n",
       "      <th>1</th>\n",
       "      <td>Ansley Park, Atlanta, GA</td>\n",
       "      <td>33.79312</td>\n",
       "      <td>-84.379900</td>\n",
       "      <td>orange</td>\n",
       "      <td>3</td>\n",
       "    </tr>\n",
       "    <tr>\n",
       "      <th>2</th>\n",
       "      <td>Arden/Habersham, Atlanta, GA</td>\n",
       "      <td>33.83860</td>\n",
       "      <td>-84.384491</td>\n",
       "      <td>green</td>\n",
       "      <td>2</td>\n",
       "    </tr>\n",
       "    <tr>\n",
       "      <th>3</th>\n",
       "      <td>Atlanta University Center, Atlanta, GA</td>\n",
       "      <td>33.75092</td>\n",
       "      <td>-84.412340</td>\n",
       "      <td>orange</td>\n",
       "      <td>3</td>\n",
       "    </tr>\n",
       "    <tr>\n",
       "      <th>4</th>\n",
       "      <td>Atlantic Station, Atlanta, GA</td>\n",
       "      <td>33.79154</td>\n",
       "      <td>-84.396160</td>\n",
       "      <td>green</td>\n",
       "      <td>2</td>\n",
       "    </tr>\n",
       "  </tbody>\n",
       "</table>\n",
       "</div>"
      ],
      "text/plain": [
       "                             Neighborhood  Neighborhood Latitude  \\\n",
       "0                 Adamsville, Atlanta, GA               33.75947   \n",
       "1                Ansley Park, Atlanta, GA               33.79312   \n",
       "2            Arden/Habersham, Atlanta, GA               33.83860   \n",
       "3  Atlanta University Center, Atlanta, GA               33.75092   \n",
       "4           Atlantic Station, Atlanta, GA               33.79154   \n",
       "\n",
       "   Neighborhood Longitude Cluster  Cluster Count  \n",
       "0              -84.505320  purple              4  \n",
       "1              -84.379900  orange              3  \n",
       "2              -84.384491   green              2  \n",
       "3              -84.412340  orange              3  \n",
       "4              -84.396160   green              2  "
      ]
     },
     "execution_count": 133,
     "metadata": {},
     "output_type": "execute_result"
    }
   ],
   "source": [
    "clust_colors = []\n",
    "for ii in kmeans.labels_:\n",
    "    if ii == 0:\n",
    "       color = 'blue'\n",
    "    elif ii == 1:\n",
    "       color = 'red'\n",
    "    elif ii == 2:\n",
    "       color = 'green'\n",
    "    elif ii == 3:\n",
    "       color = 'orange'\n",
    "    elif ii == 4:\n",
    "       color = 'purple'\n",
    "    else: \n",
    "       color = 'grey'\n",
    "    clust_colors.append(color)\n",
    "        \n",
    "new_map['Cluster'] = clust_colors\n",
    "new_map['Cluster Count'] = kmeans.labels_\n",
    "new_map.head()"
   ]
  },
  {
   "cell_type": "code",
   "execution_count": 135,
   "metadata": {},
   "outputs": [
    {
     "data": {
      "text/html": [
       "<div style=\"width:100%;\"><div style=\"position:relative;width:100%;height:0;padding-bottom:60%;\"><iframe src=\"data:text/html;charset=utf-8;base64,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\" style=\"position:absolute;width:100%;height:100%;left:0;top:0;border:none !important;\" allowfullscreen webkitallowfullscreen mozallowfullscreen></iframe></div></div>"
      ],
      "text/plain": [
       "<folium.folium.Map at 0x1ba41cc6d08>"
      ]
     },
     "execution_count": 135,
     "metadata": {},
     "output_type": "execute_result"
    }
   ],
   "source": [
    "# create map of New York using latitude and longitude values\n",
    "new_map_atl = folium.Map(location=[33.7868002,-84.3970265], zoom_start=12)\n",
    "\n",
    "# add markers to map\n",
    "for lat, lng, borough, cluster, num in zip(new_map['Neighborhood Latitude'], new_map['Neighborhood Longitude'], new_map['Neighborhood'], new_map['Cluster'], new_map['Cluster Count']):\n",
    "    label = str(borough) + ' ' + str(num)\n",
    "    #label = folium.Popup(label, parse_html=True)\n",
    "    folium.CircleMarker(\n",
    "        [lat, lng],\n",
    "        radius=7,\n",
    "        popup=label,\n",
    "        color=cluster,\n",
    "        fill=True,\n",
    "        fill_color=cluster,\n",
    "        fill_opacity=0.7,\n",
    "        parse_html=False).add_to(new_map_atl)  \n",
    "    \n",
    "new_map_atl"
   ]
  },
  {
   "cell_type": "markdown",
   "metadata": {},
   "source": [
    "### Vizualizing the Coffee Frequency Plot with different colors being groups"
   ]
  },
  {
   "cell_type": "code",
   "execution_count": 100,
   "metadata": {},
   "outputs": [],
   "source": [
    "cluster_coffee_map = atl_grouped[atl_grouped['Coffee Shop'] > 0].sort_values(by = 'Coffee Shop', ascending = False) "
   ]
  },
  {
   "cell_type": "code",
   "execution_count": 102,
   "metadata": {},
   "outputs": [
    {
     "data": {
      "text/plain": [
       "<seaborn.axisgrid.FacetGrid at 0x1ba3f916208>"
      ]
     },
     "execution_count": 102,
     "metadata": {},
     "output_type": "execute_result"
    },
    {
     "data": {
      "image/png": "[encoded data removed]",
      "text/plain": [
       "<Figure size 907.5x216 with 1 Axes>"
      ]
     },
     "metadata": {
      "needs_background": "light"
     },
     "output_type": "display_data"
    }
   ],
   "source": [
    "import seaborn\n",
    "\n",
    "cluster_group = [0,1,2,3,4,5]\n",
    "fg = seaborn.FacetGrid(data=cluster_coffee_map, hue='Cluster', hue_order=cluster_group, aspect=4)\n",
    "fg.map(plt.bar, 'Neighborhood', 'Coffee Shop').add_legend()\n",
    "fg.set_xticklabels(rotation=90)"
   ]
  },
  {
   "cell_type": "markdown",
   "metadata": {},
   "source": [
    "What is intersting here is that only three clusters contain coffee shops. Perkerson is an interesting one, because it is the only neighborhood in cluster 4 with any coffee shops."
   ]
  },
  {
   "cell_type": "code",
   "execution_count": 105,
   "metadata": {},
   "outputs": [
    {
     "data": {
      "text/html": [
       "<div>\n",
       "<style scoped>\n",
       "    .dataframe tbody tr th:only-of-type {\n",
       "        vertical-align: middle;\n",
       "    }\n",
       "\n",
       "    .dataframe tbody tr th {\n",
       "        vertical-align: top;\n",
       "    }\n",
       "\n",
       "    .dataframe thead th {\n",
       "        text-align: right;\n",
       "    }\n",
       "</style>\n",
       "<table border=\"1\" class=\"dataframe\">\n",
       "  <thead>\n",
       "    <tr style=\"text-align: right;\">\n",
       "      <th></th>\n",
       "      <th>Neighborhood</th>\n",
       "      <th>Neighborhood Latitude</th>\n",
       "      <th>Neighborhood Longitude</th>\n",
       "      <th>Venue</th>\n",
       "      <th>Venue Latitude</th>\n",
       "      <th>Venue Longitude</th>\n",
       "      <th>Venue Category</th>\n",
       "    </tr>\n",
       "  </thead>\n",
       "  <tbody>\n",
       "    <tr>\n",
       "      <th>2829</th>\n",
       "      <td>Perkerson, Atlanta, GA</td>\n",
       "      <td>33.68924</td>\n",
       "      <td>-84.41169</td>\n",
       "      <td>Rosie's Coffee Cafe</td>\n",
       "      <td>33.692132</td>\n",
       "      <td>-84.418177</td>\n",
       "      <td>Coffee Shop</td>\n",
       "    </tr>\n",
       "    <tr>\n",
       "      <th>2830</th>\n",
       "      <td>Perkerson, Atlanta, GA</td>\n",
       "      <td>33.68924</td>\n",
       "      <td>-84.41169</td>\n",
       "      <td>A Town Wings</td>\n",
       "      <td>33.682283</td>\n",
       "      <td>-84.407460</td>\n",
       "      <td>Wings Joint</td>\n",
       "    </tr>\n",
       "    <tr>\n",
       "      <th>2831</th>\n",
       "      <td>Perkerson, Atlanta, GA</td>\n",
       "      <td>33.68924</td>\n",
       "      <td>-84.41169</td>\n",
       "      <td>Dollar Tree</td>\n",
       "      <td>33.682039</td>\n",
       "      <td>-84.409839</td>\n",
       "      <td>Discount Store</td>\n",
       "    </tr>\n",
       "    <tr>\n",
       "      <th>2832</th>\n",
       "      <td>Perkerson, Atlanta, GA</td>\n",
       "      <td>33.68924</td>\n",
       "      <td>-84.41169</td>\n",
       "      <td>Shell</td>\n",
       "      <td>33.687100</td>\n",
       "      <td>-84.408629</td>\n",
       "      <td>Gas Station</td>\n",
       "    </tr>\n",
       "    <tr>\n",
       "      <th>2833</th>\n",
       "      <td>Perkerson, Atlanta, GA</td>\n",
       "      <td>33.68924</td>\n",
       "      <td>-84.41169</td>\n",
       "      <td>Papa John's Pizza</td>\n",
       "      <td>33.682138</td>\n",
       "      <td>-84.408262</td>\n",
       "      <td>Pizza Place</td>\n",
       "    </tr>\n",
       "    <tr>\n",
       "      <th>2834</th>\n",
       "      <td>Perkerson, Atlanta, GA</td>\n",
       "      <td>33.68924</td>\n",
       "      <td>-84.41169</td>\n",
       "      <td>Foot Locker</td>\n",
       "      <td>33.682259</td>\n",
       "      <td>-84.409267</td>\n",
       "      <td>Shoe Store</td>\n",
       "    </tr>\n",
       "    <tr>\n",
       "      <th>2835</th>\n",
       "      <td>Perkerson, Atlanta, GA</td>\n",
       "      <td>33.68924</td>\n",
       "      <td>-84.41169</td>\n",
       "      <td>The Empty Stocking Fund (Santa's Village)</td>\n",
       "      <td>33.692249</td>\n",
       "      <td>-84.406544</td>\n",
       "      <td>Toy / Game Store</td>\n",
       "    </tr>\n",
       "    <tr>\n",
       "      <th>2836</th>\n",
       "      <td>Perkerson, Atlanta, GA</td>\n",
       "      <td>33.68924</td>\n",
       "      <td>-84.41169</td>\n",
       "      <td>American Deli</td>\n",
       "      <td>33.681929</td>\n",
       "      <td>-84.408319</td>\n",
       "      <td>Wings Joint</td>\n",
       "    </tr>\n",
       "    <tr>\n",
       "      <th>2837</th>\n",
       "      <td>Perkerson, Atlanta, GA</td>\n",
       "      <td>33.68924</td>\n",
       "      <td>-84.41169</td>\n",
       "      <td>Rainbow Apparel</td>\n",
       "      <td>33.682577</td>\n",
       "      <td>-84.409967</td>\n",
       "      <td>Clothing Store</td>\n",
       "    </tr>\n",
       "    <tr>\n",
       "      <th>2838</th>\n",
       "      <td>Perkerson, Atlanta, GA</td>\n",
       "      <td>33.68924</td>\n",
       "      <td>-84.41169</td>\n",
       "      <td>Banks Liquor Store</td>\n",
       "      <td>33.695745</td>\n",
       "      <td>-84.408543</td>\n",
       "      <td>Liquor Store</td>\n",
       "    </tr>\n",
       "    <tr>\n",
       "      <th>2839</th>\n",
       "      <td>Perkerson, Atlanta, GA</td>\n",
       "      <td>33.68924</td>\n",
       "      <td>-84.41169</td>\n",
       "      <td>Boston Fish Supreme</td>\n",
       "      <td>33.681757</td>\n",
       "      <td>-84.414034</td>\n",
       "      <td>Fast Food Restaurant</td>\n",
       "    </tr>\n",
       "    <tr>\n",
       "      <th>2840</th>\n",
       "      <td>Perkerson, Atlanta, GA</td>\n",
       "      <td>33.68924</td>\n",
       "      <td>-84.41169</td>\n",
       "      <td>Metropolitan Pkwy &amp; GA-166</td>\n",
       "      <td>33.696495</td>\n",
       "      <td>-84.408131</td>\n",
       "      <td>Intersection</td>\n",
       "    </tr>\n",
       "    <tr>\n",
       "      <th>2841</th>\n",
       "      <td>Perkerson, Atlanta, GA</td>\n",
       "      <td>33.68924</td>\n",
       "      <td>-84.41169</td>\n",
       "      <td>S.O.S Deli</td>\n",
       "      <td>33.696988</td>\n",
       "      <td>-84.410154</td>\n",
       "      <td>Restaurant</td>\n",
       "    </tr>\n",
       "  </tbody>\n",
       "</table>\n",
       "</div>"
      ],
      "text/plain": [
       "                Neighborhood  Neighborhood Latitude  Neighborhood Longitude  \\\n",
       "2829  Perkerson, Atlanta, GA               33.68924               -84.41169   \n",
       "2830  Perkerson, Atlanta, GA               33.68924               -84.41169   \n",
       "2831  Perkerson, Atlanta, GA               33.68924               -84.41169   \n",
       "2832  Perkerson, Atlanta, GA               33.68924               -84.41169   \n",
       "2833  Perkerson, Atlanta, GA               33.68924               -84.41169   \n",
       "2834  Perkerson, Atlanta, GA               33.68924               -84.41169   \n",
       "2835  Perkerson, Atlanta, GA               33.68924               -84.41169   \n",
       "2836  Perkerson, Atlanta, GA               33.68924               -84.41169   \n",
       "2837  Perkerson, Atlanta, GA               33.68924               -84.41169   \n",
       "2838  Perkerson, Atlanta, GA               33.68924               -84.41169   \n",
       "2839  Perkerson, Atlanta, GA               33.68924               -84.41169   \n",
       "2840  Perkerson, Atlanta, GA               33.68924               -84.41169   \n",
       "2841  Perkerson, Atlanta, GA               33.68924               -84.41169   \n",
       "\n",
       "                                          Venue  Venue Latitude  \\\n",
       "2829                        Rosie's Coffee Cafe       33.692132   \n",
       "2830                               A Town Wings       33.682283   \n",
       "2831                                Dollar Tree       33.682039   \n",
       "2832                                      Shell       33.687100   \n",
       "2833                          Papa John's Pizza       33.682138   \n",
       "2834                                Foot Locker       33.682259   \n",
       "2835  The Empty Stocking Fund (Santa's Village)       33.692249   \n",
       "2836                              American Deli       33.681929   \n",
       "2837                            Rainbow Apparel       33.682577   \n",
       "2838                         Banks Liquor Store       33.695745   \n",
       "2839                        Boston Fish Supreme       33.681757   \n",
       "2840                 Metropolitan Pkwy & GA-166       33.696495   \n",
       "2841                                 S.O.S Deli       33.696988   \n",
       "\n",
       "      Venue Longitude        Venue Category  \n",
       "2829       -84.418177           Coffee Shop  \n",
       "2830       -84.407460           Wings Joint  \n",
       "2831       -84.409839        Discount Store  \n",
       "2832       -84.408629           Gas Station  \n",
       "2833       -84.408262           Pizza Place  \n",
       "2834       -84.409267            Shoe Store  \n",
       "2835       -84.406544      Toy / Game Store  \n",
       "2836       -84.408319           Wings Joint  \n",
       "2837       -84.409967        Clothing Store  \n",
       "2838       -84.408543          Liquor Store  \n",
       "2839       -84.414034  Fast Food Restaurant  \n",
       "2840       -84.408131          Intersection  \n",
       "2841       -84.410154            Restaurant  "
      ]
     },
     "execution_count": 105,
     "metadata": {},
     "output_type": "execute_result"
    }
   ],
   "source": [
    "perkerson = atl_venues2[atl_venues2['Neighborhood'] == 'Perkerson, Atlanta, GA']\n",
    "perkerson"
   ]
  },
  {
   "cell_type": "markdown",
   "metadata": {},
   "source": [
    "Perkerson appears to not have many locations which would drive foot traffic. Furthermore, in looking at the map it appears this place is by the highway, reinforcing the 'grab-n-go' nature of the businesses here. I think we can rule out Perkerson as a potential coffee shop location.\n",
    "\n",
    "Furthermore, as someone with a local knowledge of the city, clusters 2 and 3 make sense. These generally refer to areas with a lot of commerce and are known for good food/drink. We are going to continue with just these clusters. The rationale being no other clusters even feature a coffee shop, which is likely because there is a lack of commerce or foot traffic. I bow to the large conglomerates who have done their market research!"
   ]
  },
  {
   "cell_type": "markdown",
   "metadata": {},
   "source": [
    "#### Since we know Clusters 2 and 3, lets look more cloesly at them."
   ]
  },
  {
   "cell_type": "code",
   "execution_count": 139,
   "metadata": {},
   "outputs": [],
   "source": [
    "atl_grouped['Cluster'] = kmeans.labels_"
   ]
  },
  {
   "cell_type": "code",
   "execution_count": 141,
   "metadata": {},
   "outputs": [],
   "source": [
    "atl_revised = atl_grouped.loc[(atl_grouped['Cluster'] == 2) | (atl_grouped['Cluster'] ==3)]"
   ]
  },
  {
   "cell_type": "code",
   "execution_count": 143,
   "metadata": {},
   "outputs": [
    {
     "data": {
      "text/plain": [
       "array([ 0,  1,  2,  3,  4,  5,  6,  7,  8,  9, 10, 11, 12, 13, 14, 15, 16,\n",
       "       17, 18, 19, 20, 21, 22, 23, 24, 25, 26, 27, 28, 29, 30, 31, 32, 33,\n",
       "       34, 35, 36, 37, 38, 39, 40, 41, 42, 43, 44, 45, 46, 47, 48, 49, 50,\n",
       "       51, 52, 53, 54])"
      ]
     },
     "execution_count": 143,
     "metadata": {},
     "output_type": "execute_result"
    }
   ],
   "source": [
    "np.arange(55)"
   ]
  },
  {
   "cell_type": "code",
   "execution_count": 144,
   "metadata": {},
   "outputs": [],
   "source": [
    "def return_most_common_venues(row, num_top_venues):\n",
    "    row_categories = row.iloc[1:]\n",
    "    row_categories_sorted = row_categories.sort_values(ascending=False)\n",
    "    \n",
    "    return row_categories_sorted.index.values[0:num_top_venues]"
   ]
  },
  {
   "cell_type": "code",
   "execution_count": 176,
   "metadata": {},
   "outputs": [],
   "source": [
    "num_top_venues = 20\n",
    "\n",
    "indicators = ['st', 'nd', 'rd']\n",
    "\n",
    "# create columns according to number of top venues\n",
    "columns = ['Neighborhood']\n",
    "for ind in np.arange(num_top_venues):\n",
    "    try:\n",
    "        columns.append('{}{} Most Common Venue'.format(ind+1, indicators[ind]))\n",
    "    except:\n",
    "        columns.append('{}th Most Common Venue'.format(ind+1))\n",
    "\n",
    "# create a new dataframe\n",
    "atl_top_venues = pd.DataFrame(columns=columns)\n",
    "atl_top_venues['Neighborhood'] = atl_revised['Neighborhood']\n",
    "\n",
    "for ind in np.arange(atl_revised.shape[0]-1):\n",
    "    atl_top_venues.iloc[ind, 1:] = return_most_common_venues(atl_grouped.iloc[ind, :-1], num_top_venues)\n",
    "\n",
    "atl_top_venues['Cluster'] = atl_grouped['Cluster']"
   ]
  },
  {
   "cell_type": "markdown",
   "metadata": {},
   "source": [
    "We are going to use this frequency of coffee shops to our advantage. First, because coffee shops are direct competition, if they appear in the top 20 more common venues, that is likely a neighborhood to avoid. Therefore, we are going to look at the presence of coffee shops (and associated businesses such as Cafe, Bakery, and Tea rooms)."
   ]
  },
  {
   "cell_type": "code",
   "execution_count": 197,
   "metadata": {},
   "outputs": [
    {
     "data": {
      "text/html": [
       "<div>\n",
       "<style scoped>\n",
       "    .dataframe tbody tr th:only-of-type {\n",
       "        vertical-align: middle;\n",
       "    }\n",
       "\n",
       "    .dataframe tbody tr th {\n",
       "        vertical-align: top;\n",
       "    }\n",
       "\n",
       "    .dataframe thead th {\n",
       "        text-align: right;\n",
       "    }\n",
       "</style>\n",
       "<table border=\"1\" class=\"dataframe\">\n",
       "  <thead>\n",
       "    <tr style=\"text-align: right;\">\n",
       "      <th></th>\n",
       "      <th>Neighborhood</th>\n",
       "      <th>1st Most Common Venue</th>\n",
       "      <th>2nd Most Common Venue</th>\n",
       "      <th>3rd Most Common Venue</th>\n",
       "      <th>4th Most Common Venue</th>\n",
       "      <th>5th Most Common Venue</th>\n",
       "      <th>6th Most Common Venue</th>\n",
       "      <th>7th Most Common Venue</th>\n",
       "      <th>8th Most Common Venue</th>\n",
       "      <th>9th Most Common Venue</th>\n",
       "      <th>...</th>\n",
       "      <th>13th Most Common Venue</th>\n",
       "      <th>14th Most Common Venue</th>\n",
       "      <th>15th Most Common Venue</th>\n",
       "      <th>16th Most Common Venue</th>\n",
       "      <th>17th Most Common Venue</th>\n",
       "      <th>18th Most Common Venue</th>\n",
       "      <th>19th Most Common Venue</th>\n",
       "      <th>20th Most Common Venue</th>\n",
       "      <th>Cluster</th>\n",
       "      <th>Coffee</th>\n",
       "    </tr>\n",
       "  </thead>\n",
       "  <tbody>\n",
       "    <tr>\n",
       "      <th>1</th>\n",
       "      <td>Ansley Park, Atlanta, GA</td>\n",
       "      <td>Discount Store</td>\n",
       "      <td>Fried Chicken Joint</td>\n",
       "      <td>Liquor Store</td>\n",
       "      <td>Fast Food Restaurant</td>\n",
       "      <td>Seafood Restaurant</td>\n",
       "      <td>Food</td>\n",
       "      <td>Chinese Restaurant</td>\n",
       "      <td>Laundromat</td>\n",
       "      <td>Gas Station</td>\n",
       "      <td>...</td>\n",
       "      <td>Falafel Restaurant</td>\n",
       "      <td>Food Court</td>\n",
       "      <td>Food &amp; Drink Shop</td>\n",
       "      <td>Farmers Market</td>\n",
       "      <td>Event Space</td>\n",
       "      <td>Food Service</td>\n",
       "      <td>Flea Market</td>\n",
       "      <td>Flower Shop</td>\n",
       "      <td>3</td>\n",
       "      <td>0</td>\n",
       "    </tr>\n",
       "    <tr>\n",
       "      <th>2</th>\n",
       "      <td>Arden/Habersham, Atlanta, GA</td>\n",
       "      <td>Restaurant</td>\n",
       "      <td>Garden</td>\n",
       "      <td>Park</td>\n",
       "      <td>Coffee Shop</td>\n",
       "      <td>Gym / Fitness Center</td>\n",
       "      <td>Sandwich Place</td>\n",
       "      <td>Theater</td>\n",
       "      <td>American Restaurant</td>\n",
       "      <td>Botanical Garden</td>\n",
       "      <td>...</td>\n",
       "      <td>Museum</td>\n",
       "      <td>Squash Court</td>\n",
       "      <td>Bistro</td>\n",
       "      <td>Food Truck</td>\n",
       "      <td>Miscellaneous Shop</td>\n",
       "      <td>Café</td>\n",
       "      <td>Golf Course</td>\n",
       "      <td>Flower Shop</td>\n",
       "      <td>2</td>\n",
       "      <td>1</td>\n",
       "    </tr>\n",
       "    <tr>\n",
       "      <th>3</th>\n",
       "      <td>Atlanta University Center, Atlanta, GA</td>\n",
       "      <td>Restaurant</td>\n",
       "      <td>Steakhouse</td>\n",
       "      <td>New American Restaurant</td>\n",
       "      <td>Burger Joint</td>\n",
       "      <td>Juice Bar</td>\n",
       "      <td>Lounge</td>\n",
       "      <td>Event Space</td>\n",
       "      <td>Taco Place</td>\n",
       "      <td>Gastropub</td>\n",
       "      <td>...</td>\n",
       "      <td>Museum</td>\n",
       "      <td>Kids Store</td>\n",
       "      <td>Bank</td>\n",
       "      <td>Hotel</td>\n",
       "      <td>Furniture / Home Store</td>\n",
       "      <td>Dessert Shop</td>\n",
       "      <td>Hotel Bar</td>\n",
       "      <td>Shopping Plaza</td>\n",
       "      <td>3</td>\n",
       "      <td>0</td>\n",
       "    </tr>\n",
       "    <tr>\n",
       "      <th>4</th>\n",
       "      <td>Atlantic Station, Atlanta, GA</td>\n",
       "      <td>Pizza Place</td>\n",
       "      <td>Wings Joint</td>\n",
       "      <td>Intersection</td>\n",
       "      <td>Sandwich Place</td>\n",
       "      <td>Buffet</td>\n",
       "      <td>Art Museum</td>\n",
       "      <td>Food Service</td>\n",
       "      <td>Café</td>\n",
       "      <td>Park</td>\n",
       "      <td>...</td>\n",
       "      <td>Fried Chicken Joint</td>\n",
       "      <td>Sports Bar</td>\n",
       "      <td>Eye Doctor</td>\n",
       "      <td>Flower Shop</td>\n",
       "      <td>Food</td>\n",
       "      <td>Flea Market</td>\n",
       "      <td>Food &amp; Drink Shop</td>\n",
       "      <td>Food Court</td>\n",
       "      <td>2</td>\n",
       "      <td>1</td>\n",
       "    </tr>\n",
       "    <tr>\n",
       "      <th>5</th>\n",
       "      <td>Berkeley Park, Atlanta, GA</td>\n",
       "      <td>Clothing Store</td>\n",
       "      <td>Women's Store</td>\n",
       "      <td>American Restaurant</td>\n",
       "      <td>Pizza Place</td>\n",
       "      <td>Shoe Store</td>\n",
       "      <td>Sandwich Place</td>\n",
       "      <td>Coffee Shop</td>\n",
       "      <td>Gym / Fitness Center</td>\n",
       "      <td>Boutique</td>\n",
       "      <td>...</td>\n",
       "      <td>Food Truck</td>\n",
       "      <td>Parking</td>\n",
       "      <td>Men's Store</td>\n",
       "      <td>Fried Chicken Joint</td>\n",
       "      <td>Mobile Phone Shop</td>\n",
       "      <td>Monument / Landmark</td>\n",
       "      <td>Shopping Plaza</td>\n",
       "      <td>Accessories Store</td>\n",
       "      <td>2</td>\n",
       "      <td>1</td>\n",
       "    </tr>\n",
       "  </tbody>\n",
       "</table>\n",
       "<p>5 rows × 23 columns</p>\n",
       "</div>"
      ],
      "text/plain": [
       "                             Neighborhood 1st Most Common Venue  \\\n",
       "1                Ansley Park, Atlanta, GA        Discount Store   \n",
       "2            Arden/Habersham, Atlanta, GA            Restaurant   \n",
       "3  Atlanta University Center, Atlanta, GA            Restaurant   \n",
       "4           Atlantic Station, Atlanta, GA           Pizza Place   \n",
       "5              Berkeley Park, Atlanta, GA        Clothing Store   \n",
       "\n",
       "  2nd Most Common Venue    3rd Most Common Venue 4th Most Common Venue  \\\n",
       "1   Fried Chicken Joint             Liquor Store  Fast Food Restaurant   \n",
       "2                Garden                     Park           Coffee Shop   \n",
       "3            Steakhouse  New American Restaurant          Burger Joint   \n",
       "4           Wings Joint             Intersection        Sandwich Place   \n",
       "5         Women's Store      American Restaurant           Pizza Place   \n",
       "\n",
       "  5th Most Common Venue 6th Most Common Venue 7th Most Common Venue  \\\n",
       "1    Seafood Restaurant                  Food    Chinese Restaurant   \n",
       "2  Gym / Fitness Center        Sandwich Place               Theater   \n",
       "3             Juice Bar                Lounge           Event Space   \n",
       "4                Buffet            Art Museum          Food Service   \n",
       "5            Shoe Store        Sandwich Place           Coffee Shop   \n",
       "\n",
       "  8th Most Common Venue 9th Most Common Venue  ... 13th Most Common Venue  \\\n",
       "1            Laundromat           Gas Station  ...     Falafel Restaurant   \n",
       "2   American Restaurant      Botanical Garden  ...                 Museum   \n",
       "3            Taco Place             Gastropub  ...                 Museum   \n",
       "4                  Café                  Park  ...    Fried Chicken Joint   \n",
       "5  Gym / Fitness Center              Boutique  ...             Food Truck   \n",
       "\n",
       "  14th Most Common Venue 15th Most Common Venue 16th Most Common Venue  \\\n",
       "1             Food Court      Food & Drink Shop         Farmers Market   \n",
       "2           Squash Court                 Bistro             Food Truck   \n",
       "3             Kids Store                   Bank                  Hotel   \n",
       "4             Sports Bar             Eye Doctor            Flower Shop   \n",
       "5                Parking            Men's Store    Fried Chicken Joint   \n",
       "\n",
       "   17th Most Common Venue 18th Most Common Venue 19th Most Common Venue  \\\n",
       "1             Event Space           Food Service            Flea Market   \n",
       "2      Miscellaneous Shop                   Café            Golf Course   \n",
       "3  Furniture / Home Store           Dessert Shop              Hotel Bar   \n",
       "4                    Food            Flea Market      Food & Drink Shop   \n",
       "5       Mobile Phone Shop    Monument / Landmark         Shopping Plaza   \n",
       "\n",
       "  20th Most Common Venue Cluster Coffee  \n",
       "1            Flower Shop       3      0  \n",
       "2            Flower Shop       2      1  \n",
       "3         Shopping Plaza       3      0  \n",
       "4             Food Court       2      1  \n",
       "5      Accessories Store       2      1  \n",
       "\n",
       "[5 rows x 23 columns]"
      ]
     },
     "execution_count": 197,
     "metadata": {},
     "output_type": "execute_result"
    }
   ],
   "source": [
    "coffee_common = []\n",
    "for ii in range(atl_top_venues.shape[0]):\n",
    "    present = 0\n",
    "    for yy in range(1,21):\n",
    "        if (atl_top_venues.iloc[ii,yy] == 'Coffee Shop') | (atl_top_venues.iloc[ii,yy] == 'Café') | (atl_top_venues.iloc[ii,yy] == 'Tea Room') | (atl_top_venues.iloc[ii,yy] == 'Bakery'):\n",
    "            present = 1\n",
    "           \n",
    "    coffee_common.append(present)\n",
    "    \n",
    "    \n",
    "atl_top_venues['Coffee'] = coffee_common\n",
    "atl_top_venues.head()        "
   ]
  },
  {
   "cell_type": "markdown",
   "metadata": {},
   "source": [
    "#### Now, who has the most coffee shops that are common?"
   ]
  },
  {
   "cell_type": "code",
   "execution_count": 198,
   "metadata": {},
   "outputs": [
    {
     "data": {
      "text/html": [
       "<div>\n",
       "<style scoped>\n",
       "    .dataframe tbody tr th:only-of-type {\n",
       "        vertical-align: middle;\n",
       "    }\n",
       "\n",
       "    .dataframe tbody tr th {\n",
       "        vertical-align: top;\n",
       "    }\n",
       "\n",
       "    .dataframe thead th {\n",
       "        text-align: right;\n",
       "    }\n",
       "</style>\n",
       "<table border=\"1\" class=\"dataframe\">\n",
       "  <thead>\n",
       "    <tr style=\"text-align: right;\">\n",
       "      <th></th>\n",
       "      <th>Coffee</th>\n",
       "    </tr>\n",
       "    <tr>\n",
       "      <th>Cluster</th>\n",
       "      <th></th>\n",
       "    </tr>\n",
       "  </thead>\n",
       "  <tbody>\n",
       "    <tr>\n",
       "      <th>2</th>\n",
       "      <td>0.772727</td>\n",
       "    </tr>\n",
       "    <tr>\n",
       "      <th>3</th>\n",
       "      <td>0.515152</td>\n",
       "    </tr>\n",
       "  </tbody>\n",
       "</table>\n",
       "</div>"
      ],
      "text/plain": [
       "           Coffee\n",
       "Cluster          \n",
       "2        0.772727\n",
       "3        0.515152"
      ]
     },
     "execution_count": 198,
     "metadata": {},
     "output_type": "execute_result"
    }
   ],
   "source": [
    "atl_top_venues[['Cluster', 'Coffee']].groupby('Cluster').mean()"
   ]
  },
  {
   "cell_type": "markdown",
   "metadata": {},
   "source": [
    "So, it does appear that coffee shops are more common in cluster 2, by 26%. Therefore, for the purposes of this assignment, we are going to look within neighboorhods of Cluster 2, **but focused on those without Coffee Shops**."
   ]
  },
  {
   "cell_type": "code",
   "execution_count": 199,
   "metadata": {},
   "outputs": [
    {
     "name": "stdout",
     "output_type": "stream",
     "text": [
      "We have returned 5 neighborhoods which are possible locations\n"
     ]
    }
   ],
   "source": [
    "cluster3_neighborhoods = atl_top_venues.loc[(atl_top_venues['Cluster'] == 2) & (atl_top_venues['Coffee'] == 0)].drop('Coffee', axis = 1)\n",
    "\n",
    "print('We have returned {} neighborhoods which are possible locations'.format(cluster3_neighborhoods.shape[0]))"
   ]
  },
  {
   "cell_type": "markdown",
   "metadata": {},
   "source": [
    "From this point forward, it appears to be a little more art than analytics. We want to find a space without many competing venues (e.g., fast food, breakfast) but also has some complementary venues which create foot traffic."
   ]
  },
  {
   "cell_type": "code",
   "execution_count": 200,
   "metadata": {},
   "outputs": [
    {
     "data": {
      "text/html": [
       "<div>\n",
       "<style scoped>\n",
       "    .dataframe tbody tr th:only-of-type {\n",
       "        vertical-align: middle;\n",
       "    }\n",
       "\n",
       "    .dataframe tbody tr th {\n",
       "        vertical-align: top;\n",
       "    }\n",
       "\n",
       "    .dataframe thead th {\n",
       "        text-align: right;\n",
       "    }\n",
       "</style>\n",
       "<table border=\"1\" class=\"dataframe\">\n",
       "  <thead>\n",
       "    <tr style=\"text-align: right;\">\n",
       "      <th></th>\n",
       "      <th>Neighborhood</th>\n",
       "      <th>1st Most Common Venue</th>\n",
       "      <th>2nd Most Common Venue</th>\n",
       "      <th>3rd Most Common Venue</th>\n",
       "      <th>4th Most Common Venue</th>\n",
       "      <th>5th Most Common Venue</th>\n",
       "      <th>6th Most Common Venue</th>\n",
       "      <th>7th Most Common Venue</th>\n",
       "      <th>8th Most Common Venue</th>\n",
       "      <th>9th Most Common Venue</th>\n",
       "      <th>...</th>\n",
       "      <th>12th Most Common Venue</th>\n",
       "      <th>13th Most Common Venue</th>\n",
       "      <th>14th Most Common Venue</th>\n",
       "      <th>15th Most Common Venue</th>\n",
       "      <th>16th Most Common Venue</th>\n",
       "      <th>17th Most Common Venue</th>\n",
       "      <th>18th Most Common Venue</th>\n",
       "      <th>19th Most Common Venue</th>\n",
       "      <th>20th Most Common Venue</th>\n",
       "      <th>Cluster</th>\n",
       "    </tr>\n",
       "  </thead>\n",
       "  <tbody>\n",
       "    <tr>\n",
       "      <th>8</th>\n",
       "      <td>Brookhaven, Atlanta, GA</td>\n",
       "      <td>Gym</td>\n",
       "      <td>Furniture / Home Store</td>\n",
       "      <td>Mexican Restaurant</td>\n",
       "      <td>Rental Car Location</td>\n",
       "      <td>Performing Arts Venue</td>\n",
       "      <td>Gastropub</td>\n",
       "      <td>Brewery</td>\n",
       "      <td>Gourmet Shop</td>\n",
       "      <td>Kitchen Supply Store</td>\n",
       "      <td>...</td>\n",
       "      <td>Arts &amp; Crafts Store</td>\n",
       "      <td>New American Restaurant</td>\n",
       "      <td>Soup Place</td>\n",
       "      <td>Intersection</td>\n",
       "      <td>Mobile Phone Shop</td>\n",
       "      <td>Photography Lab</td>\n",
       "      <td>Food Truck</td>\n",
       "      <td>American Restaurant</td>\n",
       "      <td>Tex-Mex Restaurant</td>\n",
       "      <td>2</td>\n",
       "    </tr>\n",
       "    <tr>\n",
       "      <th>11</th>\n",
       "      <td>Buckhead Village, Atlanta, GA</td>\n",
       "      <td>Mexican Restaurant</td>\n",
       "      <td>Breakfast Spot</td>\n",
       "      <td>Restaurant</td>\n",
       "      <td>Shopping Plaza</td>\n",
       "      <td>New American Restaurant</td>\n",
       "      <td>Gym</td>\n",
       "      <td>Gym / Fitness Center</td>\n",
       "      <td>Vegetarian / Vegan Restaurant</td>\n",
       "      <td>Arts &amp; Crafts Store</td>\n",
       "      <td>...</td>\n",
       "      <td>Middle Eastern Restaurant</td>\n",
       "      <td>Burrito Place</td>\n",
       "      <td>Pool</td>\n",
       "      <td>Pizza Place</td>\n",
       "      <td>Event Space</td>\n",
       "      <td>Flea Market</td>\n",
       "      <td>Flower Shop</td>\n",
       "      <td>Farmers Market</td>\n",
       "      <td>Farm</td>\n",
       "      <td>2</td>\n",
       "    </tr>\n",
       "    <tr>\n",
       "      <th>39</th>\n",
       "      <td>Lenox, Atlanta, GA</td>\n",
       "      <td>Nightclub</td>\n",
       "      <td>Gas Station</td>\n",
       "      <td>Art Gallery</td>\n",
       "      <td>Golf Course</td>\n",
       "      <td>History Museum</td>\n",
       "      <td>Gym / Fitness Center</td>\n",
       "      <td>Furniture / Home Store</td>\n",
       "      <td>BBQ Joint</td>\n",
       "      <td>Athletics &amp; Sports</td>\n",
       "      <td>...</td>\n",
       "      <td>Electronics Store</td>\n",
       "      <td>Discount Store</td>\n",
       "      <td>Strip Club</td>\n",
       "      <td>Southern / Soul Food Restaurant</td>\n",
       "      <td>Intersection</td>\n",
       "      <td>Spa</td>\n",
       "      <td>Dessert Shop</td>\n",
       "      <td>Gay Bar</td>\n",
       "      <td>Farmers Market</td>\n",
       "      <td>2</td>\n",
       "    </tr>\n",
       "    <tr>\n",
       "      <th>50</th>\n",
       "      <td>Paces, Atlanta, GA</td>\n",
       "      <td>Hotel</td>\n",
       "      <td>Chinese Restaurant</td>\n",
       "      <td>Seafood Restaurant</td>\n",
       "      <td>Soccer Field</td>\n",
       "      <td>Discount Store</td>\n",
       "      <td>Restaurant</td>\n",
       "      <td>Thai Restaurant</td>\n",
       "      <td>Fast Food Restaurant</td>\n",
       "      <td>Weight Loss Center</td>\n",
       "      <td>...</td>\n",
       "      <td>Wings Joint</td>\n",
       "      <td>African Restaurant</td>\n",
       "      <td>Pizza Place</td>\n",
       "      <td>Event Space</td>\n",
       "      <td>Ethiopian Restaurant</td>\n",
       "      <td>Exhibit</td>\n",
       "      <td>Zoo Exhibit</td>\n",
       "      <td>Eye Doctor</td>\n",
       "      <td>Falafel Restaurant</td>\n",
       "      <td>2</td>\n",
       "    </tr>\n",
       "    <tr>\n",
       "      <th>54</th>\n",
       "      <td>Peachtree Hills, Atlanta, GA</td>\n",
       "      <td>Gay Bar</td>\n",
       "      <td>Smoke Shop</td>\n",
       "      <td>Furniture / Home Store</td>\n",
       "      <td>Bank</td>\n",
       "      <td>Pet Store</td>\n",
       "      <td>Thrift / Vintage Store</td>\n",
       "      <td>Gym / Fitness Center</td>\n",
       "      <td>Video Store</td>\n",
       "      <td>Breakfast Spot</td>\n",
       "      <td>...</td>\n",
       "      <td>Taco Place</td>\n",
       "      <td>Storage Facility</td>\n",
       "      <td>Steakhouse</td>\n",
       "      <td>Residential Building (Apartment / Condo)</td>\n",
       "      <td>Gas Station</td>\n",
       "      <td>Clothing Store</td>\n",
       "      <td>Jewelry Store</td>\n",
       "      <td>Salon / Barbershop</td>\n",
       "      <td>Sandwich Place</td>\n",
       "      <td>2</td>\n",
       "    </tr>\n",
       "  </tbody>\n",
       "</table>\n",
       "<p>5 rows × 22 columns</p>\n",
       "</div>"
      ],
      "text/plain": [
       "                     Neighborhood 1st Most Common Venue  \\\n",
       "8         Brookhaven, Atlanta, GA                   Gym   \n",
       "11  Buckhead Village, Atlanta, GA    Mexican Restaurant   \n",
       "39             Lenox, Atlanta, GA             Nightclub   \n",
       "50             Paces, Atlanta, GA                 Hotel   \n",
       "54   Peachtree Hills, Atlanta, GA               Gay Bar   \n",
       "\n",
       "     2nd Most Common Venue   3rd Most Common Venue 4th Most Common Venue  \\\n",
       "8   Furniture / Home Store      Mexican Restaurant   Rental Car Location   \n",
       "11          Breakfast Spot              Restaurant        Shopping Plaza   \n",
       "39             Gas Station             Art Gallery           Golf Course   \n",
       "50      Chinese Restaurant      Seafood Restaurant          Soccer Field   \n",
       "54              Smoke Shop  Furniture / Home Store                  Bank   \n",
       "\n",
       "      5th Most Common Venue   6th Most Common Venue   7th Most Common Venue  \\\n",
       "8     Performing Arts Venue               Gastropub                 Brewery   \n",
       "11  New American Restaurant                     Gym    Gym / Fitness Center   \n",
       "39           History Museum    Gym / Fitness Center  Furniture / Home Store   \n",
       "50           Discount Store              Restaurant         Thai Restaurant   \n",
       "54                Pet Store  Thrift / Vintage Store    Gym / Fitness Center   \n",
       "\n",
       "            8th Most Common Venue 9th Most Common Venue  ...  \\\n",
       "8                    Gourmet Shop  Kitchen Supply Store  ...   \n",
       "11  Vegetarian / Vegan Restaurant   Arts & Crafts Store  ...   \n",
       "39                      BBQ Joint    Athletics & Sports  ...   \n",
       "50           Fast Food Restaurant    Weight Loss Center  ...   \n",
       "54                    Video Store        Breakfast Spot  ...   \n",
       "\n",
       "       12th Most Common Venue   13th Most Common Venue 14th Most Common Venue  \\\n",
       "8         Arts & Crafts Store  New American Restaurant             Soup Place   \n",
       "11  Middle Eastern Restaurant            Burrito Place                   Pool   \n",
       "39          Electronics Store           Discount Store             Strip Club   \n",
       "50                Wings Joint       African Restaurant            Pizza Place   \n",
       "54                 Taco Place         Storage Facility             Steakhouse   \n",
       "\n",
       "                      15th Most Common Venue 16th Most Common Venue  \\\n",
       "8                               Intersection      Mobile Phone Shop   \n",
       "11                               Pizza Place            Event Space   \n",
       "39           Southern / Soul Food Restaurant           Intersection   \n",
       "50                               Event Space   Ethiopian Restaurant   \n",
       "54  Residential Building (Apartment / Condo)            Gas Station   \n",
       "\n",
       "   17th Most Common Venue 18th Most Common Venue 19th Most Common Venue  \\\n",
       "8         Photography Lab             Food Truck    American Restaurant   \n",
       "11            Flea Market            Flower Shop         Farmers Market   \n",
       "39                    Spa           Dessert Shop                Gay Bar   \n",
       "50                Exhibit            Zoo Exhibit             Eye Doctor   \n",
       "54         Clothing Store          Jewelry Store     Salon / Barbershop   \n",
       "\n",
       "   20th Most Common Venue Cluster  \n",
       "8      Tex-Mex Restaurant       2  \n",
       "11                   Farm       2  \n",
       "39         Farmers Market       2  \n",
       "50     Falafel Restaurant       2  \n",
       "54         Sandwich Place       2  \n",
       "\n",
       "[5 rows x 22 columns]"
      ]
     },
     "execution_count": 200,
     "metadata": {},
     "output_type": "execute_result"
    }
   ],
   "source": [
    "cluster3_neighborhoods"
   ]
  },
  {
   "cell_type": "code",
   "execution_count": 206,
   "metadata": {},
   "outputs": [
    {
     "data": {
      "text/html": [
       "<div style=\"width:100%;\"><div style=\"position:relative;width:100%;height:0;padding-bottom:60%;\"><iframe src=\"data:text/html;charset=utf-8;base64,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\" style=\"position:absolute;width:100%;height:100%;left:0;top:0;border:none !important;\" allowfullscreen webkitallowfullscreen mozallowfullscreen></iframe></div></div>"
      ],
      "text/plain": [
       "<folium.folium.Map at 0x1ba41da22c8>"
      ]
     },
     "execution_count": 206,
     "metadata": {},
     "output_type": "execute_result"
    }
   ],
   "source": [
    "final_map = cluster3_neighborhoods.merge(new_map, how = 'left', on = 'Neighborhood')\n",
    "\n",
    "# create map of New York using latitude and longitude values\n",
    "final_map_atl = folium.Map(location=[33.7868002,-84.3970265], zoom_start=12)\n",
    "\n",
    "# add markers to map\n",
    "for lat, lng, borough in zip(final_map['Neighborhood Latitude'], final_map['Neighborhood Longitude'], final_map['Neighborhood']):\n",
    "    \n",
    "    if borough == 'Buckhead Village, Atlanta, GA':\n",
    "        color = 'red'\n",
    "    elif borough == 'Brookhaven, Atlanta, GA':\n",
    "        color = 'orange'\n",
    "    else:\n",
    "        color = 'blue'\n",
    "    \n",
    "    folium.CircleMarker(\n",
    "        [lat, lng],\n",
    "        radius=7,\n",
    "        popup=borough,\n",
    "        color=color,\n",
    "        fill=True,\n",
    "        fill_color=color,\n",
    "        fill_opacity=0.7,\n",
    "        parse_html=False).add_to(final_map_atl)  \n",
    "    \n",
    "final_map_atl"
   ]
  },
  {
   "cell_type": "markdown",
   "metadata": {},
   "source": [
    "## Discussion"
   ]
  },
  {
   "cell_type": "markdown",
   "metadata": {},
   "source": [
    "We started this analysis by investigating all 244 neighborhoods in Atlanta for the ideal location to begin a coffee shop. Using the data supplied by the [City of Atlanta](https://dcp-coaplangis.opendata.arcgis.com/), we were able to compute a custom search radius for each neighborhood. Using this, a Foursquare search was completed on all venues within the radius to understand which types of businesses currently operate within those locations. Using an [article posted online](https://squareup.com/us/en/townsquare/how-to-find-a-coffee-shop-location), we were able to distill a few necessary traits for a good coffee shop.\n",
    "\n",
    "The analysis implemented was aimed at identifying groups of neighborhoods which are conducive to starting a coffee shop. That goal was sucessful, as we identified two main clusters of neighborhoods which featured coffee shops. Furthermore analysis of those shops found that one cluster had a 26% greater rate of coffee shops within the top twenty locations, indicating a greater affinity compared to the other. The goal, then, was to identify neighborhoods within that cluser *but without a prominent coffee scene*. After adding an additional filter (removing like-minded businesses), we returned five possible neighborhoods.\n",
    "\n",
    "Some of these returned neighborhoods did not fit our *a priori* criteria for an ideal location. For example, Peachtree Hills and Lenox did not feature competing businesses but also did not have venues which supported foot- or car-traffic of our target demographic, people who enjoy good coffee and a relaxing enivronment. Therefore, these two neighborhoods were ruled out.\n",
    "\n",
    "The winner of our search is: **BUCKHEAD VILLAGE**. I am chosing this because, while there is a popular Breakfast Spot, there is also Shopping Plaza, Gyms, Event Space, other non-competing restaurants, and a Farmer's Market (which would potentially attract individuals who enjoy food and drink). Therefore, while there is some competition for customers, the area is rich enough with traffic *and* the target demographic to be fruitful. The second choice neighborhood (in orange above), **Brookhaven**, featured other food-based but non-competitive businesses. However, the lack of shopping centers, event spaces, etc., made it our second choice. **Paces** was the third-place finisher.\n",
    "\n",
    "It should be noted this analysis has limitations. Namely, there are other aspects of a good coffee shop location-such as affordable rent, infastructure, adequate parking, etc- which are *very important* components of a successful business but beyond the scope of this project. It is not recommended to open a coffee shop solely sourcing this analysis! Future directions could involve walkability scores, cost of rent for businesses, and investigations of when customers are around the proposed coffee shop location."
   ]
  },
  {
   "cell_type": "code",
   "execution_count": null,
   "metadata": {},
   "outputs": [],
   "source": []
  }
 ],
 "metadata": {
  "kernelspec": {
   "display_name": "Python 3",
   "language": "python",
   "name": "python3"
  },
  "language_info": {
   "codemirror_mode": {
    "name": "ipython",
    "version": 3
   },
   "file_extension": ".py",
   "mimetype": "text/x-python",
   "name": "python",
   "nbconvert_exporter": "python",
   "pygments_lexer": "ipython3",
   "version": "3.7.4"
  }
 },
 "nbformat": 4,
 "nbformat_minor": 2
}
