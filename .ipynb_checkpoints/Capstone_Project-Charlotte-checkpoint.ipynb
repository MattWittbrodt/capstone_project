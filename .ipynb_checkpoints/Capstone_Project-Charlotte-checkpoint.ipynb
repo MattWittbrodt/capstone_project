{
 "cells": [
  {
   "cell_type": "markdown",
   "metadata": {},
   "source": [
    "# This is a Jupyter Notebook for the Applied Data Science Capstone Project"
   ]
  },
  {
   "cell_type": "code",
   "execution_count": 255,
   "metadata": {},
   "outputs": [],
   "source": [
    "import pandas as pd\n",
    "import numpy as np"
   ]
  },
  {
   "cell_type": "markdown",
   "metadata": {},
   "source": [
    "# Segmenting and Clustering Neighborhoods in Toronto"
   ]
  },
  {
   "cell_type": "markdown",
   "metadata": {},
   "source": [
    "## Part 1: Web Scraping"
   ]
  },
  {
   "cell_type": "code",
   "execution_count": 256,
   "metadata": {},
   "outputs": [],
   "source": [
    "from bs4 import BeautifulSoup\n",
    "import requests"
   ]
  },
  {
   "cell_type": "code",
   "execution_count": 257,
   "metadata": {},
   "outputs": [],
   "source": [
    "# Yelp webpage - we have the full HTML below, so not needed\n",
    "#url = \"https://www.yelp.com/collection/Z3iwKFIDwScWaYjcBG6v-g?utm_content=Collections&utm_source=ishare\"\n",
    "#url = \"https://www.yelp.com/collection/Z3iwKFIDwScWaYjcBG6v-g?sort_by=distance\""
   ]
  },
  {
   "cell_type": "code",
   "execution_count": 259,
   "metadata": {},
   "outputs": [],
   "source": [
    "#page = requests.get(url)"
   ]
  },
  {
   "cell_type": "code",
   "execution_count": 260,
   "metadata": {},
   "outputs": [],
   "source": [
    "import os, sys\n",
    "\n",
    "if sys.version_info.major < 3:\n",
    "    from urllib import url2pathname\n",
    "else:\n",
    "    from urllib.request import url2pathname\n",
    "\n",
    "class LocalFileAdapter(requests.adapters.BaseAdapter):\n",
    "    \"\"\"Protocol Adapter to allow Requests to GET file:// URLs\n",
    "\n",
    "    @todo: Properly handle non-empty hostname portions.\n",
    "    \"\"\"\n",
    "\n",
    "    @staticmethod\n",
    "    def _chkpath(method, path):\n",
    "        \"\"\"Return an HTTP status for the given filesystem path.\"\"\"\n",
    "        if method.lower() in ('put', 'delete'):\n",
    "            return 501, \"Not Implemented\"  # TODO\n",
    "        elif method.lower() not in ('get', 'head'):\n",
    "            return 405, \"Method Not Allowed\"\n",
    "        elif os.path.isdir(path):\n",
    "            return 400, \"Path Not A File\"\n",
    "        elif not os.path.isfile(path):\n",
    "            return 404, \"File Not Found\"\n",
    "        elif not os.access(path, os.R_OK):\n",
    "            return 403, \"Access Denied\"\n",
    "        else:\n",
    "            return 200, \"OK\"\n",
    "\n",
    "    def send(self, req, **kwargs):  # pylint: disable=unused-argument\n",
    "        \"\"\"Return the file specified by the given request\n",
    "\n",
    "        @type req: C{PreparedRequest}\n",
    "        @todo: Should I bother filling `response.headers` and processing\n",
    "               If-Modified-Since and friends using `os.stat`?\n",
    "        \"\"\"\n",
    "        path = os.path.normcase(os.path.normpath(url2pathname(req.path_url)))\n",
    "        response = requests.Response()\n",
    "\n",
    "        response.status_code, response.reason = self._chkpath(req.method, path)\n",
    "        if response.status_code == 200 and req.method.lower() != 'head':\n",
    "            try:\n",
    "                response.raw = open(path, 'rb')\n",
    "            except (OSError, IOError) as err:\n",
    "                response.status_code = 500\n",
    "                response.reason = str(err)\n",
    "\n",
    "        if isinstance(req.url, bytes):\n",
    "            response.url = req.url.decode('utf-8')\n",
    "        else:\n",
    "            response.url = req.url\n",
    "\n",
    "        response.request = req\n",
    "        response.connection = self\n",
    "\n",
    "        return response\n",
    "\n",
    "    def close(self):\n",
    "        pass"
   ]
  },
  {
   "cell_type": "code",
   "execution_count": 491,
   "metadata": {},
   "outputs": [],
   "source": [
    "# This gets the actual file\n",
    "requests_session = requests.session()\n",
    "requests_session.mount('file://', LocalFileAdapter())\n",
    "r = requests_session.get('file:///C:/Users/mattw/Downloads/full_clt.html')"
   ]
  },
  {
   "cell_type": "code",
   "execution_count": 492,
   "metadata": {},
   "outputs": [],
   "source": [
    "soup = BeautifulSoup(r.text)"
   ]
  },
  {
   "cell_type": "code",
   "execution_count": 493,
   "metadata": {},
   "outputs": [],
   "source": [
    "r_list = soup.findAll(class_ = 'biz-name js-analytics-click')\n",
    "r2_list = []"
   ]
  },
  {
   "cell_type": "code",
   "execution_count": 494,
   "metadata": {},
   "outputs": [],
   "source": [
    "for z in range(1,len(r_list)):\n",
    "    start = str(r_list[z]).find('<span>') + 6\n",
    "    end = str(r_list[z]).find('</span>')\n",
    "    name = str(r_list[z])[start:(end-1)]\n",
    "    #print(name)\n",
    "    r2_list.append(name)"
   ]
  },
  {
   "cell_type": "code",
   "execution_count": 498,
   "metadata": {},
   "outputs": [],
   "source": [
    "#r2_list[0:10]"
   ]
  },
  {
   "cell_type": "code",
   "execution_count": 499,
   "metadata": {},
   "outputs": [],
   "source": [
    "# Empty list\n",
    "venue_list = []"
   ]
  },
  {
   "cell_type": "code",
   "execution_count": 537,
   "metadata": {},
   "outputs": [
    {
     "ename": "SyntaxError",
     "evalue": "invalid syntax (<ipython-input-537-0b748a79dc10>, line 38)",
     "output_type": "error",
     "traceback": [
      "\u001b[1;36m  File \u001b[1;32m\"<ipython-input-537-0b748a79dc10>\"\u001b[1;36m, line \u001b[1;32m38\u001b[0m\n\u001b[1;33m    if 'formattedPhone' in venue_infor['contact']\u001b[0m\n\u001b[1;37m                                                 ^\u001b[0m\n\u001b[1;31mSyntaxError\u001b[0m\u001b[1;31m:\u001b[0m invalid syntax\n"
     ]
    }
   ],
   "source": [
    "def get_clt_restaurants(name):\n",
    "    \n",
    "    CLIENT_ID = 'XHZAVLMJZPZ1YERWSOQP0RZSG1JTQV24LLJOC3CHJZBFUCWM'\n",
    "    CLIENT_SECRET = 'FKWRVOLJYEBTMABNFPMRYRJ3JOQLKTDE2JPSZKUGJYHQSAMS'\n",
    "    VERSION = \"20180323\"\n",
    "    \n",
    "    # create the API request URL\n",
    "    url = 'https://api.foursquare.com/v2/venues/explore?&client_id={}&client_secret={}&v={}&near={}&query={}'.format(\n",
    "           CLIENT_ID, \n",
    "           CLIENT_SECRET, \n",
    "           VERSION, \n",
    "           'Charlotte, NC',\n",
    "           name)\n",
    "    \n",
    "    # getting response from query\n",
    "    resp = requests.get(url=url).json()[\"response\"]['groups'][0]['items'][0]['venue']\n",
    "    \n",
    "    # getting website url\n",
    "    id_url = 'https://api.foursquare.com/v2/venues/{}?client_id={}&client_secret={}&v={}'.format(\n",
    "           resp['id'],\n",
    "           CLIENT_ID, \n",
    "           CLIENT_SECRET, \n",
    "           VERSION)\n",
    "    #print(id_url)\n",
    "    \n",
    "    \n",
    "    # Get website name\n",
    "    venue_info = requests.get(url=id_url).json()['response']['venue']\n",
    "    \n",
    "    # Check if there is a website, if not, get delivery - or return nothing\n",
    "    if 'url' in venue_info:\n",
    "        website = venue_info['url']\n",
    "    elif 'delivery' in venue_info:\n",
    "        website = venue_info['delivery']['url']\n",
    "    else: website = 'no_url' \n",
    "        \n",
    "    # Check if there is a phone number, if not, get delivery - or return nothing\n",
    "    if 'formattedPhone' in venue_infor['contact']:\n",
    "        phone_num = venue_info['contact']['formattedPhone']\n",
    "    else: phone_num = 'no_phone'\n",
    "        \n",
    "    # Check if there is a twitter, if not, get delivery - or return nothing\n",
    "    if 'twitter' in venue_infor['contact']:\n",
    "        twitter = venue_info['contact']['twitter']\n",
    "    else: twitter = 'no_twitter'   \n",
    "    \n",
    "    #print(website)\n",
    "    \n",
    "    # return only relevant information for each nearby venue\n",
    "    print(resp['name'])\n",
    "    venue_list.append([(resp['name'], \n",
    "                    resp['id'],\n",
    "                   resp['location']['formattedAddress'],\n",
    "                   resp['location']['lat'],\n",
    "                   resp['location']['lng'],\n",
    "                   resp['categories'][0]['shortName'],\n",
    "                   website,\n",
    "                   phone_num,\n",
    "                   twitter)])\n",
    "    \n",
    "    return(venue_info)"
   ]
  },
  {
   "cell_type": "code",
   "execution_count": 531,
   "metadata": {},
   "outputs": [
    {
     "name": "stdout",
     "output_type": "stream",
     "text": [
      "Bahn Thai\n"
     ]
    }
   ],
   "source": [
    "tt = get_clt_restaurants(\"Bahn Thai\")"
   ]
  },
  {
   "cell_type": "code",
   "execution_count": 536,
   "metadata": {},
   "outputs": [
    {
     "data": {
      "text/plain": [
       "False"
      ]
     },
     "execution_count": 536,
     "metadata": {},
     "output_type": "execute_result"
    }
   ],
   "source": [
    "'formattedPhone' in tt['contact']"
   ]
  },
  {
   "cell_type": "code",
   "execution_count": 501,
   "metadata": {},
   "outputs": [
    {
     "name": "stdout",
     "output_type": "stream",
     "text": [
      "Cabo Fish Taco\n",
      "Hazelnuts Creperie\n",
      "Fenwicks Restaurant\n",
      "Three Amigos Mexican Grill and Cantina\n",
      "TRUE Crafted Pizza\n",
      "Catawba Brewing Charlotte\n",
      "The Fillmore Charlotte\n",
      "The Fillmore Charlotte\n",
      "Bahn Thai\n",
      "Viva Chicken Park Road\n",
      "VBGB Beer Hall & Garden/Restaurant\n",
      "Chatpatay\n",
      "Chatpatay\n",
      "Bánh Mì Brothers\n",
      "Bánh Mì Brothers\n",
      "Rita's Italian Ice & Frozen Custard\n",
      "Benny Pennello's Pizza\n",
      "Benny Pennello's Pizza\n",
      "Zen Massage Charlotte\n",
      "Craft Tasting Room and Growler Shop\n",
      "Aria Tuscan Grill\n",
      "Bánh Mì Brothers\n",
      "Dae Bak Korean Restaurant\n",
      "Velo Pops\n",
      "Lego pop-up shop\n",
      "Angeline's\n",
      "Stacks Kitchen\n",
      "Inishmore\n",
      "Little Village Grill\n",
      "DD Peckers Wing Shop\n",
      "Birdsong Brewing Co.\n",
      "Tony's Ice Cream\n",
      "VBGB Beer Hall & Garden/Restaurant\n",
      "Hub City Scoops\n",
      "Hub City Scoops\n",
      "Catawba Brewing Charlotte\n",
      "Veltree Vegan Soul Food And Juice Bar\n",
      "Viva Chicken Park Road\n",
      "Viva Chicken Park Road\n",
      "Viva Chicken Park Road\n",
      "Viva Chicken Park Road\n",
      "Bank of America Stadium\n",
      "Viva Chicken Park Road\n",
      "Viva Chicken Park Road\n",
      "Viva Chicken Park Road\n",
      "Viva Chicken Park Road\n",
      "Bakersfield\n",
      "Brewers at 4001 Yancey\n",
      "Crêpe Cellar Kitchen & Pub\n",
      "Crêpe Cellar Kitchen & Pub\n",
      "Crêpe Cellar Kitchen & Pub\n",
      "Run for Your Life\n",
      "Run for Your Life\n",
      "Yamazaru\n",
      "Rossini's Italian\n",
      "300 East\n",
      "The Pizza Peel and Tap Room\n",
      "The Fillmore Charlotte\n",
      "The Fillmore Charlotte\n",
      "The Fillmore Charlotte\n",
      "The Fillmore Charlotte\n",
      "Catawba Brewing Charlotte\n",
      "Superica\n",
      "Bank of America Stadium\n",
      "Viva Chicken Elizabeth Avenue\n",
      "Sir Edmund Halley's\n",
      "iLoveKickboxing - Fort Mill, SC\n",
      "Sabor Latin Street Grill\n",
      "Sabor Latin Street Grill\n",
      "Sabor Latin Street Grill\n",
      "Publix - South End\n",
      "Sabor Latin Street Grill\n",
      "Sabor Latin Street Grill\n",
      "Paco's Tacos & Tequila\n",
      "Rooster's Wood Fired Kitchen\n",
      "The Fillmore Charlotte\n",
      "The Fillmore Charlotte\n",
      "Common Market\n",
      "Common Market\n",
      "Common Market\n",
      "Common Market\n",
      "Reid's Fine Foods\n",
      "Good Food on Montford\n",
      "Good Food on Montford\n",
      "Good Food on Montford\n",
      "Catawba Brewing Charlotte\n",
      "Rai Lay\n",
      "Pure Pizza\n",
      "Vapiano\n",
      "Vapiano\n",
      "Vapiano\n",
      "The Fillmore Charlotte\n",
      "Dairi-O\n",
      "Charlotte Ballet\n",
      "NoDa Brewing Company\n",
      "NoDa Brewing Company\n",
      "Catawba Brewing Charlotte\n",
      "Midwood Smokehouse\n",
      "Napa on Providence\n",
      "The Fillmore Charlotte\n",
      "Publix - South End\n",
      "Napa on Providence\n",
      "NC Music Factory\n",
      "Southern Spirits\n",
      "Jade Dragon\n",
      "eeZ Fusion and Sushi\n",
      "JD's Smokehouse\n",
      "JD's Smokehouse\n",
      "JD's Smokehouse\n",
      "Craft Tasting Room and Growler Shop\n",
      "Craft Tasting Room and Growler Shop\n",
      "Craft Tasting Room and Growler Shop\n",
      "Craft Tasting Room and Growler Shop\n",
      "Dolce Ristorante\n",
      "Bad Daddy's Burger Bar\n",
      "Craft Tasting Room and Growler Shop\n",
      "Viva Chicken Park Road\n",
      "Bricktop's Restaurant\n",
      "Rossini's Italian\n",
      "Luna's Living Kitchen\n",
      "Leroy Fox Kitchen & Cocktails\n",
      "Publix - South End\n",
      "The Capital Grille\n",
      "Little Village Grill\n",
      "Little Village Grill\n",
      "Lincoln’s Haberdashery\n",
      "Catawba Brewing Charlotte\n",
      "Gallery Restaurant\n",
      "VBGB Beer Hall & Garden/Restaurant\n",
      "Catawba Brewing Charlotte\n",
      "The Fillmore Charlotte\n",
      "Brewers at 4001 Yancey\n",
      "Hello, Sailor\n",
      "Brixx Wood Fired Pizza\n",
      "Cowbell Burger & Bar\n",
      "Cowbell Burger & Bar\n",
      "Zablong Peculiar Pizza\n",
      "Brixx Wood Fired Pizza\n",
      "Brixx Wood Fired Pizza\n",
      "Brixx Wood Fired Pizza\n",
      "Brixx Wood Fired Pizza\n",
      "Sabor Latin Street Grill\n",
      "The Capital Grille\n",
      "Haberdish\n",
      "VBGB Beer Hall & Garden/Restaurant\n",
      "VBGB Beer Hall & Garden/Restaurant\n",
      "VBGB Beer Hall & Garden/Restaurant\n",
      "Total Wine & More\n",
      "Upstream\n",
      "Little Village Grill\n",
      "Cabo Fish Taco\n",
      "Little Village Grill\n",
      "Little Village Grill\n",
      "Little Village Grill\n",
      "Little Village Grill\n",
      "Little Village Grill\n",
      "Good Food on Montford\n",
      "Good Food on Montford\n",
      "Good Food on Montford\n",
      "Good Food on Montford\n",
      "Yama Izakaya\n",
      "The Fillmore Charlotte\n",
      "Global Restaurant\n",
      "The Old Fourth Street Filling Station\n",
      "Total Wine & More\n",
      "Total Wine & More\n",
      "Total Wine & More\n",
      "Cafe Monte\n",
      "Flying Saucer\n",
      "Flour Shop\n",
      "Brixx Wood Fired Pizza\n",
      "Brixx Wood Fired Pizza\n",
      "Brixx Wood Fired Pizza\n",
      "Famous Toastery\n",
      "Famous Toastery\n",
      "Famous Toastery\n",
      "Famous Toastery\n",
      "Famous Toastery\n",
      "Famous Toastery\n",
      "Famous Toastery\n",
      "Famous Toastery\n",
      "Earl's Grocery\n",
      "Eddie's Place\n",
      "Little Village Grill\n",
      "Little Village Grill\n",
      "Little Village Grill\n",
      "Little Village Grill\n",
      "The Cellar\n",
      "Jim 'N Nick's Bar-B-Q\n",
      "The Fillmore Charlotte\n",
      "Tisun Beauty\n",
      "Craft Tasting Room and Growler Shop\n",
      "Bulldog Beer And Wine - Dilworth\n",
      "Soul Gastrolounge\n",
      "Diamond Restaurant\n",
      "Heroes Aren't Hard To Find Comics\n",
      "The Cummings Law Firm, P.A.\n",
      "Jewish Community Center\n",
      "VBGB Beer Hall & Garden/Restaurant\n",
      "The Fillmore Charlotte\n",
      "Children's Theatre of Charlotte\n",
      "Seoul Food Meat Co\n",
      "Seoul Food Meat Co\n",
      "Seoul Food Meat Co\n",
      "Seoul Food Meat Co\n",
      "Rossini's Italian\n",
      "Seoul Food Meat Co\n",
      "Murphy's Kitchen & Tap\n",
      "The Fillmore Charlotte\n",
      "Rossini's Italian\n",
      "Rossini's Italian\n",
      "Little Village Grill\n",
      "Little Village Grill\n",
      "Bulla Gastrobar\n",
      "Brixx Wood Fired Pizza\n",
      "Brixx Wood Fired Pizza\n",
      "Brixx Wood Fired Pizza\n",
      "Brixx Wood Fired Pizza\n",
      "Brewers at 4001 Yancey\n",
      "Bonterra Dining & Wine Room\n",
      "The Ballantyne Hotel\n",
      "Publix - South End\n",
      "Bossy Beulah’s Chicken Shack\n",
      "Cowbell Burger & Bar\n",
      "Brixx Wood Fired Pizza\n",
      "Brixx Wood Fired Pizza\n",
      "Brixx Wood Fired Pizza\n",
      "Bedder Bedder and Moore\n",
      "Bistro La Bon\n",
      "Bistro La Bon\n",
      "Barrington's Restaurant\n",
      "Heroes Aren't Hard To Find Comics\n",
      "Orrman's Cheese Shop\n",
      "Bardo\n",
      "Total Wine & More\n",
      "The Fillmore Charlotte\n",
      "The Cowfish Sushi Burger Bar\n",
      "The Cowfish Sushi Burger Bar\n",
      "The Cowfish Sushi Burger Bar\n",
      "The Cowfish Sushi Burger Bar\n",
      "Freedom Park\n",
      "Amelie's French Bakery\n",
      "Amelie's French Bakery\n",
      "Amelie's French Bakery\n",
      "Amelie's French Bakery\n",
      "Amelie's French Bakery\n",
      "Harvey B. Gantt Center for African-American Arts + Culture\n",
      "BB&T Ballpark\n",
      "Alino Pizzeria\n",
      "Alexander Michael's\n",
      "Which Wich? Superior Sandwiches\n",
      "Bahn Thai\n"
     ]
    }
   ],
   "source": [
    "# loop over restaurants\n",
    "for ii in r2_list:\n",
    "    get_clt_restaurants(ii)"
   ]
  },
  {
   "cell_type": "code",
   "execution_count": 502,
   "metadata": {},
   "outputs": [
    {
     "data": {
      "text/plain": [
       "252"
      ]
     },
     "execution_count": 502,
     "metadata": {},
     "output_type": "execute_result"
    }
   ],
   "source": [
    "len(venue_list)"
   ]
  },
  {
   "cell_type": "code",
   "execution_count": 503,
   "metadata": {},
   "outputs": [],
   "source": [
    "# getting names\n",
    "names = []\n",
    "for r in venue_list:\n",
    "    names.append(r[0][0])"
   ]
  },
  {
   "cell_type": "code",
   "execution_count": 504,
   "metadata": {},
   "outputs": [],
   "source": [
    "# getting foursquare ID\n",
    "fid = []\n",
    "for r in venue_list:\n",
    "    fid.append(r[0][1])"
   ]
  },
  {
   "cell_type": "code",
   "execution_count": 505,
   "metadata": {},
   "outputs": [],
   "source": [
    "# getting formatted address\n",
    "address = []\n",
    "for r in venue_list:\n",
    "    address.append(r[0][2][0])"
   ]
  },
  {
   "cell_type": "code",
   "execution_count": 506,
   "metadata": {},
   "outputs": [],
   "source": [
    "# getting latitude\n",
    "lat = []\n",
    "for r in venue_list:\n",
    "    lat.append(r[0][3])"
   ]
  },
  {
   "cell_type": "code",
   "execution_count": 507,
   "metadata": {},
   "outputs": [],
   "source": [
    "# getting longitude\n",
    "lon = []\n",
    "for r in venue_list:\n",
    "    lon.append(r[0][4])"
   ]
  },
  {
   "cell_type": "code",
   "execution_count": 508,
   "metadata": {},
   "outputs": [],
   "source": [
    "# getting categories\n",
    "cat = []\n",
    "for r in venue_list:\n",
    "    cat.append(r[0][5])"
   ]
  },
  {
   "cell_type": "code",
   "execution_count": 509,
   "metadata": {},
   "outputs": [],
   "source": [
    "# getting website\n",
    "web = []\n",
    "for r in venue_list:\n",
    "    web.append(r[0][6])"
   ]
  },
  {
   "cell_type": "code",
   "execution_count": 510,
   "metadata": {},
   "outputs": [],
   "source": [
    "venues = pd.DataFrame({'Name':names, 'Foursquare_ID':fid, 'Address': address, 'Latitude': lat, 'Longitude':lon, 'Category':cat, 'Website':web})"
   ]
  },
  {
   "cell_type": "code",
   "execution_count": 515,
   "metadata": {},
   "outputs": [],
   "source": [
    "venues = venues.drop_duplicates()"
   ]
  },
  {
   "cell_type": "code",
   "execution_count": 516,
   "metadata": {},
   "outputs": [],
   "source": [
    "venues.to_excel(\"C:/Users/mattw/Desktop/Charlotte_Restaurants2.xlsx\", index = False)  "
   ]
  },
  {
   "cell_type": "code",
   "execution_count": 514,
   "metadata": {},
   "outputs": [
    {
     "data": {
      "text/plain": [
       "252"
      ]
     },
     "execution_count": 514,
     "metadata": {},
     "output_type": "execute_result"
    }
   ],
   "source": [
    "len(r2_list)"
   ]
  },
  {
   "cell_type": "code",
   "execution_count": null,
   "metadata": {},
   "outputs": [],
   "source": [
    "#for jj in range(r2_list):\n",
    "#    r = r2_list[jj]  "
   ]
  },
  {
   "cell_type": "code",
   "execution_count": null,
   "metadata": {},
   "outputs": [],
   "source": [
    "#id_url = \"https://api.foursquare.com/v2/venues/4b05863ff964a520165a22e3\"\n",
    "\n",
    "# create the API request URL\n",
    "id_url = 'https://api.foursquare.com/v2/venues/{}?client_id={}&client_secret={}&v={}'.format(\n",
    "           '4b05863ef964a520025a22e3',\n",
    "           CLIENT_ID, \n",
    "           CLIENT_SECRET, \n",
    "           VERSION)"
   ]
  },
  {
   "cell_type": "code",
   "execution_count": null,
   "metadata": {},
   "outputs": [],
   "source": [
    "id_resp = requests.get(url=id_url).json()"
   ]
  },
  {
   "cell_type": "code",
   "execution_count": null,
   "metadata": {},
   "outputs": [],
   "source": [
    "if 'url' in id_resp['response']['venue']:\n",
    "        w = id_resp['response']['venue']['url']\n",
    "elif 'delivery' in id_resp['response']['venue']:\n",
    "        w = id_resp['response']['venue']['delivery']['url']\n",
    "else: w = 'no_url'"
   ]
  },
  {
   "cell_type": "code",
   "execution_count": null,
   "metadata": {},
   "outputs": [],
   "source": [
    "resp = requests.get(url=url).json()[\"response\"]['groups'][0]['items']"
   ]
  },
  {
   "cell_type": "code",
   "execution_count": null,
   "metadata": {},
   "outputs": [],
   "source": [
    "resp"
   ]
  },
  {
   "cell_type": "code",
   "execution_count": null,
   "metadata": {},
   "outputs": [],
   "source": [
    "resp['name']\n",
    "resp['location']\n",
    "resp['categories'][0]['shortName']"
   ]
  },
  {
   "cell_type": "code",
   "execution_count": null,
   "metadata": {},
   "outputs": [],
   "source": [
    "venue_list = []"
   ]
  },
  {
   "cell_type": "markdown",
   "metadata": {},
   "source": [
    "## Part 2: Locations"
   ]
  },
  {
   "cell_type": "markdown",
   "metadata": {},
   "source": [
    "## Part 3: Mapping"
   ]
  },
  {
   "cell_type": "code",
   "execution_count": null,
   "metadata": {},
   "outputs": [],
   "source": [
    "import folium\n",
    "from geopy.geocoders import Nominatim"
   ]
  },
  {
   "cell_type": "markdown",
   "metadata": {},
   "source": [
    "### Subsetting to just the Toronto Boroughs"
   ]
  },
  {
   "cell_type": "code",
   "execution_count": null,
   "metadata": {},
   "outputs": [],
   "source": [
    "# Subsetting to just the Toronto Boroughs\n",
    "df4 = df3[df3['Borough'].str.contains(\"Toronto\")].drop(70)"
   ]
  },
  {
   "cell_type": "markdown",
   "metadata": {},
   "source": [
    "# CLT Agenda List"
   ]
  },
  {
   "cell_type": "code",
   "execution_count": 274,
   "metadata": {},
   "outputs": [],
   "source": [
    "cltagn = \"https://www.charlotteagenda.com/199599/charlotte-restaurants-that-are-offering-curbside-pickup-delivery-and-discounts/\""
   ]
  },
  {
   "cell_type": "code",
   "execution_count": 275,
   "metadata": {},
   "outputs": [],
   "source": [
    "# Parsing page from requests\n",
    "clt_page = requests.get(cltagn)\n",
    "clt_text = BeautifulSoup(clt_page.text)"
   ]
  },
  {
   "cell_type": "code",
   "execution_count": 276,
   "metadata": {},
   "outputs": [],
   "source": [
    "ag_list = clt_text.findAll('h2')"
   ]
  },
  {
   "cell_type": "code",
   "execution_count": 277,
   "metadata": {},
   "outputs": [
    {
     "data": {
      "text/plain": [
       "196"
      ]
     },
     "execution_count": 277,
     "metadata": {},
     "output_type": "execute_result"
    }
   ],
   "source": [
    "len(ag_list)"
   ]
  },
  {
   "cell_type": "code",
   "execution_count": 278,
   "metadata": {},
   "outputs": [
    {
     "name": "stdout",
     "output_type": "stream",
     "text": [
      "The restaurant name is Ace No. 3 and the website is https://www.aceno3.com\n",
      "The restaurant name is Alexander Michael’s and the website is https://almikestavern.com\n",
      "The restaurant name is Aliño Pizzeria and The Barcelona Burger and Beer Garden and the website is https://barcelonaburger.com\n",
      "The restaurant name is All-American Pub and the website is https://www.allamericanpubclt.com\n",
      "The restaurant name is Amelie’s French Cafe &amp; Bakery and the website is https://ameliesfrenchbakery.com\n",
      "The restaurant name is Anderson’s Catering and the website is https://andersonsdelivery.com\n",
      "The restaurant name is Angeline’s and the website is https://www.angelinescharlotte.co\n",
      "The restaurant name is Anntony’s Caribbean Cafe and the website is https://www.anntonys.com\n",
      "The restaurant name is Aria Tuscan Grill and the website is https://www.ariacharlotte.com\n",
      "The restaurant name is The Asbury and the website is https://theasbury.com\n",
      "The restaurant name is Bad Daddy’s and the website is https://www.baddaddysburgerbar.com\n",
      "The restaurant name is Bahn Mi &amp; Tea Company and the website is https://banhmiandteacompany.com\n",
      "The restaurant name is Bahn Thai and the website is http://www.bahnthaicharlotte.com\n",
      "The restaurant name is Bardo and the website is https://www.bardorestaurant.com\n",
      "The restaurant name is Bar Marcel and the website is https://www.barmarcelcharlotte.com\n",
      "The restaurant name is Barrington’s and the website is http://www.barringtonsrestaurant.com\n",
      "The restaurant name is Barrister’s and the website is https://barristersgastonia.com\n",
      "The restaurant name is Bedder Bedder &amp; More and the website is https://bb-m.com\n",
      "The restaurant name is Be-Em Asian Kitchen and the website is https://www.be-em.com\n",
      "The restaurant name is Blaze Pizza and the website is https://www.blazepizza.com\n",
      "The restaurant name is Blue Blaze Brewing and the website is http://www.blueblazebrewing.com/login-scree\n",
      "The restaurant name is Boardwalk Billy’s and the website is https://boardwalkbillys.com\n",
      "The restaurant name is Bojangles and the website is https://www.bojangles.com\n",
      "The restaurant name is Bonzai Thai &amp; Japanese Cuisine and the website is https://www.bonzaithaicuisine.com\n",
      "The restaurant name is Bossy Beulah’s and the website is https://bossybeulahs.com\n",
      "The restaurant name is The Bottle Tree and the website is https://www.facebook.com/thebottletreenc/?ref=br_r\n",
      "The restaurant name is Brewers at 4001 Yancey and the website is https://visit.brewersat4001yancey.com/brewers-at-4001-yancey-7bb680a34d3\n",
      "The restaurant name is Brixx and the website is https://brixxpizza.com\n",
      "The restaurant name is Brown Bag and the website is https://brownbagnow.com/charlotte\n",
      "The restaurant name is Bulla Gastropub and the website is https://bullagastrobar.com\n",
      "The restaurant name is Burton’s and the website is https://burtonsgrill.com/location/charlotte-nc\n",
      "The restaurant name is Capishe and the website is https://www.capishepizza.com\n",
      "The restaurant name is Caswell Station and the website is https://caswellstation.com\n",
      "The restaurant name is CAVA and the website is https://cava.com\n",
      "The restaurant name is Charlotte Beer Garden and the website is https://charlottebeergarden.com\n",
      "The restaurant name is Chatpatay and the website is https://www.chatpatay.com\n",
      "The restaurant name is Chef Alyssa’s Kitchen and the website is https://chefalyssaskitchen.com\n",
      "The restaurant name is Chex Grill &amp; Wings and the website is http://chexgrill.com\n",
      "The restaurant name is Chicken Salad Chick and the website is https://order.snoozeeatery.com/?_ga=2.111201543.268190200.1584710541-1346362506.158471054\n",
      "The restaurant name is Chopt and the website is https://www.choptsalad.com/?gclid=Cj0KCQjwjcfzBRCHARIsAO-1_OrmX9ARl64PZrBVXLpXgWzLvS7EqtTDDGnreqAY8vvxQGx2uvWl-6YaArZ-EALw_wc\n",
      "The restaurant name is Civetta and the website is https://www.civettacharlotte.com\n",
      "The restaurant name is Coco &amp; The Director and the website is http://cocoandthedirector.com\n",
      "The restaurant name is Common Market and the website is http://commonmarketisgood.com\n",
      "The restaurant name is Community Matters Cafe and the website is https://communitymatterscafe.com\n",
      "The restaurant name is Copain and the website is https://copaingatherings.com\n",
      "The restaurant name is Cowbell Burger &amp; Whiskey Bar and the website is https://eatmorecowbell.com\n",
      "The restaurant name is The Cowfish and the website is https://www.thecowfish.com\n",
      "The restaurant name is Craft Growler Shop and the website is https://craftgrowlershop.com\n",
      "The restaurant name is Crepe Cellar/Growler’s Pourhouse/Reigning Donuts and the website is http://growlerspourhouse.com\n",
      "The restaurant name is Crispy Bahn Mi and the website is https://www.yelp.com/biz/crispy-banh-mi-charlotte-\n",
      "The restaurant name is DB’s Tavern and the website is http://www.dbstavern.com\n",
      "The restaurant name is Deejai Thai and the website is http://www.deejaithai.com\n",
      "The restaurant name is Del Frisco’s Double Eagle Steakhouse and the website is https://delfriscos.com\n",
      "The restaurant name is Diamond and the website is http://diamondcharlotte.com\n",
      "The restaurant name is Dilworth Neighborhood Grille and the website is http://www.dilworthgrille.com/men\n",
      "The restaurant name is Dilworth Tasting Room and the website is https://www.dilworthtr.com\n",
      "The restaurant name is Dish and the website is https://www.eatatdish.com\n",
      "The restaurant name is Duckworth’s and the website is http://duckworths.com\n",
      "The restaurant name is The Dunavant and the website is https://www.instagram.com/thedunavant\n",
      "The restaurant name is Dunkin’ Donuts and the website is https://www.dunkindonuts.com/e\n",
      "The restaurant name is Earl’s Grocery and the website is http://www.earlsgrocery.com\n",
      "The restaurant name is eeZ Fusion &amp; Sushi  and the website is http://www.eezfusion.com\n",
      "The restaurant name is Eight and Sand Kitchen and the website is https://eightandsandkitchen.com\n",
      "The restaurant name is Emmet’s Social Table and the website is https://emmetsnc.com\n",
      "The restaurant name is Famous Toastery and the website is https://famoustoastery.com\n",
      "The restaurant name is Firebird’s  and the website is https://firebirdsrestaurants.com\n",
      "The restaurant name is Flour Shop and the website is http://www.flourshopfood.com\n",
      "The restaurant name is Flower Child and the website is https://www.iamaflowerchild.com\n",
      "The restaurant name is Foxcroft Wine Co. and the website is https://www.foxcroftwine.com\n",
      "The restaurant name is Fran’s Filling Station and the website is https://fransfillingstation.com/updates-to-our-schedule-and-menu\n",
      "The restaurant name is Free Range Brewing and the website is http://www.freerangebrewing.com\n",
      "The restaurant name is Futo Buta and the website is https://www.instagram.com/p/B92aP45pBPP\n",
      "The restaurant name is Get Fit Foods and the website is https://getfitfoods.com\n",
      "The restaurant name is Good Food on Montford and the website is http://www.goodfoodonmontford.com\n",
      "The restaurant name is The Goodyear House and the website is https://thegoodyearhouse.com\n",
      "The restaurant name is Greco Fresh Grille and the website is https://www.grecofreshgrille.com\n",
      "The restaurant name is Green Brothers Juice Company and the website is https://www.greenbrothersjuice.com\n",
      "The restaurant name is Haberdish and the website is http://haberdish.com\n",
      "The restaurant name is Harper’s and the website is https://harpersrestaurants.com/locations/harpers-charlotte\n",
      "The restaurant name is Harry’s Grille and Tavern and the website is https://www.harrysgrilleandtavern.com\n",
      "The restaurant name is Hasaki Grill and the website is https://www.hasakigrill.com\n",
      "The restaurant name is Hawkers and the website is https://eathawkers.com\n",
      "The restaurant name is Hawthorne’s New York Pizza &amp; Bar and the website is https://hawthornespizza.com\n",
      "The restaurant name is Hello, Sailor and the website is https://hellosailornc.com\n",
      "The restaurant name is Heist Brewery and the website is https://www.heistbrewery.com\n",
      "The restaurant name is The Hobbyist and the website is https://www.thehobbyistclt.com\n",
      "The restaurant name is Hot Taco and the website is https://www.hottaco.com\n",
      "The restaurant name is Indaco and the website is https://indacocharlotte.com\n",
      "The restaurant name is Inizio Pizza and the website is https://www.iniziopizza.com/?fbclid=IwAR3GH0W_X4Tzn2R7eJCXAbrnkpxgdCuUwiHBBxClQ3N8QkMXEjzGIMZ5rF\n",
      "The restaurant name is Jason’s Deli and the website is https://www.jasonsdeli.com\n",
      "The restaurant name is  Jekyll &amp; Hyde Taphouse and the website is https://www.hydestaphouse.com\n",
      "The restaurant name is The Jelly Roger and the website is https://www.thejellyroger.com\n",
      "The restaurant name is Jeni’s Splendid Ice Creams and the website is https://jenis.olo.com\n",
      "The restaurant name is JJ’s Red Hots and the website is https://jjsredhots.com\n",
      "The restaurant name is Johnny Burrito and the website is https://www.facebook.com/pages/Johnny-Burrito/12270740445220\n",
      "The restaurant name is Kindred and the website is https://kindreddavidson.com\n",
      "The restaurant name is Leah &amp; Louise and the website is https://www.toasttab.com/leah-louise/v\n",
      "The restaurant name is Legion and the website is https://www.legionbrewing.com\n",
      "The restaurant name is Le Kebab Grill  and the website is https://www.lekebabgrill.com/men\n",
      "The restaurant name is Le Peep and the website is https://lepeep.com\n",
      "The restaurant name is Letty’s on Shamrock and the website is http://www.lettysonshamrock.com\n",
      "The restaurant name is Leroy Fox and the website is https://www.instagram.com/p/B91nipRp4xU\n",
      "The restaurant name is Lincoln Street Kitchen &amp; Cocktails and the website is http://lincolnstreetkitchen.com/?fbclid=IwAR0KfCQLK-EKP_mSlkqSLRrr5qUfcMhp_q9wTiF6N3iblVHBpc1bINp-xu\n",
      "The restaurant name is Lincoln’s Haberdashery and the website is https://www.lincolnshaberdashery.com\n",
      "The restaurant name is Little Village Grill and the website is https://www.facebook.com/littlevillagegrill\n",
      "The restaurant name is Living Kitchen and the website is https://livingkitchen.com\n",
      "The restaurant name is Luciano’s and the website is https://lucianositaly.com/charlotte\n",
      "The restaurant name is Lucky Lou’s and the website is https://luckyloustavern.com\n",
      "The restaurant name is Luisa’s Brick Oven Pizzeria and the website is https://luisasbrickovenpizza.com\n",
      "The restaurant name is Lulu’s and the website is https://www.facebook.com/pages/Lulus-Maryland-Style-Chicken/10549997757983\n",
      "The restaurant name is Lupie’s Cafe and the website is https://www.lupiescafe.net\n",
      "The restaurant name is Mac’s Speed Shop and the website is https://macspeedshop.com\n",
      "The restaurant name is Mama Ricotta’s and the website is https://www.mamaricottas.com\n",
      "The restaurant name is McKoy’s and the website is https://www.mckoys.net\n",
      "The restaurant name is McNinch House and the website is https://mcninchhouserestaurant.com/about-us/gift-certificates\n",
      "The restaurant name is Mezzanotte Pizzeria and the website is https://conterestaurantgroup.com/mezzanotte\n",
      "The restaurant name is Middle James Brewing and the website is https://www.facebook.com/pages/category/Brewery/Middle-James-Brewing-Company-115275805773679\n",
      "The restaurant name is Midnight Diner and the website is http://www.midnightdinercharlotte.com\n",
      "The restaurant name is Midwood Smokehouse and the website is https://midwoodsmokehouse.com\n",
      "The restaurant name is MingFu and the website is http://mingfu.squarespace.com/men\n",
      "The restaurant name is href=\"https://www.monterreyuncc.com/\">Monterrey  and the website is https://www.monterreyuncc.com/\">Monterrey </a></h\n",
      "The restaurant name is Moo &amp; Brew and the website is http://mooandbrewplazamidwood.com\n",
      "The restaurant name is Morton’s and the website is https://www.mortons.com\n",
      "The restaurant name is Mr. Charles Chicken &amp; Fish and the website is http://www.mrcharleschickenandfish.com\n",
      "The restaurant name is Nakato and the website is https://nakato.com\n",
      "The restaurant name is Nellie’s Southern Kitchen and the website is https://www.nelliessouthernkitchen.com\n",
      "The restaurant name is NC Red and the website is http://www.ncredclt.com\n",
      "The restaurant name is Noble Smoke and the website is https://noblesmokebarbecue.com\n",
      "The restaurant name is NoDa Bodega and the website is https://www.facebook.com/NodaBodega\n",
      "The restaurant name is NoDa Brewing Company and the website is https://nodabrewing.com\n",
      "The restaurant name is North Italia and the website is https://www.northitalia.com/locations/charlotte-nc\n",
      "The restaurant name is Oakhurst Grill and the website is http://oakhurstgrill.com\n",
      "The restaurant name is O-Ku and the website is http://o-kusushi.com\n",
      "The restaurant name is OMB and the website is https://www.oldemeckbrew.com\n",
      "The restaurant name is Optimist Hall and the website is https://optimisthall.com\n",
      "The restaurant name is Pasta &amp; Provisions and the website is https://www.pastaprovisions.com\n",
      "The restaurant name is Persuasian Restaurant and the website is https://persuasianrestaurant.com\n",
      "The restaurant name is Phil’s Deli and the website is https://www.facebook.com/PhilsDeliCharlotte\n",
      "The restaurant name is Pilot Brewing and the website is https://www.pilotbrewing.us\n",
      "The restaurant name is Pisces Sushi and the website is https://www.piscessushi.com\n",
      "The restaurant name is Pizzeria Omaggio and the website is https://www.pizzeriaomaggio.com\n",
      "The restaurant name is Poplar and the website is https://www.poplarcharlotte.com\n",
      "The restaurant name is Portofino’s and the website is https://portofinos-us.com\n",
      "The restaurant name is Protagonist and the website is https://protagonistbeer.com\n",
      "The restaurant name is Pure Pizza and the website is http://purepizzaclt.com\n",
      "The restaurant name is QC Catering and the website is https://www.qccatering.com\n",
      "The restaurant name is Queen City Grounds and the website is https://queencitygrounds.com\n",
      "The restaurant name is Rai Lay Thai and the website is https://www.railaythai.com\n",
      "The restaurant name is Rare Roots and the website is http://rarerootshospitality.com\n",
      "The restaurant name is Reid’s Fine Foods and the website is https://www.reids.com\n",
      "The restaurant name is Resident Culture and the website is https://residentculturebrewing.com\n",
      "The restaurant name is Rhino Market and the website is https://www.rhinomarket.com\n",
      "The restaurant name is Riccio’s Italian Restaurant and the website is https://www.ricciospizzavilla.com\n",
      "The restaurant name is The Roasting Company and the website is https://roastingco.com\n",
      "The restaurant name is Rooster’s and the website is https://roosterskitchen.com\n",
      "The restaurant name is Rosie’s Wine Garden and the website is https://www.rosieswinegarden.com\n",
      "The restaurant name is RuRu’s Tacos &amp; Tequila and the website is https://www.rurustacosandtequila.com\n",
      "The restaurant name is Ruth’s Chris and the website is https://www.ruthschris.com/reservation/?gclid=CjwKCAjwsMzzBRACEiwAx4lLG7HBaaad4lM4XTMfKCX8sa11nxeKTUmhicUAGTL0drMu8u4eivU6MxoCG1EQAvD_Bw\n",
      "The restaurant name is Sabor Latin Street Grill and the website is https://saborcharlotte.com\n",
      "The restaurant name is Sake Express and the website is https://thesakeexpress.com\n",
      "The restaurant name is Sanctuary Bistro and the website is https://www.sanctuarybistro.com\n",
      "The restaurant name is Selwyn Avenue Pub and the website is https://www.facebook.com/pages/Selwyn-Avenue-Pub/11801978489148\n",
      "The restaurant name is Showmars and the website is https://showmars.com\n",
      "The restaurant name is Sir Edmond Halley’s and the website is http://www.siredspub.com\n",
      "The restaurant name is Seoul Poke Bowl and the website is http://seoulpokebowl.com\n",
      "The restaurant name is Snooze Eatery and the website is https://www.snoozeeatery.com\n",
      "The restaurant name is Soho Bistro and the website is https://www.uptown2go.com/sohobistro/default.asp\n",
      "The restaurant name is Soul Gastrolounge and the website is https://www.soulgastrolounge.com/#mast-men\n",
      "The restaurant name is Stagioni and the website is https://www.stagioniclt.com\n",
      "The restaurant name is Stoke and the website is http://www.stokecharlotte.com\n",
      "The restaurant name is Suffolk Punch and the website is https://thesuffolkpunch.com\n",
      "The restaurant name is Superica and the website is http://www.superica.com\n",
      "The restaurant name is Tacos 4 Life and the website is https://tacos4life.com\n",
      "The restaurant name is Thai House Restaurant and the website is https://thaihouse.us.com/Hom\n",
      "The restaurant name is The Wine Loft and the website is https://www.wineloftcharlotte.com\n",
      "The restaurant name is Three Amigos and the website is http://www.threeamigoscharlotte.com\n",
      "The restaurant name is Tiff’s Treats and the website is https://www.cookiedelivery.com\n",
      "The restaurant name is Tipsy Burro and the website is https://www.facebook.com/Tipsyburro\n",
      "The restaurant name is Town Brewing and the website is http://townbrewing.com\n",
      "The restaurant name is Tupelo Honey and the website is https://tupelohoneycafe.com\n",
      "The restaurant name is Twenty Degrees Chocolates and the website is http://www.20degreeschocolates.info\n",
      "The restaurant name is Two Scoops Creamery and the website is https://www.twoscoopscreamery.com\n",
      "The restaurant name is Upstream Restaurant and the website is https://upstreamseafood.com\n",
      "The restaurant name is Veltree and the website is https://www.facebook.com/veltreevegan\n",
      "The restaurant name is Viva Chicken and the website is https://vivachicken.com\n",
      "The restaurant name is Whiskey Warehouse and the website is https://www.whiskeywarehouse.com\n",
      "The restaurant name is Wild Wing Cafe and the website is http://www.wildwingcafe.com\n",
      "The restaurant name is The Wine Loft and the website is https://www.wineloftcharlotte.com\n",
      "The restaurant name is Wooden Robot Brewery and the website is https://woodenrobotbrewery.com\n",
      "The restaurant name is Yafo Kitchen and the website is https://yafokitchen.com\n",
      "The restaurant name is Yamazaru Sushi &amp; Sake and the website is http://www.yamazarusushisake.com\n",
      "The restaurant name is Your Mom’s Donuts and the website is http://www.yourmomsdonutsnc.com\n",
      "The restaurant name is Zen Asian Fusion and the website is https://www.zenasianfusion.com\n",
      "The restaurant name is Zia Pia imports + Italian Kitchen and the website is https://ziapia.com\n",
      "The restaurant name is 300 East and the website is https://www.300east.net\n"
     ]
    }
   ],
   "source": [
    "websites = []\n",
    "name = []\n",
    "\n",
    "for z in range(1,len(ag_list)):\n",
    "    \n",
    "    # Getting websites\n",
    "    web_start = str(ag_list[z]).find('<a href=\"') + 9\n",
    "    web_end = str(ag_list[z]).find('\" rel')\n",
    "    web_name = str(ag_list[z])[web_start:(web_end-1)]\n",
    "    websites.append(web_name)\n",
    "    \n",
    "    # Getting Name\n",
    "    name_start = str(ag_list[z]).find('_blank\">') + 8\n",
    "    name_end = str(ag_list[z]).find('</a>')\n",
    "    name_restaurant = str(ag_list[z])[name_start:(name_end)]\n",
    "    name.append(name_restaurant)\n",
    "    \n",
    "    print(\"The restaurant name is {} and the website is {}\".format(name_restaurant, web_name))"
   ]
  },
  {
   "cell_type": "code",
   "execution_count": 279,
   "metadata": {},
   "outputs": [],
   "source": [
    "clt_agenda = pd.DataFrame({\"Name\" : name, \"Website\": websites})"
   ]
  },
  {
   "cell_type": "code",
   "execution_count": 280,
   "metadata": {},
   "outputs": [
    {
     "data": {
      "text/html": [
       "<div>\n",
       "<style scoped>\n",
       "    .dataframe tbody tr th:only-of-type {\n",
       "        vertical-align: middle;\n",
       "    }\n",
       "\n",
       "    .dataframe tbody tr th {\n",
       "        vertical-align: top;\n",
       "    }\n",
       "\n",
       "    .dataframe thead th {\n",
       "        text-align: right;\n",
       "    }\n",
       "</style>\n",
       "<table border=\"1\" class=\"dataframe\">\n",
       "  <thead>\n",
       "    <tr style=\"text-align: right;\">\n",
       "      <th></th>\n",
       "      <th>Name</th>\n",
       "      <th>Website</th>\n",
       "    </tr>\n",
       "  </thead>\n",
       "  <tbody>\n",
       "    <tr>\n",
       "      <th>0</th>\n",
       "      <td>Ace No. 3</td>\n",
       "      <td>https://www.aceno3.com</td>\n",
       "    </tr>\n",
       "    <tr>\n",
       "      <th>1</th>\n",
       "      <td>Alexander Michael’s</td>\n",
       "      <td>https://almikestavern.com</td>\n",
       "    </tr>\n",
       "    <tr>\n",
       "      <th>2</th>\n",
       "      <td>Aliño Pizzeria and The Barcelona Burger and Be...</td>\n",
       "      <td>https://barcelonaburger.com</td>\n",
       "    </tr>\n",
       "    <tr>\n",
       "      <th>3</th>\n",
       "      <td>All-American Pub</td>\n",
       "      <td>https://www.allamericanpubclt.com</td>\n",
       "    </tr>\n",
       "    <tr>\n",
       "      <th>4</th>\n",
       "      <td>Amelie’s French Cafe &amp;amp; Bakery</td>\n",
       "      <td>https://ameliesfrenchbakery.com</td>\n",
       "    </tr>\n",
       "    <tr>\n",
       "      <th>...</th>\n",
       "      <td>...</td>\n",
       "      <td>...</td>\n",
       "    </tr>\n",
       "    <tr>\n",
       "      <th>190</th>\n",
       "      <td>Yamazaru Sushi &amp;amp; Sake</td>\n",
       "      <td>http://www.yamazarusushisake.com</td>\n",
       "    </tr>\n",
       "    <tr>\n",
       "      <th>191</th>\n",
       "      <td>Your Mom’s Donuts</td>\n",
       "      <td>http://www.yourmomsdonutsnc.com</td>\n",
       "    </tr>\n",
       "    <tr>\n",
       "      <th>192</th>\n",
       "      <td>Zen Asian Fusion</td>\n",
       "      <td>https://www.zenasianfusion.com</td>\n",
       "    </tr>\n",
       "    <tr>\n",
       "      <th>193</th>\n",
       "      <td>Zia Pia imports + Italian Kitchen</td>\n",
       "      <td>https://ziapia.com</td>\n",
       "    </tr>\n",
       "    <tr>\n",
       "      <th>194</th>\n",
       "      <td>300 East</td>\n",
       "      <td>https://www.300east.net</td>\n",
       "    </tr>\n",
       "  </tbody>\n",
       "</table>\n",
       "<p>195 rows × 2 columns</p>\n",
       "</div>"
      ],
      "text/plain": [
       "                                                  Name  \\\n",
       "0                                            Ace No. 3   \n",
       "1                                  Alexander Michael’s   \n",
       "2    Aliño Pizzeria and The Barcelona Burger and Be...   \n",
       "3                                     All-American Pub   \n",
       "4                    Amelie’s French Cafe &amp; Bakery   \n",
       "..                                                 ...   \n",
       "190                          Yamazaru Sushi &amp; Sake   \n",
       "191                                  Your Mom’s Donuts   \n",
       "192                                   Zen Asian Fusion   \n",
       "193                  Zia Pia imports + Italian Kitchen   \n",
       "194                                           300 East   \n",
       "\n",
       "                               Website  \n",
       "0               https://www.aceno3.com  \n",
       "1            https://almikestavern.com  \n",
       "2          https://barcelonaburger.com  \n",
       "3    https://www.allamericanpubclt.com  \n",
       "4      https://ameliesfrenchbakery.com  \n",
       "..                                 ...  \n",
       "190   http://www.yamazarusushisake.com  \n",
       "191    http://www.yourmomsdonutsnc.com  \n",
       "192     https://www.zenasianfusion.com  \n",
       "193                 https://ziapia.com  \n",
       "194            https://www.300east.net  \n",
       "\n",
       "[195 rows x 2 columns]"
      ]
     },
     "execution_count": 280,
     "metadata": {},
     "output_type": "execute_result"
    }
   ],
   "source": [
    "clt_agenda"
   ]
  },
  {
   "cell_type": "code",
   "execution_count": 281,
   "metadata": {},
   "outputs": [],
   "source": [
    "ag_list_par = clt_text.findAll('p')"
   ]
  },
  {
   "cell_type": "code",
   "execution_count": 282,
   "metadata": {},
   "outputs": [],
   "source": [
    "para = []\n",
    "\n",
    "for z in range(1,len(ag_list_par)):\n",
    "    \n",
    "    # Getting websites\n",
    "    start = str(ag_list_par[z]).find('<p><em>') + 4\n",
    "    end = str(ag_list_par[z]).find('</p>')\n",
    "    para_name = str(ag_list_par[z])[start:(end-1)]\n",
    "    para.append(para_name)\n",
    "    \n",
    "    #print(\"Paragraph {}: {}\".format(z, para_name))"
   ]
  },
  {
   "cell_type": "code",
   "execution_count": 283,
   "metadata": {},
   "outputs": [],
   "source": [
    "# Legion has three paragraphs, so need to concatenate\n",
    "para[98] = para[98] + \". \" + para[99] + \". \" + para[100]"
   ]
  },
  {
   "cell_type": "code",
   "execution_count": 284,
   "metadata": {},
   "outputs": [],
   "source": [
    "# North Italia\n",
    "para[133] = para[133] + \". \" + para[134]"
   ]
  },
  {
   "cell_type": "code",
   "execution_count": 285,
   "metadata": {},
   "outputs": [],
   "source": [
    "# OMB\n",
    "para[137] = para[137] + \". \" + para[138] + \". \" + para[139]"
   ]
  },
  {
   "cell_type": "code",
   "execution_count": 286,
   "metadata": {},
   "outputs": [],
   "source": [
    "# Portfolinos\n",
    "para[148] = para[148] + \". \" + para[149] + \". \" + para[150] + \". \" + para[151] + \". \" + para[152]"
   ]
  },
  {
   "cell_type": "code",
   "execution_count": 287,
   "metadata": {},
   "outputs": [],
   "source": [
    "# Queen City Grounds\n",
    "para[156] = para[156] + \". \" + para[157]"
   ]
  },
  {
   "cell_type": "code",
   "execution_count": 288,
   "metadata": {},
   "outputs": [],
   "source": [
    "# Deleting copied\n",
    "to_remove = [99,100,134,138,139,149,150,151,152,157]\n",
    "para2 = [v for i, v in enumerate(para) if i not in to_remove]"
   ]
  },
  {
   "cell_type": "code",
   "execution_count": 289,
   "metadata": {},
   "outputs": [],
   "source": [
    "clt_agenda['Information'] = para2[1:-2]"
   ]
  },
  {
   "cell_type": "code",
   "execution_count": 290,
   "metadata": {},
   "outputs": [],
   "source": [
    "clt_agenda['Information'].replace(regex=True,inplace=True,to_replace=\"<a href=\\\".{1,}\\\">\", value=\"\")\n",
    "clt_agenda['Information'].replace(regex=True,inplace=True,to_replace=\"</a[>|\\s/|.]\", value=\"\")\n",
    "clt_agenda['Information'].replace(regex=True,inplace=True,to_replace=\"</a$\", value=\"\")\n",
    "clt_agenda['Information'].replace(regex=True,inplace=True,to_replace=\"amp;\", value=\"\")\n",
    "clt_agenda['Name'].replace(regex=True,inplace=True,to_replace=\"amp;\", value=\"\")"
   ]
  },
  {
   "cell_type": "code",
   "execution_count": null,
   "metadata": {},
   "outputs": [],
   "source": [
    "# Writing to excel\n",
    "#clt_agenda.to_excel(\"C:/Users/mattw/Desktop/Charlotte_Restaurants3.xlsx\", index=False)  "
   ]
  },
  {
   "cell_type": "markdown",
   "metadata": {},
   "source": [
    "## Getting Information from Yelp"
   ]
  },
  {
   "cell_type": "code",
   "execution_count": 270,
   "metadata": {},
   "outputs": [],
   "source": [
    "# Initializing the API\n",
    "from yelpapi import YelpAPI\n",
    "from difflib import get_close_matches \n",
    "yelp_api_key = \"dkZTgrP07ij03ljhIptABA3WDF613eHyPgDNYwflEJ9q_bCAPMahDc4Fe7zD1c6j1-yj0MEBo7CBgqJg0_w0zdI3tyHobKrrbbb5MJClpeXC_a5QahA2n4wEN-B0XnYx\"\n",
    "yelp_api = YelpAPI(yelp_api_key)"
   ]
  },
  {
   "cell_type": "code",
   "execution_count": 366,
   "metadata": {},
   "outputs": [],
   "source": [
    "def yelp_search(restaurant_name):\n",
    "    test_search_results = yelp_api.search_query(term=restaurant_name, location='charlotte, nc', sort_by='rating', limit=10)\n",
    "    return(test_search_results)"
   ]
  },
  {
   "cell_type": "code",
   "execution_count": 389,
   "metadata": {},
   "outputs": [],
   "source": [
    "def close_match_index(patterns, matches):\n",
    "    \n",
    "    idx = []\n",
    "    \n",
    "    for indx in range(patterns):\n",
    "        if patterns[indx] in matches:\n",
    "            idx.append(indx)\n",
    "            \n",
    "    return(idx)"
   ]
  },
  {
   "cell_type": "code",
   "execution_count": 390,
   "metadata": {},
   "outputs": [],
   "source": [
    "def yelp_return_number(yelp_search, restaurant_n):\n",
    "    \n",
    "    # Check for multiple iterations\n",
    "    like_businesses = []\n",
    "    \n",
    "    for rr in yelp_search:\n",
    "        like_businesses.append(rr['name'])\n",
    "    \n",
    "    # Getting similar\n",
    "    matches = get_close_matches(restaurant_n, like_businesses)\n",
    "    \n",
    "    # If one- proceed\n",
    "    if len(matches) == 1:\n",
    "        return(yelp_search[0])\n",
    "    \n",
    "    else:\n",
    "        \n",
    "        # Get index of matches\n",
    "        m = close_match_index(like_businesses, matches)\n",
    "        \n",
    "        return(yelp_search[m])"
   ]
  },
  {
   "cell_type": "code",
   "execution_count": 392,
   "metadata": {},
   "outputs": [
    {
     "name": "stdout",
     "output_type": "stream",
     "text": [
      "We are working on Ace No. 3\n"
     ]
    },
    {
     "ename": "TypeError",
     "evalue": "'dict' object cannot be interpreted as an integer",
     "output_type": "error",
     "traceback": [
      "\u001b[1;31m---------------------------------------------------------------------------\u001b[0m",
      "\u001b[1;31mTypeError\u001b[0m                                 Traceback (most recent call last)",
      "\u001b[1;32m<ipython-input-392-52e9b0f22aa4>\u001b[0m in \u001b[0;36m<module>\u001b[1;34m\u001b[0m\n\u001b[0;32m     27\u001b[0m         \u001b[0mphn\u001b[0m \u001b[1;33m=\u001b[0m \u001b[1;33m[\u001b[0m\u001b[1;33m]\u001b[0m\u001b[1;33m\u001b[0m\u001b[1;33m\u001b[0m\u001b[0m\n\u001b[0;32m     28\u001b[0m \u001b[1;33m\u001b[0m\u001b[0m\n\u001b[1;32m---> 29\u001b[1;33m         \u001b[1;32mfor\u001b[0m \u001b[0mmult\u001b[0m \u001b[1;32min\u001b[0m \u001b[0mrange\u001b[0m\u001b[1;33m(\u001b[0m\u001b[0mrestaurant_info\u001b[0m\u001b[1;33m)\u001b[0m\u001b[1;33m:\u001b[0m\u001b[1;33m\u001b[0m\u001b[1;33m\u001b[0m\u001b[0m\n\u001b[0m\u001b[0;32m     30\u001b[0m \u001b[1;33m\u001b[0m\u001b[0m\n\u001b[0;32m     31\u001b[0m             \u001b[0mlng\u001b[0m\u001b[1;33m.\u001b[0m\u001b[0mappend\u001b[0m\u001b[1;33m(\u001b[0m\u001b[0mrestaurant_info\u001b[0m\u001b[1;33m[\u001b[0m\u001b[0mmult\u001b[0m\u001b[1;33m]\u001b[0m\u001b[1;33m[\u001b[0m\u001b[1;34m'coordinates'\u001b[0m\u001b[1;33m]\u001b[0m\u001b[1;33m[\u001b[0m\u001b[1;34m'longitude'\u001b[0m\u001b[1;33m]\u001b[0m\u001b[1;33m)\u001b[0m\u001b[1;33m\u001b[0m\u001b[1;33m\u001b[0m\u001b[0m\n",
      "\u001b[1;31mTypeError\u001b[0m: 'dict' object cannot be interpreted as an integer"
     ]
    }
   ],
   "source": [
    "for ii in range(len(xxx['Name'])):\n",
    "    \n",
    "    # Restaurant Name\n",
    "    n = xxx.iloc[ii,0]\n",
    "    print('We are working on {}'.format(n))\n",
    "    # Get Yelp Search\n",
    "    yelp_return = yelp_search(n)\n",
    "    yelp_return = yelp_return['businesses']\n",
    "    \n",
    "    # Check for doubles\n",
    "    restaurant_info = yelp_return_number(yelp_return, n)\n",
    "    test = restaurant_info\n",
    "    # If we can proceed, add to dataframe\n",
    "    if len(restaurant_info) == 1:\n",
    "        \n",
    "        xxx.at[ii, 'longitude'] = restaurant_info['coordinates']['longitude']\n",
    "        xxx.at[ii, 'latitude'] = restaurant_info['coordinates']['latitude']\n",
    "        xxx.at[ii, 'category'] = restaurant_info['categories'][0]['title']\n",
    "        xxx.at[ii, 'address'] = restaurant_info['location']['display_address']\n",
    "        xxx.at[ii, 'display_phone'] = restaurant_info['display_phone']\n",
    "        \n",
    "    else:\n",
    "        \n",
    "        lng = []\n",
    "        lati = []\n",
    "        addy = []\n",
    "        phn = []\n",
    "        \n",
    "        for mult in range(restaurant_info):\n",
    "            \n",
    "            lng.append(restaurant_info[mult]['coordinates']['longitude'])\n",
    "            lati.append(restaurant_info[mult]['coordinates']['latitude'])\n",
    "            addy.append(restaurant_info[mult]['coordinates']['display_address'])\n",
    "            phn.append(restaurant_info[mult]['coordinates']['display_phone'])            \n",
    "                   \n",
    "        xxx.at[ii, 'longitude'] = lng\n",
    "        xxx.at[ii, 'latitude'] = lati\n",
    "        xxx.at[ii, 'category'] = restaurant_info[0]['categories'][0]['title']\n",
    "        xxx.at[ii, 'address'] = addy\n",
    "        xxx.at[ii, 'display_phone'] = phn   "
   ]
  },
  {
   "cell_type": "code",
   "execution_count": 408,
   "metadata": {},
   "outputs": [
    {
     "ename": "KeyError",
     "evalue": "0",
     "output_type": "error",
     "traceback": [
      "\u001b[1;31m---------------------------------------------------------------------------\u001b[0m",
      "\u001b[1;31mKeyError\u001b[0m                                  Traceback (most recent call last)",
      "\u001b[1;32m<ipython-input-408-4342ea232f56>\u001b[0m in \u001b[0;36m<module>\u001b[1;34m\u001b[0m\n\u001b[0;32m      1\u001b[0m \u001b[0mcount\u001b[0m \u001b[1;33m=\u001b[0m \u001b[1;36m0\u001b[0m\u001b[1;33m\u001b[0m\u001b[1;33m\u001b[0m\u001b[0m\n\u001b[1;32m----> 2\u001b[1;33m \u001b[1;32mfor\u001b[0m \u001b[0mitem\u001b[0m \u001b[1;32min\u001b[0m \u001b[0mtest\u001b[0m\u001b[1;33m[\u001b[0m\u001b[1;36m0\u001b[0m\u001b[1;33m]\u001b[0m\u001b[1;33m:\u001b[0m\u001b[1;33m\u001b[0m\u001b[1;33m\u001b[0m\u001b[0m\n\u001b[0m\u001b[0;32m      3\u001b[0m     \u001b[0mcount\u001b[0m \u001b[1;33m=\u001b[0m \u001b[0mcount\u001b[0m \u001b[1;33m+\u001b[0m \u001b[1;36m1\u001b[0m\u001b[1;33m\u001b[0m\u001b[1;33m\u001b[0m\u001b[0m\n\u001b[0;32m      4\u001b[0m \u001b[1;33m\u001b[0m\u001b[0m\n\u001b[0;32m      5\u001b[0m \u001b[0mcount\u001b[0m\u001b[1;33m\u001b[0m\u001b[1;33m\u001b[0m\u001b[0m\n",
      "\u001b[1;31mKeyError\u001b[0m: 0"
     ]
    }
   ],
   "source": [
    "count = 0\n",
    "for item in tes:\n",
    "    count = count + 1\n",
    "    \n",
    "count"
   ]
  },
  {
   "cell_type": "code",
   "execution_count": 418,
   "metadata": {},
   "outputs": [
    {
     "data": {
      "text/plain": [
       "[{'id': 'gG9z6zr_49LocyCTvSFg0w',\n",
       "  'alias': 'amélies-french-bakery-and-café-charlotte-11',\n",
       "  'name': \"Amélie's French Bakery & Café\",\n",
       "  'image_url': 'https://s3-media1.fl.yelpcdn.com/bphoto/jxN-dN4XinNN_xRgj5aisw/o.jpg',\n",
       "  'is_closed': False,\n",
       "  'url': 'https://www.yelp.com/biz/am%C3%A9lies-french-bakery-and-caf%C3%A9-charlotte-11?adjust_creative=287YDYKELEL71qbCSU-z-Q&utm_campaign=yelp_api_v3&utm_medium=api_v3_business_search&utm_source=287YDYKELEL71qbCSU-z-Q',\n",
       "  'review_count': 1833,\n",
       "  'categories': [{'alias': 'bakeries', 'title': 'Bakeries'},\n",
       "   {'alias': 'cafes', 'title': 'Cafes'},\n",
       "   {'alias': 'cakeshop', 'title': 'Patisserie/Cake Shop'}],\n",
       "  'rating': 4.0,\n",
       "  'coordinates': {'latitude': 35.241145, 'longitude': -80.812057},\n",
       "  'transactions': ['delivery'],\n",
       "  'price': '$$',\n",
       "  'location': {'address1': '2424 N Davidson St',\n",
       "   'address2': 'Ste 102',\n",
       "   'address3': '',\n",
       "   'city': 'Charlotte',\n",
       "   'zip_code': '28205',\n",
       "   'country': 'US',\n",
       "   'state': 'NC',\n",
       "   'display_address': ['2424 N Davidson St',\n",
       "    'Ste 102',\n",
       "    'Charlotte, NC 28205']},\n",
       "  'phone': '+17043761781',\n",
       "  'display_phone': '(704) 376-1781',\n",
       "  'distance': 5284.519290652392},\n",
       " {'id': 'M0pkmBUi_CI0qrzN7ee80Q',\n",
       "  'alias': 'amélies-french-bakery-and-café-charlotte-6',\n",
       "  'name': \"Amélie's French Bakery & Café\",\n",
       "  'image_url': 'https://s3-media3.fl.yelpcdn.com/bphoto/WNX7qzHhfsk8rd-9AWcY2Q/o.jpg',\n",
       "  'is_closed': False,\n",
       "  'url': 'https://www.yelp.com/biz/am%C3%A9lies-french-bakery-and-caf%C3%A9-charlotte-6?adjust_creative=287YDYKELEL71qbCSU-z-Q&utm_campaign=yelp_api_v3&utm_medium=api_v3_business_search&utm_source=287YDYKELEL71qbCSU-z-Q',\n",
       "  'review_count': 680,\n",
       "  'categories': [{'alias': 'cafes', 'title': 'Cafes'},\n",
       "   {'alias': 'bakeries', 'title': 'Bakeries'}],\n",
       "  'rating': 4.0,\n",
       "  'coordinates': {'latitude': 35.224286, 'longitude': -80.845116},\n",
       "  'transactions': ['delivery'],\n",
       "  'price': '$',\n",
       "  'location': {'address1': '380 S College St',\n",
       "   'address2': '',\n",
       "   'address3': None,\n",
       "   'city': 'Charlotte',\n",
       "   'zip_code': '28202',\n",
       "   'country': 'US',\n",
       "   'state': 'NC',\n",
       "   'display_address': ['380 S College St', 'Charlotte, NC 28202']},\n",
       "  'phone': '+17048990088',\n",
       "  'display_phone': '(704) 899-0088',\n",
       "  'distance': 3404.4460842053372}]"
      ]
     },
     "execution_count": 418,
     "metadata": {},
     "output_type": "execute_result"
    }
   ],
   "source": [
    "yelp_search(\"Amélie's French Bakery & Café\")['businesses'][0:2]"
   ]
  },
  {
   "cell_type": "code",
   "execution_count": 375,
   "metadata": {},
   "outputs": [],
   "source": [
    "xxx.at[0,'longitude'] = yelp_search(xxx.iloc[0,0])['businesses'][0]['coordinates']['longitude']"
   ]
  },
  {
   "cell_type": "code",
   "execution_count": 291,
   "metadata": {},
   "outputs": [],
   "source": [
    "xxx = clt_agenda.copy()"
   ]
  },
  {
   "cell_type": "code",
   "execution_count": 382,
   "metadata": {},
   "outputs": [],
   "source": [
    "xxx['longitude'] = np.nan\n",
    "xxx['latitude'] = np.nan\n",
    "xxx['category'] = ''\n",
    "xxx['address'] = ''\n",
    "xxx['display_phone'] = ''"
   ]
  },
  {
   "cell_type": "code",
   "execution_count": 336,
   "metadata": {},
   "outputs": [],
   "source": [
    "for index,row in xxx.iterrows():\n",
    "    xxx.at[index, 'longitude'] = lng\n",
    "    xxx.at[index, 'latitude'] = lll\n",
    "    xxx.at[index, 'category'] = titl\n",
    "    xxx.at[index, 'address'] = addy\n",
    "    xxx.at[index, 'display_phone'] = phn"
   ]
  },
  {
   "cell_type": "code",
   "execution_count": 328,
   "metadata": {},
   "outputs": [],
   "source": [
    "lng = tt[0]['coordinates']['longitude']\n",
    "lll = tt[0]['coordinates']['latitude']\n",
    "titl = tt[0]['categories'][0]['title']\n",
    "addy = tt[0]['location']['display_address']\n",
    "phn = tt[0]['display_phone']"
   ]
  },
  {
   "cell_type": "code",
   "execution_count": 419,
   "metadata": {},
   "outputs": [
    {
     "data": {
      "text/html": [
       "<div>\n",
       "<style scoped>\n",
       "    .dataframe tbody tr th:only-of-type {\n",
       "        vertical-align: middle;\n",
       "    }\n",
       "\n",
       "    .dataframe tbody tr th {\n",
       "        vertical-align: top;\n",
       "    }\n",
       "\n",
       "    .dataframe thead th {\n",
       "        text-align: right;\n",
       "    }\n",
       "</style>\n",
       "<table border=\"1\" class=\"dataframe\">\n",
       "  <thead>\n",
       "    <tr style=\"text-align: right;\">\n",
       "      <th></th>\n",
       "      <th>Name</th>\n",
       "      <th>Website</th>\n",
       "      <th>Information</th>\n",
       "      <th>longitude</th>\n",
       "      <th>latitude</th>\n",
       "      <th>category</th>\n",
       "      <th>address</th>\n",
       "      <th>display_phone</th>\n",
       "    </tr>\n",
       "  </thead>\n",
       "  <tbody>\n",
       "    <tr>\n",
       "      <th>0</th>\n",
       "      <td>Ace No. 3</td>\n",
       "      <td>https://www.aceno3.com</td>\n",
       "      <td>Order a burger and a shake to-go through Ace’s...</td>\n",
       "      <td>-80.820951</td>\n",
       "      <td>35.227885</td>\n",
       "      <td>Burgers</td>\n",
       "      <td>[1001 Belmont Ave, Charlotte, NC 28205]</td>\n",
       "      <td>(704) 910-2200</td>\n",
       "    </tr>\n",
       "    <tr>\n",
       "      <th>1</th>\n",
       "      <td>Alexander Michael’s</td>\n",
       "      <td>https://almikestavern.com</td>\n",
       "      <td>Offering take-out Tuesday – Saturday from 11:0...</td>\n",
       "      <td>-80.840830</td>\n",
       "      <td>35.233570</td>\n",
       "      <td>American (Traditional)</td>\n",
       "      <td>[401 W 9th St, Charlotte, NC 28202]</td>\n",
       "      <td>(704) 332-6789</td>\n",
       "    </tr>\n",
       "    <tr>\n",
       "      <th>2</th>\n",
       "      <td>Aliño Pizzeria and The Barcelona Burger and Be...</td>\n",
       "      <td>https://barcelonaburger.com</td>\n",
       "      <td>Offering their three most popular dishes at up...</td>\n",
       "      <td>-80.821238</td>\n",
       "      <td>35.575601</td>\n",
       "      <td>Pizza</td>\n",
       "      <td>[500 S Main St, Ste 401, Mooresville, NC 28115]</td>\n",
       "      <td>(704) 663-0010</td>\n",
       "    </tr>\n",
       "    <tr>\n",
       "      <th>3</th>\n",
       "      <td>All-American Pub</td>\n",
       "      <td>https://www.allamericanpubclt.com</td>\n",
       "      <td>Offering their full menu daily from 11 a.m.- 8...</td>\n",
       "      <td>-80.854651</td>\n",
       "      <td>35.216576</td>\n",
       "      <td>American (New)</td>\n",
       "      <td>[200 E Bland St, Charlotte, NC 28203]</td>\n",
       "      <td>(704) 370-2000</td>\n",
       "    </tr>\n",
       "    <tr>\n",
       "      <th>4</th>\n",
       "      <td>Amelie’s French Cafe &amp; Bakery</td>\n",
       "      <td>https://ameliesfrenchbakery.com</td>\n",
       "      <td>All five locations in the Charlotte region (th...</td>\n",
       "      <td>NaN</td>\n",
       "      <td>NaN</td>\n",
       "      <td></td>\n",
       "      <td></td>\n",
       "      <td></td>\n",
       "    </tr>\n",
       "    <tr>\n",
       "      <th>...</th>\n",
       "      <td>...</td>\n",
       "      <td>...</td>\n",
       "      <td>...</td>\n",
       "      <td>...</td>\n",
       "      <td>...</td>\n",
       "      <td>...</td>\n",
       "      <td>...</td>\n",
       "      <td>...</td>\n",
       "    </tr>\n",
       "    <tr>\n",
       "      <th>190</th>\n",
       "      <td>Yamazaru Sushi &amp; Sake</td>\n",
       "      <td>http://www.yamazarusushisake.com</td>\n",
       "      <td>Offering curbside pick-up from 11:30 a.m. – 9 p.m</td>\n",
       "      <td>NaN</td>\n",
       "      <td>NaN</td>\n",
       "      <td></td>\n",
       "      <td></td>\n",
       "      <td></td>\n",
       "    </tr>\n",
       "    <tr>\n",
       "      <th>191</th>\n",
       "      <td>Your Mom’s Donuts</td>\n",
       "      <td>http://www.yourmomsdonutsnc.com</td>\n",
       "      <td>Offering curbside takeout</td>\n",
       "      <td>NaN</td>\n",
       "      <td>NaN</td>\n",
       "      <td></td>\n",
       "      <td></td>\n",
       "      <td></td>\n",
       "    </tr>\n",
       "    <tr>\n",
       "      <th>192</th>\n",
       "      <td>Zen Asian Fusion</td>\n",
       "      <td>https://www.zenasianfusion.com</td>\n",
       "      <td>Offering curbside pickup. Buy a $100 gift cert...</td>\n",
       "      <td>-80.844154</td>\n",
       "      <td>35.202663</td>\n",
       "      <td>Asian Fusion</td>\n",
       "      <td>[1716 Kenilworth Ave, Charlotte, NC 28203]</td>\n",
       "      <td>(704) 358-9688</td>\n",
       "    </tr>\n",
       "    <tr>\n",
       "      <th>193</th>\n",
       "      <td>Zia Pia imports + Italian Kitchen</td>\n",
       "      <td>https://ziapia.com</td>\n",
       "      <td>Free delivery on groceries. Look for deli item...</td>\n",
       "      <td>-80.838042</td>\n",
       "      <td>35.227808</td>\n",
       "      <td>Pasta Shops</td>\n",
       "      <td>[224 E 7th St, Charlotte, NC 28202]</td>\n",
       "      <td>(704) 574-9163</td>\n",
       "    </tr>\n",
       "    <tr>\n",
       "      <th>194</th>\n",
       "      <td>300 East</td>\n",
       "      <td>https://www.300east.net</td>\n",
       "      <td>They’re offering their full menu, plus daily l...</td>\n",
       "      <td>-80.856636</td>\n",
       "      <td>35.210281</td>\n",
       "      <td>American (New)</td>\n",
       "      <td>[300 East Blvd, Charlotte, NC 28203]</td>\n",
       "      <td>(704) 332-6507</td>\n",
       "    </tr>\n",
       "  </tbody>\n",
       "</table>\n",
       "<p>195 rows × 8 columns</p>\n",
       "</div>"
      ],
      "text/plain": [
       "                                                  Name  \\\n",
       "0                                            Ace No. 3   \n",
       "1                                  Alexander Michael’s   \n",
       "2    Aliño Pizzeria and The Barcelona Burger and Be...   \n",
       "3                                     All-American Pub   \n",
       "4                        Amelie’s French Cafe & Bakery   \n",
       "..                                                 ...   \n",
       "190                              Yamazaru Sushi & Sake   \n",
       "191                                  Your Mom’s Donuts   \n",
       "192                                   Zen Asian Fusion   \n",
       "193                  Zia Pia imports + Italian Kitchen   \n",
       "194                                           300 East   \n",
       "\n",
       "                               Website  \\\n",
       "0               https://www.aceno3.com   \n",
       "1            https://almikestavern.com   \n",
       "2          https://barcelonaburger.com   \n",
       "3    https://www.allamericanpubclt.com   \n",
       "4      https://ameliesfrenchbakery.com   \n",
       "..                                 ...   \n",
       "190   http://www.yamazarusushisake.com   \n",
       "191    http://www.yourmomsdonutsnc.com   \n",
       "192     https://www.zenasianfusion.com   \n",
       "193                 https://ziapia.com   \n",
       "194            https://www.300east.net   \n",
       "\n",
       "                                           Information  longitude   latitude  \\\n",
       "0    Order a burger and a shake to-go through Ace’s... -80.820951  35.227885   \n",
       "1    Offering take-out Tuesday – Saturday from 11:0... -80.840830  35.233570   \n",
       "2    Offering their three most popular dishes at up... -80.821238  35.575601   \n",
       "3    Offering their full menu daily from 11 a.m.- 8... -80.854651  35.216576   \n",
       "4    All five locations in the Charlotte region (th...        NaN        NaN   \n",
       "..                                                 ...        ...        ...   \n",
       "190  Offering curbside pick-up from 11:30 a.m. – 9 p.m        NaN        NaN   \n",
       "191                          Offering curbside takeout        NaN        NaN   \n",
       "192  Offering curbside pickup. Buy a $100 gift cert... -80.844154  35.202663   \n",
       "193  Free delivery on groceries. Look for deli item... -80.838042  35.227808   \n",
       "194  They’re offering their full menu, plus daily l... -80.856636  35.210281   \n",
       "\n",
       "                   category                                          address  \\\n",
       "0                   Burgers          [1001 Belmont Ave, Charlotte, NC 28205]   \n",
       "1    American (Traditional)              [401 W 9th St, Charlotte, NC 28202]   \n",
       "2                     Pizza  [500 S Main St, Ste 401, Mooresville, NC 28115]   \n",
       "3            American (New)            [200 E Bland St, Charlotte, NC 28203]   \n",
       "4                                                                              \n",
       "..                      ...                                              ...   \n",
       "190                                                                            \n",
       "191                                                                            \n",
       "192            Asian Fusion       [1716 Kenilworth Ave, Charlotte, NC 28203]   \n",
       "193             Pasta Shops              [224 E 7th St, Charlotte, NC 28202]   \n",
       "194          American (New)             [300 East Blvd, Charlotte, NC 28203]   \n",
       "\n",
       "      display_phone  \n",
       "0    (704) 910-2200  \n",
       "1    (704) 332-6789  \n",
       "2    (704) 663-0010  \n",
       "3    (704) 370-2000  \n",
       "4                    \n",
       "..              ...  \n",
       "190                  \n",
       "191                  \n",
       "192  (704) 358-9688  \n",
       "193  (704) 574-9163  \n",
       "194  (704) 332-6507  \n",
       "\n",
       "[195 rows x 8 columns]"
      ]
     },
     "execution_count": 419,
     "metadata": {},
     "output_type": "execute_result"
    }
   ],
   "source": [
    "xxx"
   ]
  },
  {
   "cell_type": "code",
   "execution_count": null,
   "metadata": {},
   "outputs": [],
   "source": []
  },
  {
   "cell_type": "markdown",
   "metadata": {},
   "source": [
    "# Map for Charlotte Restaurants"
   ]
  },
  {
   "cell_type": "code",
   "execution_count": 421,
   "metadata": {},
   "outputs": [],
   "source": [
    "import matplotlib.cm as cm\n",
    "import matplotlib.colors as colors\n",
    "import folium"
   ]
  },
  {
   "cell_type": "code",
   "execution_count": 428,
   "metadata": {},
   "outputs": [],
   "source": [
    "clt_map_d = xxx.copy()"
   ]
  },
  {
   "cell_type": "code",
   "execution_count": 434,
   "metadata": {},
   "outputs": [],
   "source": [
    "clt_map_d = clt_map_d[clt_map_d['latitude'] > 0]"
   ]
  },
  {
   "cell_type": "code",
   "execution_count": 441,
   "metadata": {},
   "outputs": [],
   "source": [
    "categories = clt_map_d['category'].unique()\n",
    "colors_array = cm.rainbow(np.linspace(0, 1, len(categories)))\n",
    "rainbow = [colors.rgb2hex(i) for i in colors_array]"
   ]
  },
  {
   "cell_type": "code",
   "execution_count": 451,
   "metadata": {},
   "outputs": [],
   "source": []
  },
  {
   "cell_type": "code",
   "execution_count": 482,
   "metadata": {},
   "outputs": [],
   "source": [
    "colors = [\n",
    "    'red',\n",
    "    'blue',\n",
    "    'gray',\n",
    "    'darkred',\n",
    "    'lightred',\n",
    "    'orange',\n",
    "    'beige',\n",
    "    'green',\n",
    "    'darkgreen',\n",
    "    'lightgreen',\n",
    "    'darkblue',\n",
    "    'lightblue',\n",
    "    'purple',\n",
    "    'darkpurple',\n",
    "    'pink',\n",
    "    'cadetblue',\n",
    "    'lightgray',\n",
    "    'black'\n",
    "]"
   ]
  },
  {
   "cell_type": "code",
   "execution_count": 489,
   "metadata": {},
   "outputs": [
    {
     "data": {
      "text/html": [
       "<div style=\"width:100%;\"><div style=\"position:relative;width:100%;height:0;padding-bottom:60%;\"><iframe src=\"data:text/html;charset=utf-8;base64,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\" style=\"position:absolute;width:100%;height:100%;left:0;top:0;border:none !important;\" allowfullscreen webkitallowfullscreen mozallowfullscreen></iframe></div></div>"
      ],
      "text/plain": [
       "<folium.folium.Map at 0x136bab26588>"
      ]
     },
     "execution_count": 489,
     "metadata": {},
     "output_type": "execute_result"
    }
   ],
   "source": [
    "# create map of New York using latitude and longitude values\n",
    "map_clt = folium.Map(location=[35.228537,-80.8441127], zoom_start=12)\n",
    "\n",
    "for lat, lon, n, cat  in zip(clt_map_d['latitude'], clt_map_d['longitude'], clt_map_d['Name'], clt_map_d['category']):\n",
    "    \n",
    "    # Getting Category\n",
    "    tmp_cat = np.where(categories == cat)[0][0]\n",
    "    tmp_color = rainbow[tmp_cat]\n",
    "    \n",
    "    label = folium.Popup(\"<b>Name: </b>\" + str(n)  + \"<br> <b>Category:</b> \" + str(cat) + '<br><a href=\"http://www.google.com\">Google</a>')\n",
    "    folium.Marker(\n",
    "        [lat, lon],\n",
    "        #radius=7,\n",
    "        popup=label,\n",
    "        icon = folium.Icon(color = 'blue')).add_to(map_clt)\n",
    "        #fill=True,\n",
    "        #fill_color=tmp_color,\n",
    "        #fill_opacity=0.7).add_to(map_clt)\n",
    "map_clt"
   ]
  },
  {
   "cell_type": "code",
   "execution_count": 490,
   "metadata": {},
   "outputs": [],
   "source": [
    "map_clt.save('C:/Users/mattw/Desktop/clt_map_initial.html')"
   ]
  },
  {
   "cell_type": "code",
   "execution_count": null,
   "metadata": {},
   "outputs": [],
   "source": []
  },
  {
   "cell_type": "code",
   "execution_count": null,
   "metadata": {},
   "outputs": [],
   "source": []
  }
 ],
 "metadata": {
  "kernelspec": {
   "display_name": "Python 3",
   "language": "python",
   "name": "python3"
  },
  "language_info": {
   "codemirror_mode": {
    "name": "ipython",
    "version": 3
   },
   "file_extension": ".py",
   "mimetype": "text/x-python",
   "name": "python",
   "nbconvert_exporter": "python",
   "pygments_lexer": "ipython3",
   "version": "3.7.4"
  }
 },
 "nbformat": 4,
 "nbformat_minor": 2
}
