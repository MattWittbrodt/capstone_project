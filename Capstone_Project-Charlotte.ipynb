{
 "cells": [
  {
   "cell_type": "markdown",
   "metadata": {},
   "source": [
    "# This is a Jupyter Notebook for the Applied Data Science Capstone Project"
   ]
  },
  {
   "cell_type": "code",
   "execution_count": 3,
   "metadata": {},
   "outputs": [],
   "source": [
    "import pandas as pd\n",
    "import numpy as np"
   ]
  },
  {
   "cell_type": "markdown",
   "metadata": {},
   "source": [
    "# Segmenting and Clustering Neighborhoods in Toronto"
   ]
  },
  {
   "cell_type": "markdown",
   "metadata": {},
   "source": [
    "## Part 1: Web Scraping"
   ]
  },
  {
   "cell_type": "code",
   "execution_count": 4,
   "metadata": {},
   "outputs": [],
   "source": [
    "from bs4 import BeautifulSoup\n",
    "import requests"
   ]
  },
  {
   "cell_type": "code",
   "execution_count": 3,
   "metadata": {},
   "outputs": [],
   "source": [
    "url = \"https://www.yelp.com/collection/Z3iwKFIDwScWaYjcBG6v-g?utm_content=Collections&utm_source=ishare\""
   ]
  },
  {
   "cell_type": "code",
   "execution_count": 208,
   "metadata": {},
   "outputs": [],
   "source": [
    "url = \"https://www.yelp.com/collection/Z3iwKFIDwScWaYjcBG6v-g?sort_by=distance\""
   ]
  },
  {
   "cell_type": "code",
   "execution_count": 221,
   "metadata": {},
   "outputs": [],
   "source": [
    "page = requests.get(url)"
   ]
  },
  {
   "cell_type": "code",
   "execution_count": 4,
   "metadata": {},
   "outputs": [],
   "source": [
    "import os, sys\n",
    "\n",
    "if sys.version_info.major < 3:\n",
    "    from urllib import url2pathname\n",
    "else:\n",
    "    from urllib.request import url2pathname\n",
    "\n",
    "class LocalFileAdapter(requests.adapters.BaseAdapter):\n",
    "    \"\"\"Protocol Adapter to allow Requests to GET file:// URLs\n",
    "\n",
    "    @todo: Properly handle non-empty hostname portions.\n",
    "    \"\"\"\n",
    "\n",
    "    @staticmethod\n",
    "    def _chkpath(method, path):\n",
    "        \"\"\"Return an HTTP status for the given filesystem path.\"\"\"\n",
    "        if method.lower() in ('put', 'delete'):\n",
    "            return 501, \"Not Implemented\"  # TODO\n",
    "        elif method.lower() not in ('get', 'head'):\n",
    "            return 405, \"Method Not Allowed\"\n",
    "        elif os.path.isdir(path):\n",
    "            return 400, \"Path Not A File\"\n",
    "        elif not os.path.isfile(path):\n",
    "            return 404, \"File Not Found\"\n",
    "        elif not os.access(path, os.R_OK):\n",
    "            return 403, \"Access Denied\"\n",
    "        else:\n",
    "            return 200, \"OK\"\n",
    "\n",
    "    def send(self, req, **kwargs):  # pylint: disable=unused-argument\n",
    "        \"\"\"Return the file specified by the given request\n",
    "\n",
    "        @type req: C{PreparedRequest}\n",
    "        @todo: Should I bother filling `response.headers` and processing\n",
    "               If-Modified-Since and friends using `os.stat`?\n",
    "        \"\"\"\n",
    "        path = os.path.normcase(os.path.normpath(url2pathname(req.path_url)))\n",
    "        response = requests.Response()\n",
    "\n",
    "        response.status_code, response.reason = self._chkpath(req.method, path)\n",
    "        if response.status_code == 200 and req.method.lower() != 'head':\n",
    "            try:\n",
    "                response.raw = open(path, 'rb')\n",
    "            except (OSError, IOError) as err:\n",
    "                response.status_code = 500\n",
    "                response.reason = str(err)\n",
    "\n",
    "        if isinstance(req.url, bytes):\n",
    "            response.url = req.url.decode('utf-8')\n",
    "        else:\n",
    "            response.url = req.url\n",
    "\n",
    "        response.request = req\n",
    "        response.connection = self\n",
    "\n",
    "        return response\n",
    "\n",
    "    def close(self):\n",
    "        pass"
   ]
  },
  {
   "cell_type": "code",
   "execution_count": 5,
   "metadata": {},
   "outputs": [],
   "source": [
    "requests_session = requests.session()\n",
    "requests_session.mount('file://', LocalFileAdapter())\n",
    "r = requests_session.get('file:///C:/Users/mattw/Downloads/full_clt.html')"
   ]
  },
  {
   "cell_type": "code",
   "execution_count": 6,
   "metadata": {},
   "outputs": [],
   "source": [
    "soup = BeautifulSoup(r.text)"
   ]
  },
  {
   "cell_type": "code",
   "execution_count": 7,
   "metadata": {},
   "outputs": [],
   "source": [
    "r_list = soup.findAll(class_ = 'biz-name js-analytics-click')\n",
    "r2_list = []"
   ]
  },
  {
   "cell_type": "code",
   "execution_count": 8,
   "metadata": {},
   "outputs": [],
   "source": [
    "for z in range(1,len(r_list)):\n",
    "    start = str(r_list[z]).find('<span>') + 6\n",
    "    end = str(r_list[z]).find('</span>')\n",
    "    name = str(r_list[z])[start:(end-1)]\n",
    "    #print(name)\n",
    "    r2_list.append(name)"
   ]
  },
  {
   "cell_type": "code",
   "execution_count": 9,
   "metadata": {},
   "outputs": [
    {
     "data": {
      "text/plain": [
       "['Cabo Fish Tac',\n",
       " 'Hazelnuts Creperi',\n",
       " 'Fenwick’',\n",
       " 'Cantina Do Brasi',\n",
       " 'TRUE Crafted Pizz',\n",
       " 'Birdsong Brewin',\n",
       " 'The Suffolk Punc',\n",
       " 'The Waterman Fish Ba',\n",
       " 'Bonzai Thai &amp; Japanese Cuisin',\n",
       " 'Price’s Chicken Coo',\n",
       " 'Big Ben British Restaurant &amp; Pu',\n",
       " 'Chatpata',\n",
       " 'Chatpata',\n",
       " 'Crispy Banh M',\n",
       " 'Crispy Banh M',\n",
       " 'Zio Casual Italia',\n",
       " 'Bisonte Pizz',\n",
       " 'Bisonte Pizz',\n",
       " 'Zen Asian Fusio',\n",
       " 'Queen City Craft and Gourme',\n",
       " 'Ari',\n",
       " 'Banh Mi Brother',\n",
       " 'Choi’s Korea &amp; Win',\n",
       " 'VeloPop',\n",
       " 'Eggs Up Gril',\n",
       " 'Angeline’',\n",
       " 'Murphy’s Kitchen &amp; Ta',\n",
       " 'Inishmor',\n",
       " 'Moosehead Gril',\n",
       " 'DD Pecker',\n",
       " 'Fonta Flora Brewery - Optimist Hal',\n",
       " 'Mr. K’s Soft Ice Cream &amp; Drive I',\n",
       " 'Three Amigos Mexican Restaurant and Cantin',\n",
       " 'Two Scoops Creamer',\n",
       " 'Two Scoops Creamer',\n",
       " 'Town Brewing Compan',\n",
       " 'Veltre',\n",
       " 'Viva Chicke',\n",
       " 'Viva Chicken - Gastoni',\n",
       " 'Viva Chicke',\n",
       " 'Viva Chicken RedSton',\n",
       " 'Viva Chicken of Northcros',\n",
       " 'Viva Chicke',\n",
       " 'Viva Chicke',\n",
       " 'Viva Chicke',\n",
       " 'Viva Chicke',\n",
       " 'Whiskey Warehous',\n",
       " 'Wooden Robot Brewer',\n",
       " 'YAFO Kitche',\n",
       " 'YAFO Kitche',\n",
       " 'YAFO Kitche',\n",
       " 'Your Mom’s Donut',\n",
       " 'Your Mom’s Donut',\n",
       " 'Yamazar',\n",
       " 'Zia Pia imports + Italian kitche',\n",
       " '300 Eas',\n",
       " 'Pizza Peel &amp; Tap Room - Matthew',\n",
       " 'The Pizza Pee',\n",
       " 'The Pizza Pee',\n",
       " 'The Improper Pi',\n",
       " 'The Improper Pi',\n",
       " 'Stoke Charlott',\n",
       " 'Superic',\n",
       " 'Stagioni Four Seasons of Foo',\n",
       " 'Selwyn Avenue Pu',\n",
       " 'Sir Edmond Halley’',\n",
       " 'Sabor Latin Street Grill - Fort Mill/Tega Ca',\n",
       " 'Sabor Latin Street Grill - Universit',\n",
       " 'Sabor Latin Street Grill - Nod',\n",
       " 'Sabor Latin Street Grill - Uptow',\n",
       " 'Sabor Latin Street Grill - South En',\n",
       " 'Sabor Latin Street Grill - SouthPar',\n",
       " 'Sabor Latin Street Gril',\n",
       " 'RuRu’s Tacos + Tequil',\n",
       " 'Rooster’s at Southpar',\n",
       " 'The Roasting Compan',\n",
       " 'The Roasting Compan',\n",
       " 'Rhino Market &amp; Del',\n",
       " 'Rhino Market &amp; Del',\n",
       " 'Rhino Market &amp; Del',\n",
       " 'Rhino Market &amp; Del',\n",
       " 'Reid’s Fine Foo',\n",
       " 'Reid’s Fine Food',\n",
       " 'Reid’s Fine Food',\n",
       " 'Reid’s Fine Food',\n",
       " 'Resident Culture Brewing Compan',\n",
       " 'Rai Lay Tha',\n",
       " 'Pure Pizz',\n",
       " 'Pasta &amp; Provision',\n",
       " 'Pasta &amp; Provision',\n",
       " 'Pasta &amp; Provision',\n",
       " 'The Olde Mecklenburg Brewer',\n",
       " 'O-Ku Sush',\n",
       " 'North Italia - Charlott',\n",
       " 'NoDa Brewin',\n",
       " 'Noda Bodeg',\n",
       " 'Catawba Brewin',\n",
       " 'Noble Smok',\n",
       " 'Napa at Kingsle',\n",
       " 'The Pump Hous',\n",
       " 'New South Kitchen &amp; Ba',\n",
       " 'Napa on Providenc',\n",
       " 'NC Re',\n",
       " 'Nellie’s Southern Kitche',\n",
       " 'Moo &amp; Bre',\n",
       " 'Mingfu Sushi &amp; Chines',\n",
       " 'Midwood Smokehous',\n",
       " 'Midwood Smokehous',\n",
       " 'Midwood Smokehous',\n",
       " 'Mac’s Speed Shop - Lake Norma',\n",
       " 'Mac’s Speed Shop - Matthew',\n",
       " 'Mac’s Speed Shop - Steele Cree',\n",
       " 'Mac’s Speed Shop - Southen',\n",
       " 'Mezzanotte Ristorant',\n",
       " 'Mama Ricotta’',\n",
       " 'MERE’S CHEESE AND WIN',\n",
       " 'LuLu’s Maryland Style Chicken &amp; Seafoo',\n",
       " 'Luisa’s Brick Ove',\n",
       " 'Luciano’s Ristorante Italian',\n",
       " 'Living Kitche',\n",
       " 'Leroy Fox Cotswol',\n",
       " 'Leroy Fox - South En',\n",
       " 'Le Kebab Gril',\n",
       " 'Little Village Gril',\n",
       " 'Little Village Gril',\n",
       " 'Lincoln’s Haberdasher',\n",
       " 'Legion Brewing SouthPar',\n",
       " 'Leah &amp; Louis',\n",
       " 'Kindred Restauran',\n",
       " 'Indaco Charlott',\n",
       " 'The Hobbyis',\n",
       " 'Heist Brewer',\n",
       " 'Hello, Sailo',\n",
       " 'Sal’s Pizza Factor',\n",
       " 'Hawthorne’s New York Pizza and Ba',\n",
       " 'Hawthorne’s New York Pizza and Ba',\n",
       " 'Hawthornes New York Pizza &amp; Ba',\n",
       " 'Hawthorne’s NY Pizza &amp; Ba',\n",
       " 'Hawthorne’s NY Pizza &amp; Ba',\n",
       " 'Hawthorne’s NY Pizza &amp; Ba',\n",
       " 'Hawthorne’s NY Pizza &amp; Ba',\n",
       " 'Hawkers Asian Street Far',\n",
       " 'Harry’s Grille &amp; Taver',\n",
       " 'Haberdis',\n",
       " 'Harper’s Restauran',\n",
       " 'Harper’s Restauran',\n",
       " 'Harper’s Restauran',\n",
       " 'The Wine Lof',\n",
       " 'Upstrea',\n",
       " 'Mimosa Gril',\n",
       " 'Taco Molin',\n",
       " 'Gréco Fresh Grill',\n",
       " 'Greco Fresh Grill',\n",
       " 'Greco Fresh Grill',\n",
       " 'Greco Fresh Grill',\n",
       " 'Greco Fresh Grill',\n",
       " 'Good Food on Montfor',\n",
       " 'Get Fit Food',\n",
       " 'Get Fit Food',\n",
       " 'Get Fit Food',\n",
       " 'Futo But',\n",
       " 'The Goodyear Hous',\n",
       " 'Global Restauran',\n",
       " 'Fran’s Filling Statio',\n",
       " 'Foxcroft Wine Co - Waverl',\n",
       " 'Foxcroft Wine Co - Southpar',\n",
       " 'Foxcroft Wine Co - Dilwort',\n",
       " 'Flying Biscuit Cafe- Charlott',\n",
       " 'Flying Biscuit Caf',\n",
       " 'Floursho',\n",
       " 'Firebirds Wood Fired Gril',\n",
       " 'Firebirds Wood Fired Gril',\n",
       " 'Firebirds Wood Fired Gril',\n",
       " 'Famous Toastery - Matthew',\n",
       " 'Famous Toaster',\n",
       " 'Famous Toaster',\n",
       " 'Famous Toaster',\n",
       " 'Famous Toastery Ballantyn',\n",
       " 'Famous Toaster',\n",
       " 'Famous Toastery Uptow',\n",
       " 'Famous Toaster',\n",
       " 'Earl’s Grocer',\n",
       " 'Eddie’s Plac',\n",
       " 'Duckworths Grill &amp; Taphous',\n",
       " 'Duckworth’s Grill &amp; Taphouse Rea Farm',\n",
       " 'Duckworth’s Grill &amp; Taphous',\n",
       " 'Duckworth’s Grill &amp; Taphous',\n",
       " 'The Cellar at Duckworth’',\n",
       " 'Link &amp; Pi',\n",
       " 'The Dunavan',\n",
       " 'Dis',\n",
       " 'Dilworth Tasting Roo',\n",
       " 'Dilworth Neighborhood Grill',\n",
       " 'Soul Gastroloung',\n",
       " 'Diamond Restauran',\n",
       " 'Deejai Tha',\n",
       " 'Mal Pa',\n",
       " 'Community Matters Caf',\n",
       " 'Corkbuzz Restaurant &amp; Wine Ba',\n",
       " 'The Common Marke',\n",
       " 'Flower Child- Charlott',\n",
       " 'Chopt Creative Salad Co',\n",
       " 'Chopt Creative Salad Co',\n",
       " 'Chopt Creative Salad Co',\n",
       " 'Chopt Creative Salad Co',\n",
       " 'Civetta Italian Kitchen &amp; Ba',\n",
       " 'Seoul Poke Bow',\n",
       " 'Chef Alyssa’s Kitche',\n",
       " 'Charlotte Beer Garde',\n",
       " 'Capishe: Real Italian Kitche',\n",
       " 'Capishe Real Italian Kitche',\n",
       " 'Burtons Grill &amp; Bar of Blakene',\n",
       " 'Burtons Grill &amp; Bar Park Roa',\n",
       " 'Bulla Gastroba',\n",
       " 'Brixx Wood Fired Pizz',\n",
       " 'Brixx Wood Fired Pizz',\n",
       " 'Brixx Wood Fired Pizz',\n",
       " 'Brixx Wood Fired Pizz',\n",
       " 'Brewers at 4001 Yance',\n",
       " 'Bonterra Restaurant &amp; Wine Roo',\n",
       " 'Blackfinn Ameripub - Ballantyn',\n",
       " 'Brazwells Pu',\n",
       " 'Bossy Beulah’',\n",
       " 'Boardwalk Billy’s Raw Bar And Rib',\n",
       " 'Blaze Fast-Fire’d Pizz',\n",
       " 'Blaze Fast-Fire’d Pizz',\n",
       " 'Blaze Fast-Fire’d Pizz',\n",
       " 'Bedder Bedder &amp; Moor',\n",
       " 'Bistro La Bo',\n",
       " 'Bistro La Bo',\n",
       " 'Barrington’',\n",
       " 'Bahn Tha',\n",
       " 'Alternative Che',\n",
       " 'Bard',\n",
       " 'POPLAR  Tapas. Wine. Spirit',\n",
       " 'The Asbur',\n",
       " 'Bad Daddy’s Burger Ba',\n",
       " 'Bad Daddys Burger Ba',\n",
       " 'Bad Daddy’s Burger Ba',\n",
       " 'Bad Daddy’s Burger Ba',\n",
       " 'Queen Park Socia',\n",
       " 'Amélie’s French Bakery &amp; Caf',\n",
       " 'Amélie’s French Bakery &amp; Caf',\n",
       " 'Amélie’s French Bakery &amp; Caf',\n",
       " 'Amélie’s French Bakery &amp; Caf',\n",
       " 'Amélie’s French Bakery &amp; Caf',\n",
       " 'All American Pu',\n",
       " 'The Barcelona Burger and Beer Garde',\n",
       " 'Alino Pizzeri',\n",
       " 'Alexander Michael’',\n",
       " 'Ace No ',\n",
       " 'Bonzai Thai &amp; Japanese Cuisin']"
      ]
     },
     "execution_count": 9,
     "metadata": {},
     "output_type": "execute_result"
    }
   ],
   "source": [
    "r2_list"
   ]
  },
  {
   "cell_type": "code",
   "execution_count": 10,
   "metadata": {},
   "outputs": [],
   "source": [
    "# Empty list\n",
    "venue_list = []"
   ]
  },
  {
   "cell_type": "code",
   "execution_count": 11,
   "metadata": {},
   "outputs": [],
   "source": [
    "def get_clt_restaurants(name):\n",
    "    \n",
    "    CLIENT_ID = 'XHZAVLMJZPZ1YERWSOQP0RZSG1JTQV24LLJOC3CHJZBFUCWM'\n",
    "    CLIENT_SECRET = 'FKWRVOLJYEBTMABNFPMRYRJ3JOQLKTDE2JPSZKUGJYHQSAMS'\n",
    "    VERSION = \"20180323\"\n",
    "    \n",
    "    # create the API request URL\n",
    "    url = 'https://api.foursquare.com/v2/venues/explore?&client_id={}&client_secret={}&v={}&near={}&query={}'.format(\n",
    "           CLIENT_ID, \n",
    "           CLIENT_SECRET, \n",
    "           VERSION, \n",
    "           'Charlotte, NC',\n",
    "           name)\n",
    "    \n",
    "    # getting response from query\n",
    "    resp = requests.get(url=url).json()[\"response\"]['groups'][0]['items'][0]['venue']\n",
    "    \n",
    "    # getting website url\n",
    "    id_url = 'https://api.foursquare.com/v2/venues/{}?client_id={}&client_secret={}&v={}'.format(\n",
    "           resp['id'],\n",
    "           CLIENT_ID, \n",
    "           CLIENT_SECRET, \n",
    "           VERSION)\n",
    "    #print(id_url)\n",
    "    \n",
    "    \n",
    "    # Get website name\n",
    "    venue_info = requests.get(url=id_url).json()['response']['venue']\n",
    "    \n",
    "    # Check if there is a website, if not, get delivery - or return nothing\n",
    "    if 'url' in venue_info:\n",
    "        website = venue_info['url']\n",
    "    elif 'delivery' in venue_info:\n",
    "        website = venue_info['delivery']['url']\n",
    "    else: website = 'no_url' \n",
    "    \n",
    "    #print(website)\n",
    "    \n",
    "    # return only relevant information for each nearby venue\n",
    "    print(resp['name'])\n",
    "    venue_list.append([(resp['name'], \n",
    "                    resp['id'],\n",
    "                   resp['location']['formattedAddress'],\n",
    "                   resp['location']['lat'],\n",
    "                   resp['location']['lng'],\n",
    "                   resp['categories'][0]['shortName'],\n",
    "                   website)])"
   ]
  },
  {
   "cell_type": "code",
   "execution_count": 12,
   "metadata": {},
   "outputs": [
    {
     "name": "stdout",
     "output_type": "stream",
     "text": [
      "Cabo Fish Taco\n",
      "Hazelnuts Creperie\n",
      "Fenwicks Restaurant\n",
      "Three Amigos Mexican Grill and Cantina\n",
      "TRUE Crafted Pizza\n",
      "Catawba Brewing Charlotte\n",
      "The Fillmore Charlotte\n",
      "The Fillmore Charlotte\n",
      "Bahn Thai\n",
      "Viva Chicken Park Road\n",
      "VBGB Beer Hall & Garden/Restaurant\n",
      "Chatpatay\n",
      "Chatpatay\n",
      "Bánh Mì Brothers\n",
      "Bánh Mì Brothers\n",
      "Rita's Italian Ice & Frozen Custard\n",
      "Benny Pennello's Pizza\n",
      "Benny Pennello's Pizza\n",
      "Zen Massage Charlotte\n",
      "Craft Tasting Room and Growler Shop\n",
      "Aria Tuscan Grill\n",
      "Bánh Mì Brothers\n",
      "Dae Bak Korean Restaurant\n",
      "Velo Pops\n",
      "Lego pop-up shop\n",
      "Angeline's\n",
      "Stacks Kitchen\n",
      "Inishmore\n",
      "Little Village Grill\n",
      "DD Peckers Wing Shop\n",
      "Birdsong Brewing Co.\n",
      "Tony's Ice Cream\n",
      "VBGB Beer Hall & Garden/Restaurant\n",
      "Hub City Scoops\n",
      "Hub City Scoops\n",
      "Catawba Brewing Charlotte\n",
      "Veltree Vegan Soul Food And Juice Bar\n",
      "Viva Chicken Park Road\n",
      "Viva Chicken Park Road\n",
      "Viva Chicken Park Road\n",
      "Viva Chicken Park Road\n",
      "Bank of America Stadium\n",
      "Viva Chicken Park Road\n",
      "Viva Chicken Park Road\n",
      "Viva Chicken Park Road\n",
      "Viva Chicken Park Road\n",
      "Bakersfield\n",
      "Brewers at 4001 Yancey\n",
      "Crêpe Cellar Kitchen & Pub\n",
      "Crêpe Cellar Kitchen & Pub\n",
      "Crêpe Cellar Kitchen & Pub\n",
      "Run for Your Life\n",
      "Run for Your Life\n",
      "Yamazaru\n",
      "Rossini's Italian\n",
      "300 East\n",
      "The Pizza Peel and Tap Room\n",
      "The Fillmore Charlotte\n",
      "The Fillmore Charlotte\n",
      "The Fillmore Charlotte\n",
      "The Fillmore Charlotte\n",
      "Catawba Brewing Charlotte\n",
      "Superica\n",
      "Bank of America Stadium\n",
      "Viva Chicken Elizabeth Avenue\n",
      "Sir Edmund Halley's\n",
      "iLoveKickboxing - Fort Mill, SC\n",
      "Sabor Latin Street Grill\n",
      "Sabor Latin Street Grill\n",
      "Sabor Latin Street Grill\n",
      "Publix - South End\n",
      "Sabor Latin Street Grill\n",
      "Sabor Latin Street Grill\n",
      "Paco's Tacos & Tequila\n",
      "Rooster's Wood Fired Kitchen\n",
      "The Fillmore Charlotte\n",
      "The Fillmore Charlotte\n",
      "Common Market\n",
      "Common Market\n",
      "Common Market\n",
      "Common Market\n",
      "Reid's Fine Foods\n",
      "Good Food on Montford\n",
      "Good Food on Montford\n"
     ]
    },
    {
     "ename": "KeyError",
     "evalue": "'venue'",
     "output_type": "error",
     "traceback": [
      "\u001b[1;31m---------------------------------------------------------------------------\u001b[0m",
      "\u001b[1;31mKeyError\u001b[0m                                  Traceback (most recent call last)",
      "\u001b[1;32m<ipython-input-12-4a80fb39a2f7>\u001b[0m in \u001b[0;36m<module>\u001b[1;34m\u001b[0m\n\u001b[0;32m      1\u001b[0m \u001b[1;31m# loop over restaurants\u001b[0m\u001b[1;33m\u001b[0m\u001b[1;33m\u001b[0m\u001b[1;33m\u001b[0m\u001b[0m\n\u001b[0;32m      2\u001b[0m \u001b[1;32mfor\u001b[0m \u001b[0mii\u001b[0m \u001b[1;32min\u001b[0m \u001b[0mr2_list\u001b[0m\u001b[1;33m:\u001b[0m\u001b[1;33m\u001b[0m\u001b[1;33m\u001b[0m\u001b[0m\n\u001b[1;32m----> 3\u001b[1;33m     \u001b[0mget_clt_restaurants\u001b[0m\u001b[1;33m(\u001b[0m\u001b[0mii\u001b[0m\u001b[1;33m)\u001b[0m\u001b[1;33m\u001b[0m\u001b[1;33m\u001b[0m\u001b[0m\n\u001b[0m",
      "\u001b[1;32m<ipython-input-11-f9e4cb294462>\u001b[0m in \u001b[0;36mget_clt_restaurants\u001b[1;34m(name)\u001b[0m\n\u001b[0;32m     26\u001b[0m \u001b[1;33m\u001b[0m\u001b[0m\n\u001b[0;32m     27\u001b[0m     \u001b[1;31m# Get website name\u001b[0m\u001b[1;33m\u001b[0m\u001b[1;33m\u001b[0m\u001b[1;33m\u001b[0m\u001b[0m\n\u001b[1;32m---> 28\u001b[1;33m     \u001b[0mvenue_info\u001b[0m \u001b[1;33m=\u001b[0m \u001b[0mrequests\u001b[0m\u001b[1;33m.\u001b[0m\u001b[0mget\u001b[0m\u001b[1;33m(\u001b[0m\u001b[0murl\u001b[0m\u001b[1;33m=\u001b[0m\u001b[0mid_url\u001b[0m\u001b[1;33m)\u001b[0m\u001b[1;33m.\u001b[0m\u001b[0mjson\u001b[0m\u001b[1;33m(\u001b[0m\u001b[1;33m)\u001b[0m\u001b[1;33m[\u001b[0m\u001b[1;34m'response'\u001b[0m\u001b[1;33m]\u001b[0m\u001b[1;33m[\u001b[0m\u001b[1;34m'venue'\u001b[0m\u001b[1;33m]\u001b[0m\u001b[1;33m\u001b[0m\u001b[1;33m\u001b[0m\u001b[0m\n\u001b[0m\u001b[0;32m     29\u001b[0m \u001b[1;33m\u001b[0m\u001b[0m\n\u001b[0;32m     30\u001b[0m     \u001b[1;31m# Check if there is a website, if not, get delivery - or return nothing\u001b[0m\u001b[1;33m\u001b[0m\u001b[1;33m\u001b[0m\u001b[1;33m\u001b[0m\u001b[0m\n",
      "\u001b[1;31mKeyError\u001b[0m: 'venue'"
     ]
    }
   ],
   "source": [
    "# loop over restaurants\n",
    "for ii in r2_list:\n",
    "    get_clt_restaurants(ii)"
   ]
  },
  {
   "cell_type": "code",
   "execution_count": 15,
   "metadata": {},
   "outputs": [
    {
     "data": {
      "text/plain": [
       "84"
      ]
     },
     "execution_count": 15,
     "metadata": {},
     "output_type": "execute_result"
    }
   ],
   "source": [
    "len(venue_list)"
   ]
  },
  {
   "cell_type": "code",
   "execution_count": 16,
   "metadata": {},
   "outputs": [],
   "source": [
    "# getting names\n",
    "names = []\n",
    "for r in venue_list:\n",
    "    names.append(r[0][0])"
   ]
  },
  {
   "cell_type": "code",
   "execution_count": 17,
   "metadata": {},
   "outputs": [],
   "source": [
    "# getting foursquare ID\n",
    "fid = []\n",
    "for r in venue_list:\n",
    "    fid.append(r[0][1])"
   ]
  },
  {
   "cell_type": "code",
   "execution_count": 18,
   "metadata": {},
   "outputs": [],
   "source": [
    "# getting formatted address\n",
    "address = []\n",
    "for r in venue_list:\n",
    "    address.append(r[0][2][0])"
   ]
  },
  {
   "cell_type": "code",
   "execution_count": 19,
   "metadata": {},
   "outputs": [],
   "source": [
    "# getting latitude\n",
    "lat = []\n",
    "for r in venue_list:\n",
    "    lat.append(r[0][3])"
   ]
  },
  {
   "cell_type": "code",
   "execution_count": 20,
   "metadata": {},
   "outputs": [],
   "source": [
    "# getting longitude\n",
    "lon = []\n",
    "for r in venue_list:\n",
    "    lon.append(r[0][4])"
   ]
  },
  {
   "cell_type": "code",
   "execution_count": 21,
   "metadata": {},
   "outputs": [],
   "source": [
    "# getting categories\n",
    "cat = []\n",
    "for r in venue_list:\n",
    "    cat.append(r[0][5])"
   ]
  },
  {
   "cell_type": "code",
   "execution_count": 22,
   "metadata": {},
   "outputs": [],
   "source": [
    "# getting website\n",
    "web = []\n",
    "for r in venue_list:\n",
    "    web.append(r[0][6])"
   ]
  },
  {
   "cell_type": "code",
   "execution_count": 25,
   "metadata": {},
   "outputs": [],
   "source": [
    "venues = pd.DataFrame({'Name':names, 'Foursquare_ID':fid, 'Address': address, 'Latitude': lat, 'Longitude':lon, 'Category':cat, 'Website':web})"
   ]
  },
  {
   "cell_type": "code",
   "execution_count": 205,
   "metadata": {},
   "outputs": [],
   "source": [
    "venues = venues.drop_duplicates()"
   ]
  },
  {
   "cell_type": "code",
   "execution_count": 26,
   "metadata": {},
   "outputs": [],
   "source": [
    "venues.to_excel(\"C:/Users/mattw/Desktop/Charlotte_Restaurants2.xlsx\")  "
   ]
  },
  {
   "cell_type": "code",
   "execution_count": 45,
   "metadata": {},
   "outputs": [
    {
     "data": {
      "text/plain": [
       "29"
      ]
     },
     "execution_count": 45,
     "metadata": {},
     "output_type": "execute_result"
    }
   ],
   "source": [
    "len(r2_list)"
   ]
  },
  {
   "cell_type": "code",
   "execution_count": 29,
   "metadata": {},
   "outputs": [
    {
     "data": {
      "text/html": [
       "<div>\n",
       "<style scoped>\n",
       "    .dataframe tbody tr th:only-of-type {\n",
       "        vertical-align: middle;\n",
       "    }\n",
       "\n",
       "    .dataframe tbody tr th {\n",
       "        vertical-align: top;\n",
       "    }\n",
       "\n",
       "    .dataframe thead th {\n",
       "        text-align: right;\n",
       "    }\n",
       "</style>\n",
       "<table border=\"1\" class=\"dataframe\">\n",
       "  <thead>\n",
       "    <tr style=\"text-align: right;\">\n",
       "      <th></th>\n",
       "      <th>Restaurant</th>\n",
       "      <th>FsID</th>\n",
       "      <th>Address</th>\n",
       "      <th>Type</th>\n",
       "    </tr>\n",
       "  </thead>\n",
       "  <tbody>\n",
       "  </tbody>\n",
       "</table>\n",
       "</div>"
      ],
      "text/plain": [
       "Empty DataFrame\n",
       "Columns: [Restaurant, FsID, Address, Type]\n",
       "Index: []"
      ]
     },
     "execution_count": 29,
     "metadata": {},
     "output_type": "execute_result"
    }
   ],
   "source": [
    "for jj in range(r2_list):\n",
    "    r = r2_list[jj]  "
   ]
  },
  {
   "cell_type": "code",
   "execution_count": 142,
   "metadata": {},
   "outputs": [],
   "source": [
    "#id_url = \"https://api.foursquare.com/v2/venues/4b05863ff964a520165a22e3\"\n",
    "\n",
    "# create the API request URL\n",
    "id_url = 'https://api.foursquare.com/v2/venues/{}?client_id={}&client_secret={}&v={}'.format(\n",
    "           '4b05863ef964a520025a22e3',\n",
    "           CLIENT_ID, \n",
    "           CLIENT_SECRET, \n",
    "           VERSION)"
   ]
  },
  {
   "cell_type": "code",
   "execution_count": 143,
   "metadata": {},
   "outputs": [],
   "source": [
    "id_resp = requests.get(url=id_url).json()"
   ]
  },
  {
   "cell_type": "code",
   "execution_count": 144,
   "metadata": {},
   "outputs": [],
   "source": [
    "if 'url' in id_resp['response']['venue']:\n",
    "        w = id_resp['response']['venue']['url']\n",
    "elif 'delivery' in id_resp['response']['venue']:\n",
    "        w = id_resp['response']['venue']['delivery']['url']\n",
    "else: w = 'no_url'"
   ]
  },
  {
   "cell_type": "code",
   "execution_count": 124,
   "metadata": {},
   "outputs": [],
   "source": [
    "resp = requests.get(url=url).json()[\"response\"]['groups'][0]['items']"
   ]
  },
  {
   "cell_type": "code",
   "execution_count": 89,
   "metadata": {},
   "outputs": [
    {
     "data": {
      "text/plain": [
       "[{'reasons': {'count': 0,\n",
       "   'items': [{'summary': 'This spot is popular',\n",
       "     'type': 'general',\n",
       "     'reasonName': 'globalInteractionReason'}]},\n",
       "  'venue': {'id': '4b05863ff964a520165a22e3',\n",
       "   'name': 'Fenwicks Restaurant',\n",
       "   'contact': {},\n",
       "   'location': {'address': '511 Providence Rd',\n",
       "    'lat': 35.20314967930705,\n",
       "    'lng': -80.82449160336581,\n",
       "    'labeledLatLngs': [{'label': 'display',\n",
       "      'lat': 35.20314967930705,\n",
       "      'lng': -80.82449160336581}],\n",
       "    'postalCode': '28207',\n",
       "    'cc': 'US',\n",
       "    'city': 'Charlotte',\n",
       "    'state': 'NC',\n",
       "    'country': 'United States',\n",
       "    'formattedAddress': ['511 Providence Rd',\n",
       "     'Charlotte, NC 28207',\n",
       "     'United States']},\n",
       "   'categories': [{'id': '4bf58dd8d48988d14e941735',\n",
       "     'name': 'American Restaurant',\n",
       "     'pluralName': 'American Restaurants',\n",
       "     'shortName': 'American',\n",
       "     'icon': {'prefix': 'https://ss3.4sqi.net/img/categories_v2/food/default_',\n",
       "      'suffix': '.png'},\n",
       "     'primary': True}],\n",
       "   'verified': False,\n",
       "   'stats': {'tipCount': 0,\n",
       "    'usersCount': 0,\n",
       "    'checkinsCount': 0,\n",
       "    'visitsCount': 0},\n",
       "   'beenHere': {'count': 0,\n",
       "    'lastCheckinExpiredAt': 0,\n",
       "    'marked': False,\n",
       "    'unconfirmedCount': 0},\n",
       "   'photos': {'count': 0, 'groups': []},\n",
       "   'hereNow': {'count': 0, 'summary': 'Nobody here', 'groups': []}},\n",
       "  'referralId': 'e-0-4b05863ff964a520165a22e3-0'},\n",
       " {'reasons': {'count': 0,\n",
       "   'items': [{'summary': 'This spot is popular',\n",
       "     'type': 'general',\n",
       "     'reasonName': 'globalInteractionReason'}]},\n",
       "  'venue': {'id': '4fee3fb5e4b085aeb2c53a94',\n",
       "   'name': 'Fenwicks',\n",
       "   'contact': {},\n",
       "   'location': {'lat': 35.19950153716051,\n",
       "    'lng': -80.82574125406394,\n",
       "    'labeledLatLngs': [{'label': 'display',\n",
       "      'lat': 35.19950153716051,\n",
       "      'lng': -80.82574125406394}],\n",
       "    'postalCode': '28207',\n",
       "    'cc': 'US',\n",
       "    'city': 'Charlotte',\n",
       "    'state': 'NC',\n",
       "    'country': 'United States',\n",
       "    'formattedAddress': ['Charlotte, NC 28207', 'United States']},\n",
       "   'categories': [{'id': '4bf58dd8d48988d17a941735',\n",
       "     'name': 'Cajun / Creole Restaurant',\n",
       "     'pluralName': 'Cajun / Creole Restaurants',\n",
       "     'shortName': 'Cajun / Creole',\n",
       "     'icon': {'prefix': 'https://ss3.4sqi.net/img/categories_v2/food/cajun_',\n",
       "      'suffix': '.png'},\n",
       "     'primary': True}],\n",
       "   'verified': False,\n",
       "   'stats': {'tipCount': 0,\n",
       "    'usersCount': 0,\n",
       "    'checkinsCount': 0,\n",
       "    'visitsCount': 0},\n",
       "   'beenHere': {'count': 0,\n",
       "    'lastCheckinExpiredAt': 0,\n",
       "    'marked': False,\n",
       "    'unconfirmedCount': 0},\n",
       "   'photos': {'count': 0, 'groups': []},\n",
       "   'hereNow': {'count': 0, 'summary': 'Nobody here', 'groups': []}},\n",
       "  'referralId': 'e-0-4fee3fb5e4b085aeb2c53a94-1'}]"
      ]
     },
     "execution_count": 89,
     "metadata": {},
     "output_type": "execute_result"
    }
   ],
   "source": [
    "resp"
   ]
  },
  {
   "cell_type": "code",
   "execution_count": 64,
   "metadata": {},
   "outputs": [
    {
     "data": {
      "text/plain": [
       "'American'"
      ]
     },
     "execution_count": 64,
     "metadata": {},
     "output_type": "execute_result"
    }
   ],
   "source": [
    "resp['name']\n",
    "resp['location']\n",
    "resp['categories'][0]['shortName']"
   ]
  },
  {
   "cell_type": "code",
   "execution_count": 74,
   "metadata": {},
   "outputs": [],
   "source": [
    "venue_list = []"
   ]
  },
  {
   "cell_type": "markdown",
   "metadata": {},
   "source": [
    "## Part 2: Locations"
   ]
  },
  {
   "cell_type": "markdown",
   "metadata": {},
   "source": [
    "## Part 3: Mapping"
   ]
  },
  {
   "cell_type": "code",
   "execution_count": 243,
   "metadata": {},
   "outputs": [],
   "source": [
    "import folium\n",
    "from geopy.geocoders import Nominatim"
   ]
  },
  {
   "cell_type": "markdown",
   "metadata": {},
   "source": [
    "### Subsetting to just the Toronto Boroughs"
   ]
  },
  {
   "cell_type": "code",
   "execution_count": 244,
   "metadata": {},
   "outputs": [],
   "source": [
    "# Subsetting to just the Toronto Boroughs\n",
    "df4 = df3[df3['Borough'].str.contains(\"Toronto\")].drop(70)"
   ]
  },
  {
   "cell_type": "markdown",
   "metadata": {},
   "source": [
    "# CLT Agenda List"
   ]
  },
  {
   "cell_type": "code",
   "execution_count": 1,
   "metadata": {},
   "outputs": [],
   "source": [
    "cltagn = \"https://www.charlotteagenda.com/199599/charlotte-restaurants-that-are-offering-curbside-pickup-delivery-and-discounts/\""
   ]
  },
  {
   "cell_type": "code",
   "execution_count": 6,
   "metadata": {},
   "outputs": [],
   "source": [
    "# Parsing page from requests\n",
    "clt_page = requests.get(cltagn)\n",
    "clt_text = BeautifulSoup(clt_page.text)"
   ]
  },
  {
   "cell_type": "code",
   "execution_count": 17,
   "metadata": {},
   "outputs": [],
   "source": [
    "ag_list = clt_text.findAll('h2')"
   ]
  },
  {
   "cell_type": "code",
   "execution_count": 28,
   "metadata": {},
   "outputs": [
    {
     "data": {
      "text/plain": [
       "196"
      ]
     },
     "execution_count": 28,
     "metadata": {},
     "output_type": "execute_result"
    }
   ],
   "source": [
    "len(ag_list)"
   ]
  },
  {
   "cell_type": "code",
   "execution_count": 23,
   "metadata": {},
   "outputs": [
    {
     "name": "stdout",
     "output_type": "stream",
     "text": [
      "The restaurant name is Ace No. 3 and the website is https://www.aceno3.com\n",
      "The restaurant name is Alexander Michael’s and the website is https://almikestavern.com\n",
      "The restaurant name is Aliño Pizzeria and The Barcelona Burger and Beer Garden and the website is https://barcelonaburger.com\n",
      "The restaurant name is All-American Pub and the website is https://www.allamericanpubclt.com\n",
      "The restaurant name is Amelie’s French Cafe &amp; Bakery and the website is https://ameliesfrenchbakery.com\n",
      "The restaurant name is Anderson’s Catering and the website is https://andersonsdelivery.com\n",
      "The restaurant name is Angeline’s and the website is https://www.angelinescharlotte.co\n",
      "The restaurant name is Anntony’s Caribbean Cafe and the website is https://www.anntonys.com\n",
      "The restaurant name is Aria Tuscan Grill and the website is https://www.ariacharlotte.com\n",
      "The restaurant name is The Asbury and the website is https://theasbury.com\n",
      "The restaurant name is Bad Daddy’s and the website is https://www.baddaddysburgerbar.com\n",
      "The restaurant name is Bahn Mi &amp; Tea Company and the website is https://banhmiandteacompany.com\n",
      "The restaurant name is Bahn Thai and the website is http://www.bahnthaicharlotte.com\n",
      "The restaurant name is Bardo and the website is https://www.bardorestaurant.com\n",
      "The restaurant name is Bar Marcel and the website is https://www.barmarcelcharlotte.com\n",
      "The restaurant name is Barrington’s and the website is http://www.barringtonsrestaurant.com\n",
      "The restaurant name is Barrister’s and the website is https://barristersgastonia.com\n",
      "The restaurant name is Bedder Bedder &amp; More and the website is https://bb-m.com\n",
      "The restaurant name is Be-Em Asian Kitchen and the website is https://www.be-em.com\n",
      "The restaurant name is Blaze Pizza and the website is https://www.blazepizza.com\n",
      "The restaurant name is Blue Blaze Brewing and the website is http://www.blueblazebrewing.com/login-scree\n",
      "The restaurant name is Boardwalk Billy’s and the website is https://boardwalkbillys.com\n",
      "The restaurant name is Bojangles and the website is https://www.bojangles.com\n",
      "The restaurant name is Bonzai Thai &amp; Japanese Cuisine and the website is https://www.bonzaithaicuisine.com\n",
      "The restaurant name is Bossy Beulah’s and the website is https://bossybeulahs.com\n",
      "The restaurant name is The Bottle Tree and the website is https://www.facebook.com/thebottletreenc/?ref=br_r\n",
      "The restaurant name is Brewers at 4001 Yancey and the website is https://visit.brewersat4001yancey.com/brewers-at-4001-yancey-7bb680a34d3\n",
      "The restaurant name is Brixx and the website is https://brixxpizza.com\n",
      "The restaurant name is Brown Bag and the website is https://brownbagnow.com/charlotte\n",
      "The restaurant name is Bulla Gastropub and the website is https://bullagastrobar.com\n",
      "The restaurant name is Burton’s and the website is https://burtonsgrill.com/location/charlotte-nc\n",
      "The restaurant name is Capishe and the website is https://www.capishepizza.com\n",
      "The restaurant name is Caswell Station and the website is https://caswellstation.com\n",
      "The restaurant name is CAVA and the website is https://cava.com\n",
      "The restaurant name is Charlotte Beer Garden and the website is https://charlottebeergarden.com\n",
      "The restaurant name is Chatpatay and the website is https://www.chatpatay.com\n",
      "The restaurant name is Chef Alyssa’s Kitchen and the website is https://chefalyssaskitchen.com\n",
      "The restaurant name is Chex Grill &amp; Wings and the website is http://chexgrill.com\n",
      "The restaurant name is Chicken Salad Chick and the website is https://order.snoozeeatery.com/?_ga=2.111201543.268190200.1584710541-1346362506.158471054\n",
      "The restaurant name is Chopt and the website is https://www.choptsalad.com/?gclid=Cj0KCQjwjcfzBRCHARIsAO-1_OrmX9ARl64PZrBVXLpXgWzLvS7EqtTDDGnreqAY8vvxQGx2uvWl-6YaArZ-EALw_wc\n",
      "The restaurant name is Civetta and the website is https://www.civettacharlotte.com\n",
      "The restaurant name is Coco &amp; The Director and the website is http://cocoandthedirector.com\n",
      "The restaurant name is Common Market and the website is http://commonmarketisgood.com\n",
      "The restaurant name is Community Matters Cafe and the website is https://communitymatterscafe.com\n",
      "The restaurant name is Copain and the website is https://copaingatherings.com\n",
      "The restaurant name is Cowbell Burger &amp; Whiskey Bar and the website is https://eatmorecowbell.com\n",
      "The restaurant name is The Cowfish and the website is https://www.thecowfish.com\n",
      "The restaurant name is Craft Growler Shop and the website is https://craftgrowlershop.com\n",
      "The restaurant name is Crepe Cellar/Growler’s Pourhouse/Reigning Donuts and the website is http://growlerspourhouse.com\n",
      "The restaurant name is Crispy Bahn Mi and the website is https://www.yelp.com/biz/crispy-banh-mi-charlotte-\n",
      "The restaurant name is DB’s Tavern and the website is http://www.dbstavern.com\n",
      "The restaurant name is Deejai Thai and the website is http://www.deejaithai.com\n",
      "The restaurant name is Del Frisco’s Double Eagle Steakhouse and the website is https://delfriscos.com\n",
      "The restaurant name is Diamond and the website is http://diamondcharlotte.com\n",
      "The restaurant name is Dilworth Neighborhood Grille and the website is http://www.dilworthgrille.com/men\n",
      "The restaurant name is Dilworth Tasting Room and the website is https://www.dilworthtr.com\n",
      "The restaurant name is Dish and the website is https://www.eatatdish.com\n",
      "The restaurant name is Duckworth’s and the website is http://duckworths.com\n",
      "The restaurant name is The Dunavant and the website is https://www.instagram.com/thedunavant\n",
      "The restaurant name is Dunkin’ Donuts and the website is https://www.dunkindonuts.com/e\n",
      "The restaurant name is Earl’s Grocery and the website is http://www.earlsgrocery.com\n",
      "The restaurant name is eeZ Fusion &amp; Sushi  and the website is http://www.eezfusion.com\n",
      "The restaurant name is Eight and Sand Kitchen and the website is https://eightandsandkitchen.com\n",
      "The restaurant name is Emmet’s Social Table and the website is https://emmetsnc.com\n",
      "The restaurant name is Famous Toastery and the website is https://famoustoastery.com\n",
      "The restaurant name is Firebird’s  and the website is https://firebirdsrestaurants.com\n",
      "The restaurant name is Flour Shop and the website is http://www.flourshopfood.com\n",
      "The restaurant name is Flower Child and the website is https://www.iamaflowerchild.com\n",
      "The restaurant name is Foxcroft Wine Co. and the website is https://www.foxcroftwine.com\n",
      "The restaurant name is Fran’s Filling Station and the website is https://fransfillingstation.com/updates-to-our-schedule-and-menu\n",
      "The restaurant name is Free Range Brewing and the website is http://www.freerangebrewing.com\n",
      "The restaurant name is Futo Buta and the website is https://www.instagram.com/p/B92aP45pBPP\n",
      "The restaurant name is Get Fit Foods and the website is https://getfitfoods.com\n",
      "The restaurant name is Good Food on Montford and the website is http://www.goodfoodonmontford.com\n",
      "The restaurant name is The Goodyear House and the website is https://thegoodyearhouse.com\n",
      "The restaurant name is Greco Fresh Grille and the website is https://www.grecofreshgrille.com\n",
      "The restaurant name is Green Brothers Juice Company and the website is https://www.greenbrothersjuice.com\n",
      "The restaurant name is Haberdish and the website is http://haberdish.com\n",
      "The restaurant name is Harper’s and the website is https://harpersrestaurants.com/locations/harpers-charlotte\n",
      "The restaurant name is Harry’s Grille and Tavern and the website is https://www.harrysgrilleandtavern.com\n",
      "The restaurant name is Hasaki Grill and the website is https://www.hasakigrill.com\n",
      "The restaurant name is Hawkers and the website is https://eathawkers.com\n",
      "The restaurant name is Hawthorne’s New York Pizza &amp; Bar and the website is https://hawthornespizza.com\n",
      "The restaurant name is Hello, Sailor and the website is https://hellosailornc.com\n",
      "The restaurant name is Heist Brewery and the website is https://www.heistbrewery.com\n",
      "The restaurant name is The Hobbyist and the website is https://www.thehobbyistclt.com\n",
      "The restaurant name is Hot Taco and the website is https://www.hottaco.com\n",
      "The restaurant name is Indaco and the website is https://indacocharlotte.com\n",
      "The restaurant name is Inizio Pizza and the website is https://www.iniziopizza.com/?fbclid=IwAR3GH0W_X4Tzn2R7eJCXAbrnkpxgdCuUwiHBBxClQ3N8QkMXEjzGIMZ5rF\n",
      "The restaurant name is Jason’s Deli and the website is https://www.jasonsdeli.com\n",
      "The restaurant name is  Jekyll &amp; Hyde Taphouse and the website is https://www.hydestaphouse.com\n",
      "The restaurant name is The Jelly Roger and the website is https://www.thejellyroger.com\n",
      "The restaurant name is Jeni’s Splendid Ice Creams and the website is https://jenis.olo.com\n",
      "The restaurant name is JJ’s Red Hots and the website is https://jjsredhots.com\n",
      "The restaurant name is Johnny Burrito and the website is https://www.facebook.com/pages/Johnny-Burrito/12270740445220\n",
      "The restaurant name is Kindred and the website is https://kindreddavidson.com\n",
      "The restaurant name is Leah &amp; Louise and the website is https://www.toasttab.com/leah-louise/v\n",
      "The restaurant name is Legion and the website is https://www.legionbrewing.com\n",
      "The restaurant name is Le Kebab Grill  and the website is https://www.lekebabgrill.com/men\n",
      "The restaurant name is Le Peep and the website is https://lepeep.com\n",
      "The restaurant name is Letty’s on Shamrock and the website is http://www.lettysonshamrock.com\n",
      "The restaurant name is Leroy Fox and the website is https://www.instagram.com/p/B91nipRp4xU\n",
      "The restaurant name is Lincoln Street Kitchen &amp; Cocktails and the website is http://lincolnstreetkitchen.com/?fbclid=IwAR0KfCQLK-EKP_mSlkqSLRrr5qUfcMhp_q9wTiF6N3iblVHBpc1bINp-xu\n",
      "The restaurant name is Lincoln’s Haberdashery and the website is https://www.lincolnshaberdashery.com\n",
      "The restaurant name is Little Village Grill and the website is https://www.facebook.com/littlevillagegrill\n",
      "The restaurant name is Living Kitchen and the website is https://livingkitchen.com\n",
      "The restaurant name is Luciano’s and the website is https://lucianositaly.com/charlotte\n",
      "The restaurant name is Lucky Lou’s and the website is https://luckyloustavern.com\n",
      "The restaurant name is Luisa’s Brick Oven Pizzeria and the website is https://luisasbrickovenpizza.com\n",
      "The restaurant name is Lulu’s and the website is https://www.facebook.com/eatfishhere\n",
      "The restaurant name is Lupie’s Cafe and the website is https://www.lupiescafe.net\n",
      "The restaurant name is Mac’s Speed Shop and the website is https://macspeedshop.com\n",
      "The restaurant name is Mama Ricotta’s and the website is https://www.mamaricottas.com\n",
      "The restaurant name is McKoy’s and the website is https://www.mckoys.net\n",
      "The restaurant name is McNinch House and the website is https://mcninchhouserestaurant.com/about-us/gift-certificates\n",
      "The restaurant name is Mezzanotte Pizzeria and the website is https://conterestaurantgroup.com/mezzanotte\n",
      "The restaurant name is Middle James Brewing and the website is https://www.facebook.com/pages/category/Brewery/Middle-James-Brewing-Company-115275805773679\n",
      "The restaurant name is Midnight Diner and the website is http://www.midnightdinercharlotte.com\n",
      "The restaurant name is Midwood Smokehouse and the website is https://midwoodsmokehouse.com\n",
      "The restaurant name is MingFu and the website is http://mingfu.squarespace.com/men\n",
      "The restaurant name is href=\"https://www.monterreyuncc.com/\">Monterrey  and the website is https://www.monterreyuncc.com/\">Monterrey </a></h\n",
      "The restaurant name is Moo &amp; Brew and the website is http://mooandbrewplazamidwood.com\n",
      "The restaurant name is Morton’s and the website is https://www.mortons.com\n",
      "The restaurant name is Mr. Charles Chicken &amp; Fish and the website is http://www.mrcharleschickenandfish.com\n",
      "The restaurant name is Nakato and the website is https://nakato.com\n",
      "The restaurant name is Nellie’s Southern Kitchen and the website is https://www.nelliessouthernkitchen.com\n",
      "The restaurant name is NC Red and the website is http://www.ncredclt.com\n",
      "The restaurant name is Noble Smoke and the website is https://noblesmokebarbecue.com\n",
      "The restaurant name is NoDa Bodega and the website is https://www.facebook.com/NodaBodega\n",
      "The restaurant name is NoDa Brewing Company and the website is https://nodabrewing.com\n",
      "The restaurant name is North Italia and the website is https://www.northitalia.com/locations/charlotte-nc\n",
      "The restaurant name is Oakhurst Grill and the website is http://oakhurstgrill.com\n",
      "The restaurant name is O-Ku and the website is http://o-kusushi.com\n",
      "The restaurant name is OMB and the website is https://www.oldemeckbrew.com\n",
      "The restaurant name is Optimist Hall and the website is https://optimisthall.com\n",
      "The restaurant name is Pasta &amp; Provisions and the website is https://www.pastaprovisions.com\n",
      "The restaurant name is Persuasian Restaurant and the website is https://persuasianrestaurant.com\n",
      "The restaurant name is Phil’s Deli and the website is https://www.facebook.com/PhilsDeliCharlotte\n",
      "The restaurant name is Pilot Brewing and the website is https://www.pilotbrewing.us\n",
      "The restaurant name is Pisces Sushi and the website is https://www.piscessushi.com\n",
      "The restaurant name is Pizzeria Omaggio and the website is https://www.pizzeriaomaggio.com\n",
      "The restaurant name is Poplar and the website is https://www.poplarcharlotte.com\n",
      "The restaurant name is Portofino’s and the website is https://portofinos-us.com\n",
      "The restaurant name is Protagonist and the website is https://protagonistbeer.com\n",
      "The restaurant name is Pure Pizza and the website is http://purepizzaclt.com\n",
      "The restaurant name is QC Catering and the website is https://www.qccatering.com\n",
      "The restaurant name is Queen City Grounds and the website is https://queencitygrounds.com\n",
      "The restaurant name is Rai Lay Thai and the website is https://www.railaythai.com\n",
      "The restaurant name is Rare Roots and the website is http://rarerootshospitality.com\n",
      "The restaurant name is Reid’s Fine Foods and the website is https://www.reids.com\n",
      "The restaurant name is Resident Culture and the website is https://residentculturebrewing.com\n",
      "The restaurant name is Rhino Market and the website is https://www.rhinomarket.com\n",
      "The restaurant name is Riccio’s Italian Restaurant and the website is https://www.ricciospizzavilla.com\n",
      "The restaurant name is The Roasting Company and the website is https://roastingco.com\n",
      "The restaurant name is Rooster’s and the website is https://roosterskitchen.com\n",
      "The restaurant name is Rosie’s Wine Garden and the website is https://www.rosieswinegarden.com\n",
      "The restaurant name is RuRu’s Tacos &amp; Tequila and the website is https://www.rurustacosandtequila.com\n",
      "The restaurant name is Ruth’s Chris and the website is https://www.ruthschris.com/reservation/?gclid=CjwKCAjwsMzzBRACEiwAx4lLG7HBaaad4lM4XTMfKCX8sa11nxeKTUmhicUAGTL0drMu8u4eivU6MxoCG1EQAvD_Bw\n",
      "The restaurant name is Sabor Latin Street Grill and the website is https://saborcharlotte.com\n",
      "The restaurant name is Sake Express and the website is https://thesakeexpress.com\n",
      "The restaurant name is Sanctuary Bistro and the website is https://www.sanctuarybistro.com\n",
      "The restaurant name is Selwyn Avenue Pub and the website is https://www.facebook.com/pages/Selwyn-Avenue-Pub/11801978489148\n",
      "The restaurant name is Showmars and the website is https://showmars.com\n",
      "The restaurant name is Sir Edmond Halley’s and the website is http://www.siredspub.com\n",
      "The restaurant name is Seoul Poke Bowl and the website is http://seoulpokebowl.com\n",
      "The restaurant name is Snooze Eatery and the website is https://www.snoozeeatery.com\n",
      "The restaurant name is Soho Bistro and the website is https://www.uptown2go.com/sohobistro/default.asp\n",
      "The restaurant name is Soul Gastrolounge and the website is https://www.soulgastrolounge.com/#mast-men\n",
      "The restaurant name is Stagioni and the website is https://www.stagioniclt.com\n",
      "The restaurant name is Stoke and the website is http://www.stokecharlotte.com\n",
      "The restaurant name is Suffolk Punch and the website is https://thesuffolkpunch.com\n",
      "The restaurant name is Superica and the website is http://www.superica.com\n",
      "The restaurant name is Tacos 4 Life and the website is https://tacos4life.com\n",
      "The restaurant name is Thai House Restaurant and the website is https://thaihouse.us.com/Hom\n",
      "The restaurant name is The Wine Loft and the website is https://www.wineloftcharlotte.com\n",
      "The restaurant name is Three Amigos and the website is http://www.threeamigoscharlotte.com\n",
      "The restaurant name is Tiff’s Treats and the website is https://www.cookiedelivery.com\n",
      "The restaurant name is Tipsy Burro and the website is https://www.facebook.com/Tipsyburro\n",
      "The restaurant name is Town Brewing and the website is http://townbrewing.com\n",
      "The restaurant name is Tupelo Honey and the website is https://tupelohoneycafe.com\n",
      "The restaurant name is Twenty Degrees Chocolates and the website is http://www.20degreeschocolates.info\n",
      "The restaurant name is Two Scoops Creamery and the website is https://www.twoscoopscreamery.com\n",
      "The restaurant name is Upstream Restaurant and the website is https://upstreamseafood.com\n",
      "The restaurant name is Veltree and the website is https://www.facebook.com/veltreevegan\n",
      "The restaurant name is Viva Chicken and the website is https://vivachicken.com\n",
      "The restaurant name is Whiskey Warehouse and the website is https://www.whiskeywarehouse.com\n",
      "The restaurant name is Wild Wing Cafe and the website is http://www.wildwingcafe.com\n",
      "The restaurant name is The Wine Loft and the website is https://www.wineloftcharlotte.com\n",
      "The restaurant name is Wooden Robot Brewery and the website is https://woodenrobotbrewery.com\n",
      "The restaurant name is Yafo Kitchen and the website is https://yafokitchen.com\n",
      "The restaurant name is Yamazaru Sushi &amp; Sake and the website is http://www.yamazarusushisake.com\n",
      "The restaurant name is Your Mom’s Donuts and the website is http://www.yourmomsdonutsnc.com\n",
      "The restaurant name is Zen Asian Fusion and the website is https://www.zenasianfusion.com\n",
      "The restaurant name is Zia Pia imports + Italian Kitchen and the website is https://ziapia.com\n",
      "The restaurant name is 300 East and the website is https://www.300east.net\n"
     ]
    }
   ],
   "source": [
    "websites = []\n",
    "name = []\n",
    "\n",
    "for z in range(1,len(ag_list)):\n",
    "    \n",
    "    # Getting websites\n",
    "    web_start = str(ag_list[z]).find('<a href=\"') + 9\n",
    "    web_end = str(ag_list[z]).find('\" rel')\n",
    "    web_name = str(ag_list[z])[web_start:(web_end-1)]\n",
    "    websites.append(web_name)\n",
    "    \n",
    "    # Getting Name\n",
    "    name_start = str(ag_list[z]).find('_blank\">') + 8\n",
    "    name_end = str(ag_list[z]).find('</a>')\n",
    "    name_restaurant = str(ag_list[z])[name_start:(name_end)]\n",
    "    name.append(name_restaurant)\n",
    "    \n",
    "    print(\"The restaurant name is {} and the website is {}\".format(name_restaurant, web_name))"
   ]
  },
  {
   "cell_type": "code",
   "execution_count": 48,
   "metadata": {},
   "outputs": [],
   "source": [
    "clt_agenda = pd.DataFrame({\"Name\" : name, \"Website\": websites})"
   ]
  },
  {
   "cell_type": "code",
   "execution_count": 49,
   "metadata": {},
   "outputs": [
    {
     "data": {
      "text/html": [
       "<div>\n",
       "<style scoped>\n",
       "    .dataframe tbody tr th:only-of-type {\n",
       "        vertical-align: middle;\n",
       "    }\n",
       "\n",
       "    .dataframe tbody tr th {\n",
       "        vertical-align: top;\n",
       "    }\n",
       "\n",
       "    .dataframe thead th {\n",
       "        text-align: right;\n",
       "    }\n",
       "</style>\n",
       "<table border=\"1\" class=\"dataframe\">\n",
       "  <thead>\n",
       "    <tr style=\"text-align: right;\">\n",
       "      <th></th>\n",
       "      <th>Name</th>\n",
       "      <th>Website</th>\n",
       "    </tr>\n",
       "  </thead>\n",
       "  <tbody>\n",
       "    <tr>\n",
       "      <th>0</th>\n",
       "      <td>Ace No. 3</td>\n",
       "      <td>https://www.aceno3.com</td>\n",
       "    </tr>\n",
       "    <tr>\n",
       "      <th>1</th>\n",
       "      <td>Alexander Michael’s</td>\n",
       "      <td>https://almikestavern.com</td>\n",
       "    </tr>\n",
       "    <tr>\n",
       "      <th>2</th>\n",
       "      <td>Aliño Pizzeria and The Barcelona Burger and Be...</td>\n",
       "      <td>https://barcelonaburger.com</td>\n",
       "    </tr>\n",
       "    <tr>\n",
       "      <th>3</th>\n",
       "      <td>All-American Pub</td>\n",
       "      <td>https://www.allamericanpubclt.com</td>\n",
       "    </tr>\n",
       "    <tr>\n",
       "      <th>4</th>\n",
       "      <td>Amelie’s French Cafe &amp;amp; Bakery</td>\n",
       "      <td>https://ameliesfrenchbakery.com</td>\n",
       "    </tr>\n",
       "    <tr>\n",
       "      <th>...</th>\n",
       "      <td>...</td>\n",
       "      <td>...</td>\n",
       "    </tr>\n",
       "    <tr>\n",
       "      <th>190</th>\n",
       "      <td>Yamazaru Sushi &amp;amp; Sake</td>\n",
       "      <td>http://www.yamazarusushisake.com</td>\n",
       "    </tr>\n",
       "    <tr>\n",
       "      <th>191</th>\n",
       "      <td>Your Mom’s Donuts</td>\n",
       "      <td>http://www.yourmomsdonutsnc.com</td>\n",
       "    </tr>\n",
       "    <tr>\n",
       "      <th>192</th>\n",
       "      <td>Zen Asian Fusion</td>\n",
       "      <td>https://www.zenasianfusion.com</td>\n",
       "    </tr>\n",
       "    <tr>\n",
       "      <th>193</th>\n",
       "      <td>Zia Pia imports + Italian Kitchen</td>\n",
       "      <td>https://ziapia.com</td>\n",
       "    </tr>\n",
       "    <tr>\n",
       "      <th>194</th>\n",
       "      <td>300 East</td>\n",
       "      <td>https://www.300east.net</td>\n",
       "    </tr>\n",
       "  </tbody>\n",
       "</table>\n",
       "<p>195 rows × 2 columns</p>\n",
       "</div>"
      ],
      "text/plain": [
       "                                                  Name  \\\n",
       "0                                            Ace No. 3   \n",
       "1                                  Alexander Michael’s   \n",
       "2    Aliño Pizzeria and The Barcelona Burger and Be...   \n",
       "3                                     All-American Pub   \n",
       "4                    Amelie’s French Cafe &amp; Bakery   \n",
       "..                                                 ...   \n",
       "190                          Yamazaru Sushi &amp; Sake   \n",
       "191                                  Your Mom’s Donuts   \n",
       "192                                   Zen Asian Fusion   \n",
       "193                  Zia Pia imports + Italian Kitchen   \n",
       "194                                           300 East   \n",
       "\n",
       "                               Website  \n",
       "0               https://www.aceno3.com  \n",
       "1            https://almikestavern.com  \n",
       "2          https://barcelonaburger.com  \n",
       "3    https://www.allamericanpubclt.com  \n",
       "4      https://ameliesfrenchbakery.com  \n",
       "..                                 ...  \n",
       "190   http://www.yamazarusushisake.com  \n",
       "191    http://www.yourmomsdonutsnc.com  \n",
       "192     https://www.zenasianfusion.com  \n",
       "193                 https://ziapia.com  \n",
       "194            https://www.300east.net  \n",
       "\n",
       "[195 rows x 2 columns]"
      ]
     },
     "execution_count": 49,
     "metadata": {},
     "output_type": "execute_result"
    }
   ],
   "source": [
    "clt_agenda"
   ]
  },
  {
   "cell_type": "code",
   "execution_count": 25,
   "metadata": {},
   "outputs": [],
   "source": [
    "ag_list_par = clt_text.findAll('p')"
   ]
  },
  {
   "cell_type": "code",
   "execution_count": 80,
   "metadata": {},
   "outputs": [],
   "source": [
    "para = []\n",
    "\n",
    "for z in range(1,len(ag_list_par)):\n",
    "    \n",
    "    # Getting websites\n",
    "    start = str(ag_list_par[z]).find('<p><em>') + 4\n",
    "    end = str(ag_list_par[z]).find('</p>')\n",
    "    para_name = str(ag_list_par[z])[start:(end-1)]\n",
    "    para.append(para_name)\n",
    "    \n",
    "    #print(\"Paragraph {}: {}\".format(z, para_name))"
   ]
  },
  {
   "cell_type": "code",
   "execution_count": 64,
   "metadata": {},
   "outputs": [],
   "source": [
    "# Legion has three paragraphs, so need to concatenate\n",
    "para[98] = para[98] + \". \" + para[99] + \". \" + para[100]"
   ]
  },
  {
   "cell_type": "code",
   "execution_count": 85,
   "metadata": {},
   "outputs": [
    {
     "data": {
      "text/plain": [
       "'Offering take-out and delivery on DoorDash. The brewery is doing a drive-thru in the North Tryon parking lot from 4-7:30 p.m. Monday-Thursday. An update on weekend hours will be coming shortly. To place a take-out order at North Italia’s Charlotte location, call 980-279-8900. Adjusted hours are Monday through Friday 11 a.m. to 9 p.m., Saturday 12 p.m. to 10 p.m., and Sunday 12 p.m. to 9 p.m. To place a take-out order at North Italia’s Charlotte location, call 980-279-8900. Adjusted hours are Monday through Friday 11 a.m. to 9 p.m., Saturday 12 p.m. to 10 p.m., and Sunday 12 p.m. to 9 p.m'"
      ]
     },
     "execution_count": 85,
     "metadata": {},
     "output_type": "execute_result"
    }
   ],
   "source": [
    "# North Italia\n",
    "para[133] = para[133] + \". \" + para[134]"
   ]
  },
  {
   "cell_type": "code",
   "execution_count": 91,
   "metadata": {},
   "outputs": [],
   "source": [
    "# OMB\n",
    "para[137] = para[137] + \". \" + para[138] + \". \" + para[139]"
   ]
  },
  {
   "cell_type": "code",
   "execution_count": 103,
   "metadata": {},
   "outputs": [],
   "source": [
    "# Portfolinos\n",
    "para[148] = para[148] + \". \" + para[149] + \". \" + para[150] + \". \" + para[151] + \". \" + para[152]"
   ]
  },
  {
   "cell_type": "code",
   "execution_count": 110,
   "metadata": {},
   "outputs": [],
   "source": [
    "# Queen City Grounds\n",
    "para[156] = para[156] + \". \" + para[157]"
   ]
  },
  {
   "cell_type": "code",
   "execution_count": 114,
   "metadata": {},
   "outputs": [],
   "source": [
    "# Deleting copied\n",
    "to_remove = [99,100,134,138,139,149,150,151,152,157]\n",
    "para2 = [v for i, v in enumerate(para) if i not in to_remove]"
   ]
  },
  {
   "cell_type": "code",
   "execution_count": 141,
   "metadata": {},
   "outputs": [],
   "source": [
    "clt_agenda['Information'] = para2[1:-2]"
   ]
  },
  {
   "cell_type": "code",
   "execution_count": 142,
   "metadata": {},
   "outputs": [],
   "source": [
    "clt_agenda['Information'].replace(regex=True,inplace=True,to_replace=\"<a href=\\\".{1,}\\\">\", value=\"\")\n",
    "clt_agenda['Information'].replace(regex=True,inplace=True,to_replace=\"</a[>|\\s/|.]\", value=\"\")\n",
    "clt_agenda['Information'].replace(regex=True,inplace=True,to_replace=\"</a$\", value=\"\")\n",
    "clt_agenda['Information'].replace(regex=True,inplace=True,to_replace=\"amp;\", value=\"\")\n",
    "clt_agenda['Name'].replace(regex=True,inplace=True,to_replace=\"amp;\", value=\"\")"
   ]
  },
  {
   "cell_type": "code",
   "execution_count": 144,
   "metadata": {},
   "outputs": [],
   "source": [
    "# Writing to excel\n",
    "clt_agenda.to_excel(\"C:/Users/mattw/Desktop/Charlotte_Restaurants3.xlsx\", index=False)  "
   ]
  },
  {
   "cell_type": "code",
   "execution_count": null,
   "metadata": {},
   "outputs": [],
   "source": []
  },
  {
   "cell_type": "code",
   "execution_count": null,
   "metadata": {},
   "outputs": [],
   "source": []
  },
  {
   "cell_type": "code",
   "execution_count": null,
   "metadata": {},
   "outputs": [],
   "source": []
  },
  {
   "cell_type": "code",
   "execution_count": 138,
   "metadata": {},
   "outputs": [],
   "source": []
  },
  {
   "cell_type": "markdown",
   "metadata": {},
   "source": [
    "### Doing K Means Clustering Now"
   ]
  },
  {
   "cell_type": "markdown",
   "metadata": {},
   "source": [
    "### Adding clustering labels onto the results from K-Means"
   ]
  },
  {
   "cell_type": "code",
   "execution_count": 255,
   "metadata": {},
   "outputs": [
    {
     "data": {
      "text/html": [
       "<div>\n",
       "<style scoped>\n",
       "    .dataframe tbody tr th:only-of-type {\n",
       "        vertical-align: middle;\n",
       "    }\n",
       "\n",
       "    .dataframe tbody tr th {\n",
       "        vertical-align: top;\n",
       "    }\n",
       "\n",
       "    .dataframe thead th {\n",
       "        text-align: right;\n",
       "    }\n",
       "</style>\n",
       "<table border=\"1\" class=\"dataframe\">\n",
       "  <thead>\n",
       "    <tr style=\"text-align: right;\">\n",
       "      <th></th>\n",
       "      <th>Postcode</th>\n",
       "      <th>Borough</th>\n",
       "      <th>Neighbourhood</th>\n",
       "      <th>Latitude</th>\n",
       "      <th>Longitude</th>\n",
       "      <th>Cluster Labels</th>\n",
       "      <th>1st Most Common Venue</th>\n",
       "      <th>2nd Most Common Venue</th>\n",
       "      <th>3rd Most Common Venue</th>\n",
       "      <th>4th Most Common Venue</th>\n",
       "      <th>5th Most Common Venue</th>\n",
       "      <th>6th Most Common Venue</th>\n",
       "      <th>7th Most Common Venue</th>\n",
       "      <th>8th Most Common Venue</th>\n",
       "      <th>9th Most Common Venue</th>\n",
       "      <th>10th Most Common Venue</th>\n",
       "    </tr>\n",
       "  </thead>\n",
       "  <tbody>\n",
       "    <tr>\n",
       "      <th>37</th>\n",
       "      <td>M4E</td>\n",
       "      <td>East Toronto</td>\n",
       "      <td>The Beaches</td>\n",
       "      <td>43.676357</td>\n",
       "      <td>-79.293031</td>\n",
       "      <td>1</td>\n",
       "      <td>Park</td>\n",
       "      <td>Trail</td>\n",
       "      <td>Health Food Store</td>\n",
       "      <td>Pub</td>\n",
       "      <td>Department Store</td>\n",
       "      <td>Ethiopian Restaurant</td>\n",
       "      <td>Electronics Store</td>\n",
       "      <td>Eastern European Restaurant</td>\n",
       "      <td>Dumpling Restaurant</td>\n",
       "      <td>Donut Shop</td>\n",
       "    </tr>\n",
       "    <tr>\n",
       "      <th>41</th>\n",
       "      <td>M4K</td>\n",
       "      <td>East Toronto</td>\n",
       "      <td>The Danforth West, Riverdale</td>\n",
       "      <td>43.679557</td>\n",
       "      <td>-79.352188</td>\n",
       "      <td>0</td>\n",
       "      <td>Greek Restaurant</td>\n",
       "      <td>Coffee Shop</td>\n",
       "      <td>Italian Restaurant</td>\n",
       "      <td>Ice Cream Shop</td>\n",
       "      <td>Furniture / Home Store</td>\n",
       "      <td>Yoga Studio</td>\n",
       "      <td>Fruit &amp; Vegetable Store</td>\n",
       "      <td>Restaurant</td>\n",
       "      <td>Pub</td>\n",
       "      <td>Pizza Place</td>\n",
       "    </tr>\n",
       "    <tr>\n",
       "      <th>42</th>\n",
       "      <td>M4L</td>\n",
       "      <td>East Toronto</td>\n",
       "      <td>The Beaches West, India Bazaar</td>\n",
       "      <td>43.668999</td>\n",
       "      <td>-79.315572</td>\n",
       "      <td>0</td>\n",
       "      <td>Park</td>\n",
       "      <td>Board Shop</td>\n",
       "      <td>Steakhouse</td>\n",
       "      <td>Sushi Restaurant</td>\n",
       "      <td>Ice Cream Shop</td>\n",
       "      <td>Brewery</td>\n",
       "      <td>Pub</td>\n",
       "      <td>Liquor Store</td>\n",
       "      <td>Fast Food Restaurant</td>\n",
       "      <td>Italian Restaurant</td>\n",
       "    </tr>\n",
       "    <tr>\n",
       "      <th>43</th>\n",
       "      <td>M4M</td>\n",
       "      <td>East Toronto</td>\n",
       "      <td>Studio District</td>\n",
       "      <td>43.659526</td>\n",
       "      <td>-79.340923</td>\n",
       "      <td>0</td>\n",
       "      <td>Café</td>\n",
       "      <td>Coffee Shop</td>\n",
       "      <td>Gastropub</td>\n",
       "      <td>Brewery</td>\n",
       "      <td>Bakery</td>\n",
       "      <td>Italian Restaurant</td>\n",
       "      <td>American Restaurant</td>\n",
       "      <td>Park</td>\n",
       "      <td>Seafood Restaurant</td>\n",
       "      <td>Sandwich Place</td>\n",
       "    </tr>\n",
       "    <tr>\n",
       "      <th>44</th>\n",
       "      <td>M4N</td>\n",
       "      <td>Central Toronto</td>\n",
       "      <td>Lawrence Park</td>\n",
       "      <td>43.728020</td>\n",
       "      <td>-79.388790</td>\n",
       "      <td>4</td>\n",
       "      <td>Park</td>\n",
       "      <td>Swim School</td>\n",
       "      <td>Bus Line</td>\n",
       "      <td>Yoga Studio</td>\n",
       "      <td>Dim Sum Restaurant</td>\n",
       "      <td>Event Space</td>\n",
       "      <td>Ethiopian Restaurant</td>\n",
       "      <td>Electronics Store</td>\n",
       "      <td>Eastern European Restaurant</td>\n",
       "      <td>Dumpling Restaurant</td>\n",
       "    </tr>\n",
       "  </tbody>\n",
       "</table>\n",
       "</div>"
      ],
      "text/plain": [
       "   Postcode          Borough                   Neighbourhood   Latitude  \\\n",
       "37      M4E     East Toronto                     The Beaches  43.676357   \n",
       "41      M4K     East Toronto    The Danforth West, Riverdale  43.679557   \n",
       "42      M4L     East Toronto  The Beaches West, India Bazaar  43.668999   \n",
       "43      M4M     East Toronto                 Studio District  43.659526   \n",
       "44      M4N  Central Toronto                   Lawrence Park  43.728020   \n",
       "\n",
       "    Longitude  Cluster Labels 1st Most Common Venue 2nd Most Common Venue  \\\n",
       "37 -79.293031               1                  Park                 Trail   \n",
       "41 -79.352188               0      Greek Restaurant           Coffee Shop   \n",
       "42 -79.315572               0                  Park            Board Shop   \n",
       "43 -79.340923               0                  Café           Coffee Shop   \n",
       "44 -79.388790               4                  Park           Swim School   \n",
       "\n",
       "   3rd Most Common Venue 4th Most Common Venue   5th Most Common Venue  \\\n",
       "37     Health Food Store                   Pub        Department Store   \n",
       "41    Italian Restaurant        Ice Cream Shop  Furniture / Home Store   \n",
       "42            Steakhouse      Sushi Restaurant          Ice Cream Shop   \n",
       "43             Gastropub               Brewery                  Bakery   \n",
       "44              Bus Line           Yoga Studio      Dim Sum Restaurant   \n",
       "\n",
       "   6th Most Common Venue    7th Most Common Venue  \\\n",
       "37  Ethiopian Restaurant        Electronics Store   \n",
       "41           Yoga Studio  Fruit & Vegetable Store   \n",
       "42               Brewery                      Pub   \n",
       "43    Italian Restaurant      American Restaurant   \n",
       "44           Event Space     Ethiopian Restaurant   \n",
       "\n",
       "          8th Most Common Venue        9th Most Common Venue  \\\n",
       "37  Eastern European Restaurant          Dumpling Restaurant   \n",
       "41                   Restaurant                          Pub   \n",
       "42                 Liquor Store         Fast Food Restaurant   \n",
       "43                         Park           Seafood Restaurant   \n",
       "44            Electronics Store  Eastern European Restaurant   \n",
       "\n",
       "   10th Most Common Venue  \n",
       "37             Donut Shop  \n",
       "41            Pizza Place  \n",
       "42     Italian Restaurant  \n",
       "43         Sandwich Place  \n",
       "44    Dumpling Restaurant  "
      ]
     },
     "execution_count": 255,
     "metadata": {},
     "output_type": "execute_result"
    }
   ],
   "source": [
    "# add clustering labels\n",
    "neighborhoods_venues_sorted.insert(0, 'Cluster Labels', kmeans.labels_)\n",
    "\n",
    "toronto_merged = df4\n",
    "\n",
    "# merge toronto_grouped with toronto_data to add latitude/longitude for each neighborhood\n",
    "toronto_merged = toronto_merged.join(neighborhoods_venues_sorted.set_index('Neighborhood'), on = 'Neighbourhood')\n",
    "\n",
    "toronto_merged.head() # check the last columns!"
   ]
  },
  {
   "cell_type": "markdown",
   "metadata": {},
   "source": [
    "### Vizualizing the output on a map"
   ]
  },
  {
   "cell_type": "code",
   "execution_count": 264,
   "metadata": {},
   "outputs": [],
   "source": [
    "import matplotlib.cm as cm\n",
    "import matplotlib.colors as colors"
   ]
  },
  {
   "cell_type": "code",
   "execution_count": 258,
   "metadata": {},
   "outputs": [
    {
     "data": {
      "text/html": [
       "<div style=\"width:100%;\"><div style=\"position:relative;width:100%;height:0;padding-bottom:60%;\"><iframe src=\"data:text/html;charset=utf-8;base64,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\" style=\"position:absolute;width:100%;height:100%;left:0;top:0;border:none !important;\" allowfullscreen webkitallowfullscreen mozallowfullscreen></iframe></div></div>"
      ],
      "text/plain": [
       "<folium.folium.Map at 0x20e769edc08>"
      ]
     },
     "execution_count": 258,
     "metadata": {},
     "output_type": "execute_result"
    }
   ],
   "source": [
    "# create map of New York using latitude and longitude values\n",
    "map_toronto = folium.Map(location=[latitude, longitude], zoom_start=10)\n",
    "\n",
    "# set color scheme for the clusters\n",
    "x = np.arange(kclusters)\n",
    "ys = [i + x + (i*x)**2 for i in range(kclusters)]\n",
    "colors_array = cm.rainbow(np.linspace(0, 1, len(ys)))\n",
    "rainbow = [colors.rgb2hex(i) for i in colors_array]\n",
    "\n",
    "# add markers to the map\n",
    "markers_colors = []\n",
    "for lat, lon, poi, cluster in zip(toronto_merged['Latitude'], toronto_merged['Longitude'], toronto_merged['Neighbourhood'], toronto_merged['Cluster Labels']):\n",
    "    label = folium.Popup(str(poi) + ' Cluster ' + str(cluster), parse_html=True)\n",
    "    folium.CircleMarker(\n",
    "        [lat, lon],\n",
    "        radius=5,\n",
    "        popup=label,\n",
    "        color=rainbow[cluster-1],\n",
    "        fill=True,\n",
    "        fill_color=rainbow[cluster-1],\n",
    "        fill_opacity=0.7).add_to(map_toronto)\n",
    "       \n",
    "map_toronto"
   ]
  },
  {
   "cell_type": "markdown",
   "metadata": {},
   "source": [
    "I tried a number of different values for K, but nothing really resulted in greater distribution. It may be more fruitful to look at Greater Toronto as a whole, but it "
   ]
  },
  {
   "cell_type": "markdown",
   "metadata": {},
   "source": [
    "### Results if map does not render"
   ]
  },
  {
   "cell_type": "code",
   "execution_count": 3,
   "metadata": {},
   "outputs": [
    {
     "name": "stdout",
     "output_type": "stream",
     "text": [
      "Populating the interactive namespace from numpy and matplotlib\n"
     ]
    }
   ],
   "source": [
    "%pylab inline\n",
    "#import matplotlib.pyplot as plt\n",
    "#import matplotlib.image as mpimg\n",
    "#img=mpimg.imread('toronto_map.png')\n",
    "#imgplot = plt.imshow(img, size=(8, 6))\n",
    "#plt.show()"
   ]
  }
 ],
 "metadata": {
  "kernelspec": {
   "display_name": "Python 3",
   "language": "python",
   "name": "python3"
  },
  "language_info": {
   "codemirror_mode": {
    "name": "ipython",
    "version": 3
   },
   "file_extension": ".py",
   "mimetype": "text/x-python",
   "name": "python",
   "nbconvert_exporter": "python",
   "pygments_lexer": "ipython3",
   "version": "3.7.4"
  }
 },
 "nbformat": 4,
 "nbformat_minor": 2
}
